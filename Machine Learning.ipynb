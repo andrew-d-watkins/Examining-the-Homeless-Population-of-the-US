{
 "cells": [
  {
   "cell_type": "markdown",
   "metadata": {},
   "source": [
    "# Examining the Homeless Population of the United States\n",
    "By Andrew Watkins"
   ]
  },
  {
   "cell_type": "markdown",
   "metadata": {},
   "source": [
    "## Machine Learning"
   ]
  },
  {
   "cell_type": "code",
   "execution_count": 1,
   "metadata": {},
   "outputs": [],
   "source": [
    "#Data Wrangling from previous section\n",
    "import pandas as pd\n",
    "import numpy as np\n",
    "import matplotlib.pyplot as plt\n",
    "import seaborn as sns\n",
    "\n",
    "#Name the files to use\n",
    "file_hic_state = 'data/2007-2017-HIC-Counts-by-State.xlsx'\n",
    "file_pit_state = 'data/2007-2017-PIT-Counts-by-State.xlsx'\n",
    "\n",
    "# Load spreadsheet\n",
    "hic_state = pd.ExcelFile(file_hic_state)\n",
    "pit_state = pd.ExcelFile(file_pit_state)\n",
    "\n",
    "#HIC\n",
    "df_hic = pd.DataFrame()\n",
    "\n",
    "#concat the rest of the sheets to the original df\n",
    "for sheet in range(2007, 2018): \n",
    "    excel_sheet = hic_state.parse(str(sheet), header=1)\n",
    "    excel_sheet['year'] = str(sheet)\n",
    "    excel_sheet.set_index(['year','State'], inplace=True)\n",
    "    df_hic = pd.concat([df_hic, excel_sheet], axis=0, ignore_index=False, sort=True)\n",
    "    \n",
    "#Columns were named differenlty before 2014 so we will use all the named variations and then combine them.\n",
    "columns_to_use = [ \"Total Year-Round Beds (ES)\",\n",
    "                   \"Total Year-Round ES Beds\",\n",
    "                   \"Total Year-Round Beds (TH)\",\n",
    "                   \"Total Year-Round TH Beds\",\n",
    "                   \"Total Year-Round Beds (SH)\",\n",
    "                   \"Total Year-Round SH Beds\",\n",
    "                   \"Total Year-Round Beds (PSH)\",\n",
    "                   \"Total Year-Round PSH Beds\",\n",
    "                   \"Total Year-Round Beds (RRH)\",\n",
    "                   \"Total Year-Round RRH Beds\",\n",
    "                   \"Total Year-Round Beds (DEM)\",\n",
    "                   \"Total Year-Round Beds (OPH)\",\n",
    "]\n",
    "df_hic = df_hic[columns_to_use]\n",
    "df_hic.fillna(0.0, inplace=True)\n",
    "\n",
    "\n",
    "#Here we combine the coumns that contain the same informaiton but were named differently. \n",
    "df_hic['Total Year-Round Beds (ES)'] = df_hic['Total Year-Round Beds (ES)'] + df_hic['Total Year-Round ES Beds']\n",
    "df_hic['Total Year-Round Beds (TH)'] = df_hic['Total Year-Round Beds (TH)'] + df_hic['Total Year-Round TH Beds']\n",
    "df_hic['Total Year-Round Beds (SH)'] = df_hic['Total Year-Round Beds (SH)'] + df_hic['Total Year-Round SH Beds']\n",
    "df_hic['Total Year-Round Beds (PSH)'] = df_hic['Total Year-Round Beds (PSH)'] + df_hic['Total Year-Round PSH Beds']\n",
    "df_hic['Total Year-Round Beds (RRH)'] = df_hic['Total Year-Round Beds (RRH)'] + df_hic['Total Year-Round RRH Beds']\n",
    "\n",
    "#We drop the extra columns we no longer need.\n",
    "cols_to_drop = ['Total Year-Round ES Beds',\n",
    "                'Total Year-Round TH Beds',\n",
    "                'Total Year-Round SH Beds',\n",
    "                'Total Year-Round PSH Beds',\n",
    "                'Total Year-Round RRH Beds']\n",
    "df_hic.drop(cols_to_drop, axis=1, inplace=True)\n",
    "\n",
    "#PIT\n",
    "#Create a new DF with the rest of the sheets. Which are the homeless population in each state from 2007-2017\n",
    "df_pit = pd.DataFrame()\n",
    "\n",
    "#concat the rest of the sheets to the original df\n",
    "for sheet in range(2007, 2018):\n",
    "    excel_sheet = pit_state.parse(str(sheet))\n",
    "    excel_sheet['year'] = str(sheet)\n",
    "    excel_sheet.set_index(['year','State'], inplace=True)\n",
    "    #rename the columns\n",
    "    cols_to_use = []\n",
    "    for column in excel_sheet.columns:\n",
    "        if column.__contains__(','):\n",
    "            cols_to_use.append(column.split(',')[0])\n",
    "        else:\n",
    "            cols_to_use.append(column)\n",
    "    excel_sheet.columns = cols_to_use\n",
    "    df_pit = pd.concat([df_pit, excel_sheet], axis=0, ignore_index=False, sort=True)\n",
    "    \n",
    "#There are only two with the note. So we just drop them directly. \n",
    "df_pit.drop(level=1, inplace=True, index='Note: The number of CoCs in 2016 was 402. However, MO-604 merged in 2016 and covers territory in both MO and KS, contributing to the PIT count in both states. ')\n",
    "df_pit.drop(level=1, inplace=True, index='Note: The number of CoCs in 2017 was 399. However, MO-604 merged in 2016 and covers territory in both MO and KS, contributing to the PIT count in both states. ')\n",
    "\n",
    "#Grab the 2 columns that we need for now\n",
    "df_pit = df_pit[['Total Homeless', 'Number of CoCs']]\n",
    "df_pit.fillna(0, inplace=True)\n",
    "df_pit.replace(to_replace='.', value='0', inplace=True)\n",
    "df_pit = df_pit.astype(float, copy=False)\n",
    "\n",
    "#Merge both DF (PIT and HIC) and drop some unecessary columns\n",
    "df = pd.concat([df_hic, df_pit], axis=1)\n",
    "df.drop(index=['Total', ' ', 'MP'], level=1, inplace=True)\n",
    "\n",
    "#in 2015 there is a KS with an * that we need to fix\n",
    "df.reset_index(inplace=True)\n",
    "df = df.replace({'State': {'KS*':'KS'}}).groupby(['year','State'], sort=False).sum()\n",
    "\n",
    "#Create an aggregate column of the total of all the beds.\n",
    "df['Total Beds'] = df_hic['Total Year-Round Beds (ES)'] + df_hic['Total Year-Round Beds (TH)'] + df_hic['Total Year-Round Beds (SH)'] + df_hic['Total Year-Round Beds (PSH)'] + df_hic['Total Year-Round Beds (RRH)'] + df_hic['Total Year-Round Beds (DEM)'] + df_hic['Total Year-Round Beds (OPH)']\n",
    "\n",
    "#Add a column of change to date \n",
    "df['Change to date'] = (df['Total Homeless'] - df.loc['2007','Total Homeless']) / (df.loc['2007','Total Homeless'])\n",
    "\n",
    "#get the length of states and crate an empty list\n",
    "length = len(df.loc['2007'])\n",
    "last_year_changes = list()\n",
    "\n",
    "#pad the list with zeros as 2007 has no population change.\n",
    "for state in df.loc['2007','Total Homeless']:\n",
    "    last_year_changes.append(0)\n",
    "\n",
    "#loop through the years and calculate the population percentage change \n",
    "for year in range(2008, 2018):\n",
    "    listy = pd.Series.tolist((df.loc[str(year), 'Total Homeless'] - df.loc[str(year-1),'Total Homeless']) / (df.loc[str(year-1),'Total Homeless']))\n",
    "    last_year_changes = last_year_changes + listy\n",
    "\n",
    "#add the list of changes to the dataframe\n",
    "df['Change from last year'] = last_year_changes\n",
    "\n",
    "#add the able column based on the 'Change to date' or 'Change from last year' columns\n",
    "df['Able'] = (df['Change to date'].map(lambda x: x < 0.00)) & (df['Change from last year'].map(lambda x: x < 0.00))"
   ]
  },
  {
   "cell_type": "markdown",
   "metadata": {},
   "source": [
    "ML Models\n",
    "-Linear Regression\n",
    "-Logistic Regression (How to divide/classify the total amount of beds?)\n",
    "-Decision Tree\n",
    "-SVM\n",
    "-Naive Bayes\n",
    "-K-Means\n",
    "-Random Forests"
   ]
  },
  {
   "cell_type": "markdown",
   "metadata": {},
   "source": [
    "# Section:  Linear Regression"
   ]
  },
  {
   "cell_type": "code",
   "execution_count": 2,
   "metadata": {},
   "outputs": [],
   "source": [
    "#additional imports needed for ML\n",
    "from sklearn.model_selection import train_test_split"
   ]
  },
  {
   "cell_type": "code",
   "execution_count": 3,
   "metadata": {},
   "outputs": [],
   "source": [
    "#We now need to create a train-test split in our data that we will use on all our models.\n",
    "X=df['Total Homeless'].values.reshape(-1,1)\n",
    "y=df['Total Beds'].values.reshape(-1,1)\n",
    "\n",
    "X_train, X_test, y_train, y_test = train_test_split(X, y, test_size = 0.2, random_state=42)"
   ]
  },
  {
   "cell_type": "code",
   "execution_count": 4,
   "metadata": {},
   "outputs": [],
   "source": [
    "#drop CA and NY\n",
    "df_min = df.drop(index=['CA', 'NY'], level=1)\n",
    "\n",
    "#We now need to create a train-test split in our data that we will use on all our models.\n",
    "X_min=df_min['Total Homeless'].values.reshape(-1,1)\n",
    "y_min=df_min['Total Beds'].values.reshape(-1,1)\n",
    "\n",
    "X_train_min, X_test_min, y_train_min, y_test_min = train_test_split(X_min, y_min, test_size = 0.2, random_state=42)"
   ]
  },
  {
   "cell_type": "code",
   "execution_count": 5,
   "metadata": {},
   "outputs": [],
   "source": [
    "df_linear_scoring = pd.DataFrame()"
   ]
  },
  {
   "cell_type": "markdown",
   "metadata": {},
   "source": [
    "## Linear Regression"
   ]
  },
  {
   "cell_type": "code",
   "execution_count": 6,
   "metadata": {},
   "outputs": [],
   "source": [
    "from sklearn import linear_model\n",
    "import statsmodels.api as sm\n",
    "from sklearn.metrics import mean_squared_error"
   ]
  },
  {
   "cell_type": "code",
   "execution_count": 7,
   "metadata": {},
   "outputs": [
    {
     "name": "stdout",
     "output_type": "stream",
     "text": [
      "R^2:  0.8943233585662147\n",
      "Root Mean Squared Error:  5202.40369865816\n"
     ]
    }
   ],
   "source": [
    "#Create linear regression object\n",
    "model = linear_model.LinearRegression()\n",
    "    \n",
    "# Train the model using the training sets and check score\n",
    "model.fit(X_train, y_train)\n",
    "    \n",
    "#Predict Output\n",
    "y_pred = model.predict(X_test)\n",
    "\n",
    "# Compute R^2 and RMSE\n",
    "r_square = model.score(X_test, y_test)\n",
    "rmse = np.sqrt(mean_squared_error(y_test, y_pred))\n",
    "\n",
    "#Add them to the scoring DF\n",
    "scores = [r_square, rmse]\n",
    "df_linear_scoring['Linear Regression'] = scores\n",
    "df_linear_scoring.index = ['R square', 'RMSE'] #add  the indexes now\n",
    "\n",
    "#Print R^2 and RMSE\n",
    "print(\"R^2: \", r_square)\n",
    "print(\"Root Mean Squared Error: \", rmse)"
   ]
  },
  {
   "cell_type": "markdown",
   "metadata": {},
   "source": [
    "Now we will proceed to do the same models and check how they perform with when we remove the ouliers. \n",
    " "
   ]
  },
  {
   "cell_type": "code",
   "execution_count": 8,
   "metadata": {},
   "outputs": [
    {
     "name": "stdout",
     "output_type": "stream",
     "text": [
      "R^2:  0.6922340355400752\n",
      "Root Mean Squared Error:  5247.726460915807\n"
     ]
    }
   ],
   "source": [
    "# Create linear regression object\n",
    "model = linear_model.LinearRegression()\n",
    "\n",
    "# Train the model using the training sets and check score\n",
    "model.fit(X_train_min, y_train_min)\n",
    "\n",
    "#Predict Output\n",
    "y_pred_min = model.predict(X_test_min)\n",
    "\n",
    "# Compute R^2 and RMSE\n",
    "r_square = model.score(X_test_min, y_test_min)\n",
    "rmse = np.sqrt(mean_squared_error(y_test_min, y_pred_min))\n",
    "\n",
    "#Add them to the scoring DF\n",
    "scores = [r_square, rmse]\n",
    "df_linear_scoring['Linear Regression Min'] = scores\n",
    "\n",
    "#print R^2 and RMSE\n",
    "print(\"R^2: \", r_square)\n",
    "print(\"Root Mean Squared Error: \", rmse)"
   ]
  },
  {
   "cell_type": "markdown",
   "metadata": {},
   "source": [
    "## Ordinary least squares (OLS)"
   ]
  },
  {
   "cell_type": "code",
   "execution_count": 9,
   "metadata": {},
   "outputs": [],
   "source": [
    "from statsmodels.formula.api import ols\n",
    "from patsy.builtins import *"
   ]
  },
  {
   "cell_type": "code",
   "execution_count": 10,
   "metadata": {},
   "outputs": [
    {
     "name": "stdout",
     "output_type": "stream",
     "text": [
      "                             OLS Regression Results                            \n",
      "===============================================================================\n",
      "Dep. Variable:     Q('Total Homeless')   R-squared:                       0.820\n",
      "Model:                             OLS   Adj. R-squared:                  0.820\n",
      "Method:                  Least Squares   F-statistic:                     2697.\n",
      "Date:                 Tue, 19 Mar 2019   Prob (F-statistic):          1.36e-222\n",
      "Time:                         16:20:53   Log-Likelihood:                -6211.7\n",
      "No. Observations:                  594   AIC:                         1.243e+04\n",
      "Df Residuals:                      592   BIC:                         1.244e+04\n",
      "Df Model:                            1                                         \n",
      "Covariance Type:             nonrobust                                         \n",
      "===================================================================================\n",
      "                      coef    std err          t      P>|t|      [0.025      0.975]\n",
      "-----------------------------------------------------------------------------------\n",
      "Intercept       -1048.3932    418.486     -2.505      0.013   -1870.290    -226.496\n",
      "Q('Total Beds')     0.9038      0.017     51.928      0.000       0.870       0.938\n",
      "==============================================================================\n",
      "Omnibus:                      396.669   Durbin-Watson:                   1.628\n",
      "Prob(Omnibus):                  0.000   Jarque-Bera (JB):            10355.029\n",
      "Skew:                           2.525   Prob(JB):                         0.00\n",
      "Kurtosis:                      22.822   Cond. No.                     2.91e+04\n",
      "==============================================================================\n",
      "\n",
      "Warnings:\n",
      "[1] Standard Errors assume that the covariance matrix of the errors is correctly specified.\n",
      "[2] The condition number is large, 2.91e+04. This might indicate that there are\n",
      "strong multicollinearity or other numerical problems.\n"
     ]
    }
   ],
   "source": [
    "model = ols(\"Q('Total Homeless') ~ Q('Total Beds')\", df).fit()\n",
    "\n",
    "r_square = model.rsquared\n",
    "rmse = 0 #cannot compute as the shapes are different\n",
    "\n",
    "#Add them to the scoring DF\n",
    "scores = [r_square, rmse]\n",
    "df_linear_scoring['OLS'] = scores\n",
    "\n",
    "print(model.summary())"
   ]
  },
  {
   "cell_type": "code",
   "execution_count": 11,
   "metadata": {},
   "outputs": [],
   "source": [
    "#add predict and add the score to the df\n",
    "#model."
   ]
  },
  {
   "cell_type": "code",
   "execution_count": 12,
   "metadata": {},
   "outputs": [
    {
     "name": "stdout",
     "output_type": "stream",
     "text": [
      "                             OLS Regression Results                            \n",
      "===============================================================================\n",
      "Dep. Variable:     Q('Total Homeless')   R-squared:                       0.666\n",
      "Model:                             OLS   Adj. R-squared:                  0.665\n",
      "Method:                  Least Squares   F-statistic:                     1134.\n",
      "Date:                 Tue, 19 Mar 2019   Prob (F-statistic):          1.13e-137\n",
      "Time:                         16:20:53   Log-Likelihood:                -5678.3\n",
      "No. Observations:                  572   AIC:                         1.136e+04\n",
      "Df Residuals:                      570   BIC:                         1.137e+04\n",
      "Df Model:                            1                                         \n",
      "Covariance Type:             nonrobust                                         \n",
      "===================================================================================\n",
      "                      coef    std err          t      P>|t|      [0.025      0.975]\n",
      "-----------------------------------------------------------------------------------\n",
      "Intercept         348.8013    303.296      1.150      0.251    -246.913     944.516\n",
      "Q('Total Beds')     0.7357      0.022     33.678      0.000       0.693       0.779\n",
      "==============================================================================\n",
      "Omnibus:                      347.723   Durbin-Watson:                   1.606\n",
      "Prob(Omnibus):                  0.000   Jarque-Bera (JB):             5470.158\n",
      "Skew:                           2.372   Prob(JB):                         0.00\n",
      "Kurtosis:                      17.388   Cond. No.                     2.03e+04\n",
      "==============================================================================\n",
      "\n",
      "Warnings:\n",
      "[1] Standard Errors assume that the covariance matrix of the errors is correctly specified.\n",
      "[2] The condition number is large, 2.03e+04. This might indicate that there are\n",
      "strong multicollinearity or other numerical problems.\n"
     ]
    }
   ],
   "source": [
    "model = ols(\"Q('Total Homeless') ~ Q('Total Beds')\", df_min).fit()\n",
    "\n",
    "r_square = model.rsquared\n",
    "rmse = 0 #cannot compute as the shapes are different\n",
    "\n",
    "#Add them to the scoring DF\n",
    "scores = [r_square, rmse]\n",
    "df_linear_scoring['OLS Min'] = scores\n",
    "\n",
    "print(model.summary())"
   ]
  },
  {
   "cell_type": "markdown",
   "metadata": {},
   "source": [
    "## Decission Tree"
   ]
  },
  {
   "cell_type": "code",
   "execution_count": 13,
   "metadata": {},
   "outputs": [],
   "source": [
    "#Import Library\n",
    "from sklearn import tree\n",
    "from sklearn.metrics import accuracy_score"
   ]
  },
  {
   "cell_type": "code",
   "execution_count": 14,
   "metadata": {},
   "outputs": [
    {
     "name": "stdout",
     "output_type": "stream",
     "text": [
      "R^2:  0.7557748670573805\n",
      "Root Mean Squared Error:  7908.784208559684\n"
     ]
    }
   ],
   "source": [
    "# Create tree object \n",
    "model = tree.DecisionTreeRegressor() #for regression\n",
    "\n",
    "#Train the model using the training sets and check score\n",
    "model.fit(X_train, y_train)\n",
    "\n",
    "#Predict Output\n",
    "y_pred= model.predict(X_test)\n",
    "\n",
    "# Compute R^2 and RMSE\n",
    "r_square = model.score(X_test, y_test)\n",
    "rmse = np.sqrt(mean_squared_error(y_test, y_pred))\n",
    "\n",
    "#Add them to the scoring DF\n",
    "scores = [r_square, rmse]\n",
    "df_linear_scoring['Decission Tree'] = scores\n",
    "\n",
    "#Print R^2 and RMSE\n",
    "print(\"R^2: \", r_square)\n",
    "print(\"Root Mean Squared Error: \", rmse)"
   ]
  },
  {
   "cell_type": "code",
   "execution_count": 15,
   "metadata": {},
   "outputs": [
    {
     "name": "stdout",
     "output_type": "stream",
     "text": [
      "R^2:  0.5423021831180048\n",
      "Root Mean Squared Error:  6399.562940239509\n"
     ]
    }
   ],
   "source": [
    "# Create tree object \n",
    "model = tree.DecisionTreeRegressor()\n",
    "\n",
    "#Train the model using the training sets and check score\n",
    "model.fit(X_train_min, y_train_min)\n",
    "\n",
    "#Predict Output\n",
    "y_pred_min = model.predict(X_test_min)\n",
    "\n",
    "# Compute R^2 and RMSE\n",
    "r_square = model.score(X_test_min, y_test_min)\n",
    "rmse = np.sqrt(mean_squared_error(y_test_min, y_pred_min))\n",
    "\n",
    "#Add them to the scoring DF\n",
    "scores = [r_square, rmse]\n",
    "df_linear_scoring['Decission Tree Min'] = scores\n",
    "\n",
    "#print R^2 and RMSE\n",
    "print(\"R^2: \", r_square)\n",
    "print(\"Root Mean Squared Error: \", rmse)"
   ]
  },
  {
   "cell_type": "markdown",
   "metadata": {},
   "source": [
    "## KNN"
   ]
  },
  {
   "cell_type": "code",
   "execution_count": 16,
   "metadata": {},
   "outputs": [],
   "source": [
    "#Import Library\n",
    "from sklearn.neighbors import KNeighborsClassifier"
   ]
  },
  {
   "cell_type": "code",
   "execution_count": 17,
   "metadata": {},
   "outputs": [
    {
     "name": "stdout",
     "output_type": "stream",
     "text": [
      "R^2:  0.0\n",
      "Root Mean Squared Error:  7861.49840903718\n"
     ]
    }
   ],
   "source": [
    "# Create KNeighbors classifier object model \n",
    "model = KNeighborsClassifier(n_neighbors=6) # default value for n_neighbors is 5\n",
    "\n",
    "# Train the model using the training sets and check score\n",
    "model.fit(X_train, y_train.ravel())\n",
    "\n",
    "#Predict Output\n",
    "y_pred = model.predict(X_test)\n",
    "\n",
    "# Compute R^2 and RMSE\n",
    "r_square = model.score(X_test, y_test)\n",
    "rmse = np.sqrt(mean_squared_error(y_test, y_pred))\n",
    "\n",
    "#Add them to the scoring DF\n",
    "scores = [r_square, rmse]\n",
    "df_linear_scoring['KNN'] = scores\n",
    "\n",
    "#Print R^2 and RMSE\n",
    "print(\"R^2: \", r_square)\n",
    "print(\"Root Mean Squared Error: \", rmse)"
   ]
  },
  {
   "cell_type": "code",
   "execution_count": 18,
   "metadata": {},
   "outputs": [
    {
     "name": "stdout",
     "output_type": "stream",
     "text": [
      "R^2:  0.0\n",
      "Root Mean Squared Error:  6399.562940239509\n"
     ]
    }
   ],
   "source": [
    "# Create KNeighbors classifier object model \n",
    "model = KNeighborsClassifier(n_neighbors=6) # default value for n_neighbors is 5\n",
    "\n",
    "# Train the model using the training sets and check score\n",
    "model.fit(X_train_min, y_train_min.ravel())\n",
    "\n",
    "#Predict Output\n",
    "y_pred = model.predict(X_test_min)\n",
    "\n",
    "# Compute R^2 and RMSE\n",
    "r_square = model.score(X_test_min, y_test_min)\n",
    "rmse = np.sqrt(mean_squared_error(y_test_min, y_pred_min))\n",
    "\n",
    "#Add them to the scoring DF\n",
    "scores = [r_square, rmse]\n",
    "df_linear_scoring['KNN Min'] = scores\n",
    "\n",
    "#print R^2 and RMSE\n",
    "print(\"R^2: \", r_square)\n",
    "print(\"Root Mean Squared Error: \", rmse)"
   ]
  },
  {
   "cell_type": "markdown",
   "metadata": {},
   "source": [
    "## Random Forest"
   ]
  },
  {
   "cell_type": "code",
   "execution_count": 19,
   "metadata": {},
   "outputs": [],
   "source": [
    "#Import Library\n",
    "import warnings\n",
    "warnings.filterwarnings(\"ignore\", category=DeprecationWarning) \n",
    "from sklearn.ensemble import RandomForestClassifier"
   ]
  },
  {
   "cell_type": "code",
   "execution_count": 20,
   "metadata": {},
   "outputs": [
    {
     "name": "stdout",
     "output_type": "stream",
     "text": [
      "R^2:  0.0\n",
      "Root Mean Squared Error:  7904.531379388097\n"
     ]
    }
   ],
   "source": [
    "# Create Random Forest object\n",
    "model = RandomForestClassifier()\n",
    "\n",
    "# Train the model using the training sets and check score\n",
    "model.fit(X_train, y_train.ravel())\n",
    "\n",
    "#Predict Output\n",
    "y_pred = model.predict(X_test)\n",
    "\n",
    "# Compute R^2 and RMSE\n",
    "r_square = model.score(X_test, y_test)\n",
    "rmse = np.sqrt(mean_squared_error(y_test, y_pred))\n",
    "\n",
    "#Add them to the scoring DF\n",
    "scores = [r_square, rmse]\n",
    "df_linear_scoring['Random Forest'] = scores\n",
    "\n",
    "#Print R^2 and RMSE\n",
    "print(\"R^2: \", r_square)\n",
    "print(\"Root Mean Squared Error: \", rmse)"
   ]
  },
  {
   "cell_type": "code",
   "execution_count": 21,
   "metadata": {},
   "outputs": [
    {
     "name": "stdout",
     "output_type": "stream",
     "text": [
      "R^2:  0.008695652173913044\n",
      "Root Mean Squared Error:  6399.562940239509\n"
     ]
    }
   ],
   "source": [
    "# Create Random Forest object\n",
    "model = RandomForestClassifier()\n",
    "\n",
    "# Train the model using the training sets and check score\n",
    "model.fit(X_train_min, y_train_min.ravel())\n",
    "\n",
    "#Predict Output\n",
    "y_pred = model.predict(X_test_min)\n",
    "\n",
    "# Compute R^2 and RMSE\n",
    "r_square = model.score(X_test_min, y_test_min)\n",
    "rmse = np.sqrt(mean_squared_error(y_test_min, y_pred_min))\n",
    "\n",
    "#Add them to the scoring DF\n",
    "scores = [r_square, rmse]\n",
    "df_linear_scoring['Random Forest Min'] = scores\n",
    "\n",
    "#print R^2 and RMSE\n",
    "print(\"R^2: \", r_square)\n",
    "print(\"Root Mean Squared Error: \", rmse)"
   ]
  },
  {
   "cell_type": "code",
   "execution_count": 22,
   "metadata": {},
   "outputs": [
    {
     "data": {
      "text/html": [
       "<div>\n",
       "<style scoped>\n",
       "    .dataframe tbody tr th:only-of-type {\n",
       "        vertical-align: middle;\n",
       "    }\n",
       "\n",
       "    .dataframe tbody tr th {\n",
       "        vertical-align: top;\n",
       "    }\n",
       "\n",
       "    .dataframe thead th {\n",
       "        text-align: right;\n",
       "    }\n",
       "</style>\n",
       "<table border=\"1\" class=\"dataframe\">\n",
       "  <thead>\n",
       "    <tr style=\"text-align: right;\">\n",
       "      <th></th>\n",
       "      <th>Linear Regression</th>\n",
       "      <th>Linear Regression Min</th>\n",
       "      <th>OLS</th>\n",
       "      <th>OLS Min</th>\n",
       "      <th>Decission Tree</th>\n",
       "      <th>Decission Tree Min</th>\n",
       "      <th>KNN</th>\n",
       "      <th>KNN Min</th>\n",
       "      <th>Random Forest</th>\n",
       "      <th>Random Forest Min</th>\n",
       "    </tr>\n",
       "  </thead>\n",
       "  <tbody>\n",
       "    <tr>\n",
       "      <th>R square</th>\n",
       "      <td>0.894323</td>\n",
       "      <td>0.692234</td>\n",
       "      <td>0.819979</td>\n",
       "      <td>0.665533</td>\n",
       "      <td>0.755775</td>\n",
       "      <td>0.542302</td>\n",
       "      <td>0.000000</td>\n",
       "      <td>0.00000</td>\n",
       "      <td>0.000000</td>\n",
       "      <td>0.008696</td>\n",
       "    </tr>\n",
       "    <tr>\n",
       "      <th>RMSE</th>\n",
       "      <td>5202.403699</td>\n",
       "      <td>5247.726461</td>\n",
       "      <td>0.000000</td>\n",
       "      <td>0.000000</td>\n",
       "      <td>7908.784209</td>\n",
       "      <td>6399.562940</td>\n",
       "      <td>7861.498409</td>\n",
       "      <td>6399.56294</td>\n",
       "      <td>7904.531379</td>\n",
       "      <td>6399.562940</td>\n",
       "    </tr>\n",
       "  </tbody>\n",
       "</table>\n",
       "</div>"
      ],
      "text/plain": [
       "          Linear Regression  Linear Regression Min       OLS   OLS Min  \\\n",
       "R square           0.894323               0.692234  0.819979  0.665533   \n",
       "RMSE            5202.403699            5247.726461  0.000000  0.000000   \n",
       "\n",
       "          Decission Tree  Decission Tree Min          KNN     KNN Min  \\\n",
       "R square        0.755775            0.542302     0.000000     0.00000   \n",
       "RMSE         7908.784209         6399.562940  7861.498409  6399.56294   \n",
       "\n",
       "          Random Forest  Random Forest Min  \n",
       "R square       0.000000           0.008696  \n",
       "RMSE        7904.531379        6399.562940  "
      ]
     },
     "execution_count": 22,
     "metadata": {},
     "output_type": "execute_result"
    }
   ],
   "source": [
    "df_linear_scoring.head()"
   ]
  },
  {
   "cell_type": "markdown",
   "metadata": {},
   "source": [
    "# Section: Logistic Regression"
   ]
  },
  {
   "cell_type": "markdown",
   "metadata": {},
   "source": [
    "In this section we will use logistic regression to classify the states. We are going to use a threshold we have determined earlier. The threshold we are going to use is called 'Able', it is a column which indicates True is the state has reduced its homeless population from 2007 and the homeless population has also decressed in the past year."
   ]
  },
  {
   "cell_type": "code",
   "execution_count": 23,
   "metadata": {},
   "outputs": [],
   "source": [
    "#We now need to create a train-test split in our data that we will use on all our models.\n",
    "y=df['Able'].values\n",
    "X=df.drop('Able', axis=1).values\n",
    "\n",
    "X_train, X_test, y_train, y_test = train_test_split(X, y, test_size = 0.2, random_state=42)"
   ]
  },
  {
   "cell_type": "code",
   "execution_count": 24,
   "metadata": {},
   "outputs": [],
   "source": [
    "#Create a df to store the scoring.\n",
    "df_logistic_scoring = pd.DataFrame()"
   ]
  },
  {
   "cell_type": "markdown",
   "metadata": {},
   "source": [
    "## Logistic Regression"
   ]
  },
  {
   "cell_type": "code",
   "execution_count": 25,
   "metadata": {},
   "outputs": [],
   "source": [
    "#Import Library\n",
    "from sklearn.linear_model import LogisticRegression\n",
    "from sklearn.metrics import roc_curve\n",
    "from sklearn.model_selection import cross_val_score\n",
    "from sklearn.metrics import roc_auc_score\n",
    "from sklearn.metrics import confusion_matrix\n",
    "from sklearn.metrics import classification_report"
   ]
  },
  {
   "cell_type": "code",
   "execution_count": 26,
   "metadata": {},
   "outputs": [],
   "source": [
    "# Create logistic regression object\n",
    "model = LogisticRegression()\n",
    "\n",
    "# Train the model using the training sets and check score\n",
    "model.fit(X_train, y_train.ravel())\n",
    "\n",
    "#Predict Output\n",
    "y_pred = model.predict(X_test)"
   ]
  },
  {
   "cell_type": "code",
   "execution_count": 27,
   "metadata": {},
   "outputs": [
    {
     "name": "stdout",
     "output_type": "stream",
     "text": [
      "Accuracy:  0.8319327731092437\n",
      "AUC:  0.9213775178687459\n",
      "AUC scores computed using 5-fold cross-validation:  [0.82784657 0.96022032 0.9124847  0.8862782  0.9235589 ]\n",
      "Confusion Matrix: \n",
      " [[72  9]\n",
      " [11 27]]\n",
      "Calssification Refort: \n",
      "              precision    recall  f1-score   support\n",
      "\n",
      "      False       0.87      0.89      0.88        81\n",
      "       True       0.75      0.71      0.73        38\n",
      "\n",
      "avg / total       0.83      0.83      0.83       119\n",
      "\n"
     ]
    }
   ],
   "source": [
    "#Print Accuracy\n",
    "accuracy = accuracy_score(y_pred, y_test)\n",
    "print('Accuracy: ', accuracy)\n",
    "\n",
    "#Compute predicted probabilities: y_pred_prob\n",
    "y_pred_prob = model.predict_proba(X_test)[:,1]\n",
    "\n",
    "#Compute and print AUC score\n",
    "auc = roc_auc_score(y_test, y_pred_prob)\n",
    "print('AUC: ', auc)\n",
    "\n",
    "#Print list of AUC scores\n",
    "cv_auc = cross_val_score(model, X, y, cv=5, scoring='roc_auc')\n",
    "print('AUC scores computed using 5-fold cross-validation: ', cv_auc)\n",
    "\n",
    "#Compute and print confusion report\n",
    "conf_matrix = confusion_matrix(y_test, y_pred)\n",
    "print('Confusion Matrix: \\n', conf_matrix)\n",
    "\n",
    "#Compute and print classification report\n",
    "class_report = classification_report(y_test, y_pred)\n",
    "print('Calssification Refort: \\n', class_report)\n",
    "\n",
    "scores = [accuracy, auc, cv_auc, conf_matrix]\n",
    "df_logistic_scoring['Logistic Regression'] = scores\n",
    "df_logistic_scoring.index = ['Accuracy', 'AUC', 'AUC cross val', 'Confusion Matrix']"
   ]
  },
  {
   "cell_type": "code",
   "execution_count": 28,
   "metadata": {},
   "outputs": [
    {
     "data": {
      "image/png": "[encoded data removed]",
      "text/plain": [
       "<Figure size 648x504 with 1 Axes>"
      ]
     },
     "metadata": {
      "needs_background": "light"
     },
     "output_type": "display_data"
    }
   ],
   "source": [
    "# Generate ROC curve values\n",
    "fpr, tpr, thresholds = roc_curve(y_test, y_pred_prob)\n",
    "\n",
    "# Plot ROC curve\n",
    "fig, ax = plt.subplots(figsize=(9,7))\n",
    "plt.plot([0, 1], [0, 1], 'k--')\n",
    "plt.plot(fpr, tpr)\n",
    "plt.xlabel('False Positive Rate')\n",
    "plt.ylabel('True Positive Rate')\n",
    "plt.title('ROC Curve')\n",
    "plt.show()"
   ]
  },
  {
   "cell_type": "markdown",
   "metadata": {},
   "source": [
    "## KNN"
   ]
  },
  {
   "cell_type": "code",
   "execution_count": 29,
   "metadata": {},
   "outputs": [],
   "source": [
    "#Import Library\n",
    "from sklearn.neighbors import KNeighborsClassifier\n",
    "from sklearn import model_selection"
   ]
  },
  {
   "cell_type": "code",
   "execution_count": 30,
   "metadata": {},
   "outputs": [],
   "source": [
    "# Create KNeighbors classifier object model \n",
    "model = KNeighborsClassifier(n_neighbors=6) # default value for n_neighbors is 5\n",
    "\n",
    "# Train the model using the training sets and check score\n",
    "model.fit(X_train, y_train)\n",
    "\n",
    "#Predict Output\n",
    "y_pred = model.predict(X_test)"
   ]
  },
  {
   "cell_type": "code",
   "execution_count": 31,
   "metadata": {},
   "outputs": [
    {
     "name": "stdout",
     "output_type": "stream",
     "text": [
      "Accuracy:  0.6386554621848739\n",
      "AUC:  0.6562703053931124\n",
      "AUC scores computed using 5-fold cross-validation:  [0.53775294 0.74235006 0.72796818 0.75391604 0.63925439]\n",
      "Confusion Matrix: \n",
      " [[67 14]\n",
      " [29  9]]\n",
      "Calssification Refort: \n",
      "              precision    recall  f1-score   support\n",
      "\n",
      "      False       0.70      0.83      0.76        81\n",
      "       True       0.39      0.24      0.30        38\n",
      "\n",
      "avg / total       0.60      0.64      0.61       119\n",
      "\n"
     ]
    }
   ],
   "source": [
    "#Print Accuracy\n",
    "accuracy = accuracy_score(y_pred, y_test)\n",
    "print('Accuracy: ', accuracy)\n",
    "\n",
    "#Compute predicted probabilities: y_pred_prob\n",
    "y_pred_prob = model.predict_proba(X_test)[:,1]\n",
    "\n",
    "#Compute and print AUC score\n",
    "auc = roc_auc_score(y_test, y_pred_prob)\n",
    "print('AUC: ', auc)\n",
    "\n",
    "#Print list of AUC scores\n",
    "cv_auc = cross_val_score(model, X, y, cv=5, scoring='roc_auc')\n",
    "print('AUC scores computed using 5-fold cross-validation: ', cv_auc)\n",
    "\n",
    "#Compute and print confusion report\n",
    "conf_matrix = confusion_matrix(y_test, y_pred)\n",
    "print('Confusion Matrix: \\n', conf_matrix)\n",
    "\n",
    "#Compute and print classification report\n",
    "class_report = classification_report(y_test, y_pred)\n",
    "print('Calssification Refort: \\n', class_report)\n",
    "\n",
    "scores = [accuracy, auc, cv_auc, conf_matrix]\n",
    "df_logistic_scoring['KNN'] = scores"
   ]
  },
  {
   "cell_type": "code",
   "execution_count": 32,
   "metadata": {},
   "outputs": [
    {
     "data": {
      "image/png": "[encoded data removed]",
      "text/plain": [
       "<Figure size 648x504 with 1 Axes>"
      ]
     },
     "metadata": {
      "needs_background": "light"
     },
     "output_type": "display_data"
    }
   ],
   "source": [
    "# Compute predicted probabilities\n",
    "y_pred_prob = model.predict_proba(X_test)[:,1]\n",
    "\n",
    "# Generate ROC curve values\n",
    "fpr, tpr, thresholds = roc_curve(y_test, y_pred_prob)\n",
    "\n",
    "# Plot ROC curve\n",
    "fig, ax = plt.subplots(figsize=(9,7))\n",
    "plt.plot([0, 1], [0, 1], 'k--')\n",
    "plt.plot(fpr, tpr)\n",
    "plt.xlabel('False Positive Rate')\n",
    "plt.ylabel('True Positive Rate')\n",
    "plt.title('ROC Curve')\n",
    "plt.show()"
   ]
  },
  {
   "cell_type": "markdown",
   "metadata": {},
   "source": [
    "## K-Means"
   ]
  },
  {
   "cell_type": "code",
   "execution_count": 33,
   "metadata": {},
   "outputs": [],
   "source": [
    "#Import Library\n",
    "from sklearn.cluster import KMeans"
   ]
  },
  {
   "cell_type": "code",
   "execution_count": 34,
   "metadata": {},
   "outputs": [],
   "source": [
    "# Create KNeighbors classifier object model \n",
    "model = KMeans(n_clusters=1)\n",
    "\n",
    "# Train the model using the training sets and check score\n",
    "model.fit(X_train)\n",
    "\n",
    "#Predict Output\n",
    "y_pred = model.predict(X_test)"
   ]
  },
  {
   "cell_type": "code",
   "execution_count": 35,
   "metadata": {},
   "outputs": [
    {
     "name": "stdout",
     "output_type": "stream",
     "text": [
      "Accuracy:  0.680672268907563\n",
      "Confusion Matrix: \n",
      " [[81  0]\n",
      " [38  0]]\n",
      "Calssification Refort: \n",
      "              precision    recall  f1-score   support\n",
      "\n",
      "      False       0.68      1.00      0.81        81\n",
      "       True       0.00      0.00      0.00        38\n",
      "\n",
      "avg / total       0.46      0.68      0.55       119\n",
      "\n"
     ]
    },
    {
     "name": "stderr",
     "output_type": "stream",
     "text": [
      "C:\\Users\\Warvold\\Anaconda3\\lib\\site-packages\\sklearn\\metrics\\classification.py:1135: UndefinedMetricWarning: Precision and F-score are ill-defined and being set to 0.0 in labels with no predicted samples.\n",
      "  'precision', 'predicted', average, warn_for)\n"
     ]
    }
   ],
   "source": [
    "#Print Accuracy\n",
    "accuracy = accuracy_score(y_pred, y_test)\n",
    "print('Accuracy: ', accuracy)\n",
    "\n",
    "#Compute and print confusion report\n",
    "conf_matrix = confusion_matrix(y_test, y_pred)\n",
    "print('Confusion Matrix: \\n', conf_matrix)\n",
    "\n",
    "#Compute and print classification report\n",
    "class_report = classification_report(y_test, y_pred)\n",
    "print('Calssification Refort: \\n', class_report)\n",
    "\n",
    "scores = [accuracy, 0, 0, conf_matrix]\n",
    "df_logistic_scoring['K-Means'] = scores"
   ]
  },
  {
   "cell_type": "markdown",
   "metadata": {},
   "source": [
    "## Descision Tree"
   ]
  },
  {
   "cell_type": "code",
   "execution_count": 36,
   "metadata": {},
   "outputs": [],
   "source": [
    "# Create tree object \n",
    "model = tree.DecisionTreeClassifier()\n",
    "\n",
    "#Train the model using the training sets and check score\n",
    "model.fit(X_train, y_train)\n",
    "\n",
    "#Predict Output\n",
    "y_pred= model.predict(X_test)"
   ]
  },
  {
   "cell_type": "code",
   "execution_count": 37,
   "metadata": {},
   "outputs": [
    {
     "name": "stdout",
     "output_type": "stream",
     "text": [
      "Accuracy:  1.0\n",
      "AUC:  1.0\n",
      "AUC scores computed using 5-fold cross-validation:  [0.95348837 1.         1.         1.         1.        ]\n",
      "Confusion Matrix: \n",
      " [[81  0]\n",
      " [ 0 38]]\n",
      "Calssification Refort: \n",
      "              precision    recall  f1-score   support\n",
      "\n",
      "      False       1.00      1.00      1.00        81\n",
      "       True       1.00      1.00      1.00        38\n",
      "\n",
      "avg / total       1.00      1.00      1.00       119\n",
      "\n"
     ]
    }
   ],
   "source": [
    "#Print Accuracy\n",
    "accuracy = accuracy_score(y_pred, y_test)\n",
    "print('Accuracy: ', accuracy)\n",
    "\n",
    "#Compute predicted probabilities: y_pred_prob\n",
    "y_pred_prob = model.predict_proba(X_test)[:,1]\n",
    "\n",
    "#Compute and print AUC score\n",
    "auc = roc_auc_score(y_test, y_pred_prob)\n",
    "print('AUC: ', auc)\n",
    "\n",
    "#Print list of AUC scores\n",
    "cv_auc = cross_val_score(model, X, y, cv=5, scoring='roc_auc')\n",
    "print('AUC scores computed using 5-fold cross-validation: ', cv_auc)\n",
    "\n",
    "#Compute and print confusion report\n",
    "conf_matrix = confusion_matrix(y_test, y_pred)\n",
    "print('Confusion Matrix: \\n', conf_matrix)\n",
    "\n",
    "#Compute and print classification report\n",
    "class_report = classification_report(y_test, y_pred)\n",
    "print('Calssification Refort: \\n', class_report)\n",
    "\n",
    "scores = [accuracy, auc, cv_auc, conf_matrix]\n",
    "df_logistic_scoring['Descision Tree'] = scores"
   ]
  },
  {
   "cell_type": "code",
   "execution_count": 38,
   "metadata": {},
   "outputs": [
    {
     "data": {
      "image/png": "[encoded data removed]",
      "text/plain": [
       "<Figure size 648x504 with 1 Axes>"
      ]
     },
     "metadata": {
      "needs_background": "light"
     },
     "output_type": "display_data"
    }
   ],
   "source": [
    "# Compute predicted probabilities\n",
    "y_pred_prob = model.predict_proba(X_test)[:,1]\n",
    "\n",
    "# Generate ROC curve values\n",
    "fpr, tpr, thresholds = roc_curve(y_test, y_pred_prob)\n",
    "\n",
    "# Plot ROC curve\n",
    "fig, ax = plt.subplots(figsize=(9,7))\n",
    "plt.plot([0, 1], [0, 1], 'k--')\n",
    "plt.plot(fpr, tpr)\n",
    "plt.xlabel('False Positive Rate')\n",
    "plt.ylabel('True Positive Rate')\n",
    "plt.title('ROC Curve')\n",
    "plt.show()"
   ]
  },
  {
   "cell_type": "markdown",
   "metadata": {},
   "source": [
    "## SVM"
   ]
  },
  {
   "cell_type": "code",
   "execution_count": 39,
   "metadata": {},
   "outputs": [],
   "source": [
    "#Import Library\n",
    "from sklearn import svm"
   ]
  },
  {
   "cell_type": "code",
   "execution_count": 40,
   "metadata": {},
   "outputs": [],
   "source": [
    "# Create SVM classification object \n",
    "model = svm.SVC()\n",
    "\n",
    "model.probability=True\n",
    "\n",
    "# Train the model using the training sets and check score\n",
    "model.fit(X_train, y_train)\n",
    "\n",
    "#Predict Output\n",
    "predicted= model.predict(X_test)"
   ]
  },
  {
   "cell_type": "code",
   "execution_count": 41,
   "metadata": {},
   "outputs": [
    {
     "name": "stdout",
     "output_type": "stream",
     "text": [
      "Accuracy:  1.0\n",
      "AUC:  0.4868421052631579\n",
      "AUC scores computed using 5-fold cross-validation:  [0.5 0.5 0.5 0.5 0.5]\n",
      "Confusion Matrix: \n",
      " [[81  0]\n",
      " [ 0 38]]\n",
      "Calssification Refort: \n",
      "              precision    recall  f1-score   support\n",
      "\n",
      "      False       1.00      1.00      1.00        81\n",
      "       True       1.00      1.00      1.00        38\n",
      "\n",
      "avg / total       1.00      1.00      1.00       119\n",
      "\n"
     ]
    }
   ],
   "source": [
    "#Print Accuracy\n",
    "accuracy = accuracy_score(y_pred, y_test)\n",
    "print('Accuracy: ', accuracy)\n",
    "\n",
    "#Compute predicted probabilities: y_pred_prob\n",
    "y_pred_prob = model.predict_proba(X_test)[:,1]\n",
    "\n",
    "#Compute and print AUC score\n",
    "auc = roc_auc_score(y_test, y_pred_prob)\n",
    "print('AUC: ', auc)\n",
    "\n",
    "#Print list of AUC scores\n",
    "cv_auc = cross_val_score(model, X, y, cv=5, scoring='roc_auc')\n",
    "print('AUC scores computed using 5-fold cross-validation: ', cv_auc)\n",
    "\n",
    "#Compute and print confusion report\n",
    "conf_matrix = confusion_matrix(y_test, y_pred)\n",
    "print('Confusion Matrix: \\n', conf_matrix)\n",
    "\n",
    "#Compute and print classification report\n",
    "class_report = classification_report(y_test, y_pred)\n",
    "print('Calssification Refort: \\n', class_report)\n",
    "\n",
    "scores = [accuracy, auc, cv_auc, conf_matrix]\n",
    "df_logistic_scoring['SVM'] = scores"
   ]
  },
  {
   "cell_type": "code",
   "execution_count": 42,
   "metadata": {},
   "outputs": [
    {
     "data": {
      "image/png": "[encoded data removed]",
      "text/plain": [
       "<Figure size 648x504 with 1 Axes>"
      ]
     },
     "metadata": {
      "needs_background": "light"
     },
     "output_type": "display_data"
    }
   ],
   "source": [
    "# Compute predicted probabilities\n",
    "y_pred_prob = model.predict_proba(X_test)[:,1]\n",
    "\n",
    "# Generate ROC curve values\n",
    "fpr, tpr, thresholds = roc_curve(y_test, y_pred_prob)\n",
    "\n",
    "# Plot ROC curve\n",
    "fig, ax = plt.subplots(figsize=(9,7))\n",
    "plt.plot([0, 1], [0, 1], 'k--')\n",
    "plt.plot(fpr, tpr)\n",
    "plt.xlabel('False Positive Rate')\n",
    "plt.ylabel('True Positive Rate')\n",
    "plt.title('ROC Curve')\n",
    "plt.show()"
   ]
  },
  {
   "cell_type": "markdown",
   "metadata": {},
   "source": [
    "## Naive Bayes"
   ]
  },
  {
   "cell_type": "code",
   "execution_count": 43,
   "metadata": {},
   "outputs": [],
   "source": [
    "#Import Library\n",
    "from sklearn.naive_bayes import GaussianNB"
   ]
  },
  {
   "cell_type": "code",
   "execution_count": 44,
   "metadata": {},
   "outputs": [],
   "source": [
    "# Create SVM classification object \n",
    "model = GaussianNB()\n",
    "\n",
    "# Train the model using the training sets and check score\n",
    "model.fit(X_train, y_train)\n",
    "\n",
    "#Predict Output\n",
    "y_pred= model.predict(X_test)"
   ]
  },
  {
   "cell_type": "code",
   "execution_count": 45,
   "metadata": {},
   "outputs": [
    {
     "name": "stdout",
     "output_type": "stream",
     "text": [
      "Accuracy:  0.6302521008403361\n",
      "AUC:  0.6546458739441195\n",
      "AUC scores computed using 5-fold cross-validation:  [0.63243733 0.68145655 0.73439412 0.77255639 0.72258772]\n",
      "Confusion Matrix: \n",
      " [[72  9]\n",
      " [35  3]]\n",
      "Calssification Refort: \n",
      "              precision    recall  f1-score   support\n",
      "\n",
      "      False       0.67      0.89      0.77        81\n",
      "       True       0.25      0.08      0.12        38\n",
      "\n",
      "avg / total       0.54      0.63      0.56       119\n",
      "\n"
     ]
    }
   ],
   "source": [
    "#Print Accuracy\n",
    "accuracy = accuracy_score(y_pred, y_test)\n",
    "print('Accuracy: ', accuracy)\n",
    "\n",
    "#Compute predicted probabilities: y_pred_prob\n",
    "y_pred_prob = model.predict_proba(X_test)[:,1]\n",
    "\n",
    "#Compute and print AUC score\n",
    "auc = roc_auc_score(y_test, y_pred_prob)\n",
    "print('AUC: ', auc)\n",
    "\n",
    "#Print list of AUC scores\n",
    "cv_auc = cross_val_score(model, X, y, cv=5, scoring='roc_auc')\n",
    "print('AUC scores computed using 5-fold cross-validation: ', cv_auc)\n",
    "\n",
    "#Compute and print confusion report\n",
    "conf_matrix = confusion_matrix(y_test, y_pred)\n",
    "print('Confusion Matrix: \\n', conf_matrix)\n",
    "\n",
    "#Compute and print classification report\n",
    "class_report = classification_report(y_test, y_pred)\n",
    "print('Calssification Refort: \\n', class_report)\n",
    "\n",
    "scores = [accuracy, auc, cv_auc, conf_matrix]\n",
    "df_logistic_scoring['Naive Bayes'] = scores"
   ]
  },
  {
   "cell_type": "code",
   "execution_count": 46,
   "metadata": {},
   "outputs": [
    {
     "data": {
      "image/png": "[encoded data removed]",
      "text/plain": [
       "<Figure size 648x504 with 1 Axes>"
      ]
     },
     "metadata": {
      "needs_background": "light"
     },
     "output_type": "display_data"
    }
   ],
   "source": [
    "# Compute predicted probabilities\n",
    "y_pred_prob = model.predict_proba(X_test)[:,1]\n",
    "\n",
    "# Generate ROC curve values\n",
    "fpr, tpr, thresholds = roc_curve(y_test, y_pred_prob)\n",
    "\n",
    "# Plot ROC curve\n",
    "fig, ax = plt.subplots(figsize=(9,7))\n",
    "plt.plot([0, 1], [0, 1], 'k--')\n",
    "plt.plot(fpr, tpr)\n",
    "plt.xlabel('False Positive Rate')\n",
    "plt.ylabel('True Positive Rate')\n",
    "plt.title('ROC Curve')\n",
    "plt.show()"
   ]
  },
  {
   "cell_type": "markdown",
   "metadata": {},
   "source": [
    "## Random Forest"
   ]
  },
  {
   "cell_type": "code",
   "execution_count": 47,
   "metadata": {},
   "outputs": [],
   "source": [
    "# Create Random Forest object\n",
    "model = RandomForestClassifier()\n",
    "\n",
    "# Train the model using the training sets and check score\n",
    "model.fit(X_train, y_train)\n",
    "\n",
    "#Predict Output\n",
    "y_pred = model.predict(X_test)"
   ]
  },
  {
   "cell_type": "code",
   "execution_count": 48,
   "metadata": {},
   "outputs": [
    {
     "name": "stdout",
     "output_type": "stream",
     "text": [
      "Accuracy:  0.9915966386554622\n",
      "AUC:  1.0\n",
      "AUC scores computed using 5-fold cross-validation:  [0.99818786 1.         1.         1.         1.        ]\n",
      "Confusion Matrix: \n",
      " [[81  0]\n",
      " [ 1 37]]\n",
      "Calssification Refort: \n",
      "              precision    recall  f1-score   support\n",
      "\n",
      "      False       0.99      1.00      0.99        81\n",
      "       True       1.00      0.97      0.99        38\n",
      "\n",
      "avg / total       0.99      0.99      0.99       119\n",
      "\n"
     ]
    }
   ],
   "source": [
    "#Print Accuracy\n",
    "accuracy = accuracy_score(y_pred, y_test)\n",
    "print('Accuracy: ', accuracy)\n",
    "\n",
    "#Compute predicted probabilities: y_pred_prob\n",
    "y_pred_prob = model.predict_proba(X_test)[:,1]\n",
    "\n",
    "#Compute and print AUC score\n",
    "auc = roc_auc_score(y_test, y_pred_prob)\n",
    "print('AUC: ', auc)\n",
    "\n",
    "#Print list of AUC scores\n",
    "cv_auc = cross_val_score(model, X, y, cv=5, scoring='roc_auc')\n",
    "print('AUC scores computed using 5-fold cross-validation: ', cv_auc)\n",
    "\n",
    "#Compute and print confusion report\n",
    "conf_matrix = confusion_matrix(y_test, y_pred)\n",
    "print('Confusion Matrix: \\n', conf_matrix)\n",
    "\n",
    "#Compute and print classification report\n",
    "class_report = classification_report(y_test, y_pred)\n",
    "print('Calssification Refort: \\n', class_report)\n",
    "\n",
    "scores = [accuracy, auc, cv_auc, conf_matrix]\n",
    "df_logistic_scoring['Random Forest'] = scores"
   ]
  },
  {
   "cell_type": "code",
   "execution_count": 49,
   "metadata": {},
   "outputs": [
    {
     "data": {
      "image/png": "[encoded data removed]",
      "text/plain": [
       "<Figure size 648x504 with 1 Axes>"
      ]
     },
     "metadata": {
      "needs_background": "light"
     },
     "output_type": "display_data"
    }
   ],
   "source": [
    "# Compute predicted probabilities\n",
    "y_pred_prob = model.predict_proba(X_test)[:,1]\n",
    "\n",
    "# Generate ROC curve values\n",
    "fpr, tpr, thresholds = roc_curve(y_test, y_pred_prob)\n",
    "\n",
    "# Plot ROC curve\n",
    "fig, ax = plt.subplots(figsize=(9,7))\n",
    "plt.plot([0, 1], [0, 1], 'k--')\n",
    "plt.plot(fpr, tpr)\n",
    "plt.xlabel('False Positive Rate')\n",
    "plt.ylabel('True Positive Rate')\n",
    "plt.title('ROC Curve')\n",
    "plt.show()"
   ]
  },
  {
   "cell_type": "code",
   "execution_count": 50,
   "metadata": {},
   "outputs": [
    {
     "data": {
      "text/html": [
       "<div>\n",
       "<style scoped>\n",
       "    .dataframe tbody tr th:only-of-type {\n",
       "        vertical-align: middle;\n",
       "    }\n",
       "\n",
       "    .dataframe tbody tr th {\n",
       "        vertical-align: top;\n",
       "    }\n",
       "\n",
       "    .dataframe thead th {\n",
       "        text-align: right;\n",
       "    }\n",
       "</style>\n",
       "<table border=\"1\" class=\"dataframe\">\n",
       "  <thead>\n",
       "    <tr style=\"text-align: right;\">\n",
       "      <th></th>\n",
       "      <th>Logistic Regression</th>\n",
       "      <th>KNN</th>\n",
       "      <th>K-Means</th>\n",
       "      <th>Descision Tree</th>\n",
       "      <th>SVM</th>\n",
       "      <th>Naive Bayes</th>\n",
       "      <th>Random Forest</th>\n",
       "    </tr>\n",
       "  </thead>\n",
       "  <tbody>\n",
       "    <tr>\n",
       "      <th>Accuracy</th>\n",
       "      <td>0.831933</td>\n",
       "      <td>0.638655</td>\n",
       "      <td>0.680672</td>\n",
       "      <td>1</td>\n",
       "      <td>1</td>\n",
       "      <td>0.630252</td>\n",
       "      <td>0.991597</td>\n",
       "    </tr>\n",
       "    <tr>\n",
       "      <th>AUC</th>\n",
       "      <td>0.921378</td>\n",
       "      <td>0.65627</td>\n",
       "      <td>0</td>\n",
       "      <td>1</td>\n",
       "      <td>0.486842</td>\n",
       "      <td>0.654646</td>\n",
       "      <td>1</td>\n",
       "    </tr>\n",
       "    <tr>\n",
       "      <th>AUC cross val</th>\n",
       "      <td>[0.8278465720326186, 0.960220318237454, 0.9124...</td>\n",
       "      <td>[0.5377529447296889, 0.7423500611995104, 0.727...</td>\n",
       "      <td>0</td>\n",
       "      <td>[0.9534883720930232, 1.0, 1.0, 1.0, 1.0]</td>\n",
       "      <td>[0.5, 0.5, 0.5, 0.5, 0.5]</td>\n",
       "      <td>[0.6324373301117487, 0.6814565483476132, 0.734...</td>\n",
       "      <td>[0.9981878586529749, 1.0, 1.0, 1.0, 0.99999999...</td>\n",
       "    </tr>\n",
       "    <tr>\n",
       "      <th>Confusion Matrix</th>\n",
       "      <td>[[72, 9], [11, 27]]</td>\n",
       "      <td>[[67, 14], [29, 9]]</td>\n",
       "      <td>[[81, 0], [38, 0]]</td>\n",
       "      <td>[[81, 0], [0, 38]]</td>\n",
       "      <td>[[81, 0], [0, 38]]</td>\n",
       "      <td>[[72, 9], [35, 3]]</td>\n",
       "      <td>[[81, 0], [1, 37]]</td>\n",
       "    </tr>\n",
       "  </tbody>\n",
       "</table>\n",
       "</div>"
      ],
      "text/plain": [
       "                                                Logistic Regression  \\\n",
       "Accuracy                                                   0.831933   \n",
       "AUC                                                        0.921378   \n",
       "AUC cross val     [0.8278465720326186, 0.960220318237454, 0.9124...   \n",
       "Confusion Matrix                                [[72, 9], [11, 27]]   \n",
       "\n",
       "                                                                KNN  \\\n",
       "Accuracy                                                   0.638655   \n",
       "AUC                                                         0.65627   \n",
       "AUC cross val     [0.5377529447296889, 0.7423500611995104, 0.727...   \n",
       "Confusion Matrix                                [[67, 14], [29, 9]]   \n",
       "\n",
       "                             K-Means  \\\n",
       "Accuracy                    0.680672   \n",
       "AUC                                0   \n",
       "AUC cross val                      0   \n",
       "Confusion Matrix  [[81, 0], [38, 0]]   \n",
       "\n",
       "                                            Descision Tree  \\\n",
       "Accuracy                                                 1   \n",
       "AUC                                                      1   \n",
       "AUC cross val     [0.9534883720930232, 1.0, 1.0, 1.0, 1.0]   \n",
       "Confusion Matrix                        [[81, 0], [0, 38]]   \n",
       "\n",
       "                                        SVM  \\\n",
       "Accuracy                                  1   \n",
       "AUC                                0.486842   \n",
       "AUC cross val     [0.5, 0.5, 0.5, 0.5, 0.5]   \n",
       "Confusion Matrix         [[81, 0], [0, 38]]   \n",
       "\n",
       "                                                        Naive Bayes  \\\n",
       "Accuracy                                                   0.630252   \n",
       "AUC                                                        0.654646   \n",
       "AUC cross val     [0.6324373301117487, 0.6814565483476132, 0.734...   \n",
       "Confusion Matrix                                 [[72, 9], [35, 3]]   \n",
       "\n",
       "                                                      Random Forest  \n",
       "Accuracy                                                   0.991597  \n",
       "AUC                                                               1  \n",
       "AUC cross val     [0.9981878586529749, 1.0, 1.0, 1.0, 0.99999999...  \n",
       "Confusion Matrix                                 [[81, 0], [1, 37]]  "
      ]
     },
     "execution_count": 50,
     "metadata": {},
     "output_type": "execute_result"
    }
   ],
   "source": [
    "df_logistic_scoring.head()"
   ]
  },
  {
   "cell_type": "code",
   "execution_count": 51,
   "metadata": {},
   "outputs": [
    {
     "data": {
      "text/html": [
       "<div>\n",
       "<style scoped>\n",
       "    .dataframe tbody tr th:only-of-type {\n",
       "        vertical-align: middle;\n",
       "    }\n",
       "\n",
       "    .dataframe tbody tr th {\n",
       "        vertical-align: top;\n",
       "    }\n",
       "\n",
       "    .dataframe thead th {\n",
       "        text-align: right;\n",
       "    }\n",
       "</style>\n",
       "<table border=\"1\" class=\"dataframe\">\n",
       "  <thead>\n",
       "    <tr style=\"text-align: right;\">\n",
       "      <th></th>\n",
       "      <th>Linear Regression</th>\n",
       "      <th>Linear Regression Min</th>\n",
       "      <th>OLS</th>\n",
       "      <th>OLS Min</th>\n",
       "      <th>Decission Tree</th>\n",
       "      <th>Decission Tree Min</th>\n",
       "      <th>KNN</th>\n",
       "      <th>KNN Min</th>\n",
       "      <th>Random Forest</th>\n",
       "      <th>Random Forest Min</th>\n",
       "    </tr>\n",
       "  </thead>\n",
       "  <tbody>\n",
       "    <tr>\n",
       "      <th>R square</th>\n",
       "      <td>0.894323</td>\n",
       "      <td>0.692234</td>\n",
       "      <td>0.819979</td>\n",
       "      <td>0.665533</td>\n",
       "      <td>0.755775</td>\n",
       "      <td>0.542302</td>\n",
       "      <td>0.000000</td>\n",
       "      <td>0.00000</td>\n",
       "      <td>0.000000</td>\n",
       "      <td>0.008696</td>\n",
       "    </tr>\n",
       "    <tr>\n",
       "      <th>RMSE</th>\n",
       "      <td>5202.403699</td>\n",
       "      <td>5247.726461</td>\n",
       "      <td>0.000000</td>\n",
       "      <td>0.000000</td>\n",
       "      <td>7908.784209</td>\n",
       "      <td>6399.562940</td>\n",
       "      <td>7861.498409</td>\n",
       "      <td>6399.56294</td>\n",
       "      <td>7904.531379</td>\n",
       "      <td>6399.562940</td>\n",
       "    </tr>\n",
       "  </tbody>\n",
       "</table>\n",
       "</div>"
      ],
      "text/plain": [
       "          Linear Regression  Linear Regression Min       OLS   OLS Min  \\\n",
       "R square           0.894323               0.692234  0.819979  0.665533   \n",
       "RMSE            5202.403699            5247.726461  0.000000  0.000000   \n",
       "\n",
       "          Decission Tree  Decission Tree Min          KNN     KNN Min  \\\n",
       "R square        0.755775            0.542302     0.000000     0.00000   \n",
       "RMSE         7908.784209         6399.562940  7861.498409  6399.56294   \n",
       "\n",
       "          Random Forest  Random Forest Min  \n",
       "R square       0.000000           0.008696  \n",
       "RMSE        7904.531379        6399.562940  "
      ]
     },
     "execution_count": 51,
     "metadata": {},
     "output_type": "execute_result"
    }
   ],
   "source": [
    "#a reminder of how the linear regression scores look like\n",
    "df_linear_scoring.head()"
   ]
  },
  {
   "cell_type": "markdown",
   "metadata": {},
   "source": [
    "## Final Thoughts"
   ]
  },
  {
   "cell_type": "markdown",
   "metadata": {},
   "source": [
    "In this section we applied both linear and logistic regression to our data. Lets first discuss what we did with our linear regression models. We used 5 different linear regression models on our data to try and predict beds based on the total homeless population. We also used two different datasets one with all the data and another with the ouliers removed. All the models that used the datasets without the outliers performed worse across the board against their counter parts. In addition we had some models that were horrible because they had a R^2 score of 0. The best performing model we had was a simple Linear Regression model with a score of 0.89 and the Ordinary Least Square as a close second with 0.82. These a pretty good models in predicting the ammount of beds a state would get/use to help with their homeless population.\n",
    "\n",
    "In this section we will use logistic regression to classify the states. We are going to use a threshold we have determined earlier. The threshold we are going to use is called 'Able', it is a column which indicates True is the state has reduced its homeless population from 2007 and the homeless population has also decressed in the past year.\n",
    "\n",
    "In this section we did not use the DataFrame without the outliers because we saw that is performed poorly acroos the board and we need all states to be able to classify them. We used 7 different logistic regression models on our data. Almost all our models performed really well, with the exception of K-Means which gave an accuracy score of 0.09 which is very low. Our best performin model is a simple Logistic Regression which gave a perfect score or 1 or 100%. This score at first was very odd but after chaking that all the data was used properly it does not seem to be a mistake. "
   ]
  }
 ],
 "metadata": {
  "kernelspec": {
   "display_name": "Python 3",
   "language": "python",
   "name": "python3"
  },
  "language_info": {
   "codemirror_mode": {
    "name": "ipython",
    "version": 3
   },
   "file_extension": ".py",
   "mimetype": "text/x-python",
   "name": "python",
   "nbconvert_exporter": "python",
   "pygments_lexer": "ipython3",
   "version": "3.7.0"
  }
 },
 "nbformat": 4,
 "nbformat_minor": 2
}
