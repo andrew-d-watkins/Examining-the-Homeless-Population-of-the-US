{
 "cells": [
  {
   "cell_type": "markdown",
   "metadata": {},
   "source": [
    "# Examining the Homeless Population of the United States\n",
    "By Andrew Watkins"
   ]
  },
  {
   "cell_type": "markdown",
   "metadata": {},
   "source": [
    "## Machine Learning"
   ]
  },
  {
   "cell_type": "code",
   "execution_count": 1,
   "metadata": {},
   "outputs": [],
   "source": [
    "#Data Wrangling from previous section\n",
    "import pandas as pd\n",
    "import numpy as np\n",
    "import matplotlib.pyplot as plt\n",
    "import seaborn as sns\n",
    "\n",
    "#Name the files to use\n",
    "file_hic_state = 'data/2007-2017-HIC-Counts-by-State.xlsx'\n",
    "file_pit_state = 'data/2007-2017-PIT-Counts-by-State.xlsx'\n",
    "\n",
    "# Load spreadsheet\n",
    "hic_state = pd.ExcelFile(file_hic_state)\n",
    "pit_state = pd.ExcelFile(file_pit_state)\n",
    "\n",
    "#HIC\n",
    "df_hic = pd.DataFrame()\n",
    "\n",
    "#concat the rest of the sheets to the original df\n",
    "for sheet in range(2007, 2018): \n",
    "    excel_sheet = hic_state.parse(str(sheet), header=1)\n",
    "    excel_sheet['year'] = str(sheet)\n",
    "    excel_sheet.set_index(['year','State'], inplace=True)\n",
    "    df_hic = pd.concat([df_hic, excel_sheet], axis=0, ignore_index=False, sort=True)\n",
    "    \n",
    "#Columns were named differenlty before 2014 so we will use all the named variations and then combine them.\n",
    "columns_to_use = [ \"Total Year-Round Beds (ES)\",\n",
    "                   \"Total Year-Round ES Beds\",\n",
    "                   \"Total Year-Round Beds (TH)\",\n",
    "                   \"Total Year-Round TH Beds\",\n",
    "                   \"Total Year-Round Beds (SH)\",\n",
    "                   \"Total Year-Round SH Beds\",\n",
    "                   \"Total Year-Round Beds (PSH)\",\n",
    "                   \"Total Year-Round PSH Beds\",\n",
    "                   \"Total Year-Round Beds (RRH)\",\n",
    "                   \"Total Year-Round RRH Beds\",\n",
    "                   \"Total Year-Round Beds (DEM)\",\n",
    "                   \"Total Year-Round Beds (OPH)\",\n",
    "]\n",
    "df_hic = df_hic[columns_to_use]\n",
    "df_hic.fillna(0.0, inplace=True)\n",
    "\n",
    "\n",
    "#Here we combine the coumns that contain the same informaiton but were named differently. \n",
    "df_hic['Total Year-Round Beds (ES)'] = df_hic['Total Year-Round Beds (ES)'] + df_hic['Total Year-Round ES Beds']\n",
    "df_hic['Total Year-Round Beds (TH)'] = df_hic['Total Year-Round Beds (TH)'] + df_hic['Total Year-Round TH Beds']\n",
    "df_hic['Total Year-Round Beds (SH)'] = df_hic['Total Year-Round Beds (SH)'] + df_hic['Total Year-Round SH Beds']\n",
    "df_hic['Total Year-Round Beds (PSH)'] = df_hic['Total Year-Round Beds (PSH)'] + df_hic['Total Year-Round PSH Beds']\n",
    "df_hic['Total Year-Round Beds (RRH)'] = df_hic['Total Year-Round Beds (RRH)'] + df_hic['Total Year-Round RRH Beds']\n",
    "\n",
    "#We drop the extra columns we no longer need.\n",
    "cols_to_drop = ['Total Year-Round ES Beds',\n",
    "                'Total Year-Round TH Beds',\n",
    "                'Total Year-Round SH Beds',\n",
    "                'Total Year-Round PSH Beds',\n",
    "                'Total Year-Round RRH Beds']\n",
    "df_hic.drop(cols_to_drop, axis=1, inplace=True)\n",
    "\n",
    "#PIT\n",
    "#Create a new DF with the rest of the sheets. Which are the homeless population in each state from 2007-2017\n",
    "df_pit = pd.DataFrame()\n",
    "\n",
    "#concat the rest of the sheets to the original df\n",
    "for sheet in range(2007, 2018):\n",
    "    excel_sheet = pit_state.parse(str(sheet))\n",
    "    excel_sheet['year'] = str(sheet)\n",
    "    excel_sheet.set_index(['year','State'], inplace=True)\n",
    "    #rename the columns\n",
    "    cols_to_use = []\n",
    "    for column in excel_sheet.columns:\n",
    "        if column.__contains__(','):\n",
    "            cols_to_use.append(column.split(',')[0])\n",
    "        else:\n",
    "            cols_to_use.append(column)\n",
    "    excel_sheet.columns = cols_to_use\n",
    "    df_pit = pd.concat([df_pit, excel_sheet], axis=0, ignore_index=False, sort=True)\n",
    "    \n",
    "#There are only two with the note. So we just drop them directly. \n",
    "df_pit.drop(level=1, inplace=True, index='Note: The number of CoCs in 2016 was 402. However, MO-604 merged in 2016 and covers territory in both MO and KS, contributing to the PIT count in both states. ')\n",
    "df_pit.drop(level=1, inplace=True, index='Note: The number of CoCs in 2017 was 399. However, MO-604 merged in 2016 and covers territory in both MO and KS, contributing to the PIT count in both states. ')\n",
    "\n",
    "#Grab the 2 columns that we need for now\n",
    "df_pit = df_pit[['Total Homeless', 'Number of CoCs']]\n",
    "df_pit.fillna(0, inplace=True)\n",
    "df_pit.replace(to_replace='.', value='0', inplace=True)\n",
    "df_pit = df_pit.astype(float, copy=False)\n",
    "\n",
    "#Merge both DF (PIT and HIC) and drop some unecessary columns\n",
    "df = pd.concat([df_hic, df_pit], axis=1)\n",
    "df.drop(index=['Total', 'KS*', ' ', 'MP'], level=1, inplace=True)\n",
    "\n",
    "#Create an aggregate column of the total of all the beds.\n",
    "df['Total Beds'] = df_hic['Total Year-Round Beds (ES)'] + df_hic['Total Year-Round Beds (TH)'] + df_hic['Total Year-Round Beds (SH)'] + df_hic['Total Year-Round Beds (PSH)'] + df_hic['Total Year-Round Beds (RRH)'] + df_hic['Total Year-Round Beds (DEM)'] + df_hic['Total Year-Round Beds (OPH)']\n",
    "df.fillna(0, inplace=True)"
   ]
  },
  {
   "cell_type": "markdown",
   "metadata": {},
   "source": [
    "ML Models\n",
    "-Linear Regression\n",
    "-Logistic Regression (How to divide/classify the total amount of beds?)\n",
    "-Decision Tree\n",
    "-SVM\n",
    "-Naive Bayes\n",
    "-K-Means\n",
    "-Random Forests"
   ]
  },
  {
   "cell_type": "markdown",
   "metadata": {},
   "source": [
    "# Section:  Linear Regression"
   ]
  },
  {
   "cell_type": "code",
   "execution_count": 2,
   "metadata": {},
   "outputs": [],
   "source": [
    "#additional imports needed for ML\n",
    "from sklearn.model_selection import train_test_split"
   ]
  },
  {
   "cell_type": "code",
   "execution_count": 3,
   "metadata": {},
   "outputs": [],
   "source": [
    "#We now need to create a train-test split in our data that we will use on all our models.\n",
    "X=df['Total Homeless'].values.reshape(-1,1)\n",
    "y=df['Total Beds'].values.reshape(-1,1)\n",
    "\n",
    "X_train, X_test, y_train, y_test = train_test_split(X, y, test_size = 0.2, random_state=42)"
   ]
  },
  {
   "cell_type": "code",
   "execution_count": 4,
   "metadata": {},
   "outputs": [],
   "source": [
    "#drop CA and NY\n",
    "df_min = df.drop(index=['CA', 'NY'], level=1)\n",
    "\n",
    "#We now need to create a train-test split in our data that we will use on all our models.\n",
    "X_min=df_min['Total Homeless'].values.reshape(-1,1)\n",
    "y_min=df_min['Total Beds'].values.reshape(-1,1)\n",
    "\n",
    "X_train_min, X_test_min, y_train_min, y_test_min = train_test_split(X_min, y_min, test_size = 0.2, random_state=42)"
   ]
  },
  {
   "cell_type": "markdown",
   "metadata": {},
   "source": [
    "## Linear Regression"
   ]
  },
  {
   "cell_type": "code",
   "execution_count": 5,
   "metadata": {},
   "outputs": [],
   "source": [
    "from sklearn import linear_model\n",
    "import statsmodels.api as sm\n",
    "from statsmodels.formula.api import ols\n",
    "from sklearn.metrics import mean_squared_error\n",
    "from sklearn.metrics import roc_curve\n",
    "from patsy.builtins import *"
   ]
  },
  {
   "cell_type": "code",
   "execution_count": 6,
   "metadata": {},
   "outputs": [
    {
     "name": "stdout",
     "output_type": "stream",
     "text": [
      "R^2: 0.8942869051025861\n",
      "Root Mean Squared Error: 5203.300913404746\n"
     ]
    }
   ],
   "source": [
    "# Create linear regression object\n",
    "model = linear_model.LinearRegression()\n",
    "\n",
    "# Train the model using the training sets and check score\n",
    "model.fit(X_train, y_train)\n",
    "\n",
    "#Predict Output\n",
    "y_pred = model.predict(X_test)\n",
    "\n",
    "# Compute and print R^2 and RMSE\n",
    "print(\"R^2: {}\".format(model.score(X_test, y_test)))\n",
    "rmse = np.sqrt(mean_squared_error(y_test, y_pred))\n",
    "print(\"Root Mean Squared Error: {}\".format(rmse))"
   ]
  },
  {
   "cell_type": "code",
   "execution_count": 7,
   "metadata": {},
   "outputs": [
    {
     "name": "stdout",
     "output_type": "stream",
     "text": [
      "                             OLS Regression Results                            \n",
      "===============================================================================\n",
      "Dep. Variable:     Q('Total Homeless')   R-squared:                       0.820\n",
      "Model:                             OLS   Adj. R-squared:                  0.820\n",
      "Method:                  Least Squares   F-statistic:                     2696.\n",
      "Date:                 Tue, 05 Mar 2019   Prob (F-statistic):          1.37e-222\n",
      "Time:                         14:27:55   Log-Likelihood:                -6211.8\n",
      "No. Observations:                  594   AIC:                         1.243e+04\n",
      "Df Residuals:                      592   BIC:                         1.244e+04\n",
      "Df Model:                            1                                         \n",
      "Covariance Type:             nonrobust                                         \n",
      "===================================================================================\n",
      "                      coef    std err          t      P>|t|      [0.025      0.975]\n",
      "-----------------------------------------------------------------------------------\n",
      "Intercept       -1054.4702    418.539     -2.519      0.012   -1876.472    -232.469\n",
      "Q('Total Beds')     0.9039      0.017     51.927      0.000       0.870       0.938\n",
      "==============================================================================\n",
      "Omnibus:                      396.484   Durbin-Watson:                   1.628\n",
      "Prob(Omnibus):                  0.000   Jarque-Bera (JB):            10340.925\n",
      "Skew:                           2.523   Prob(JB):                         0.00\n",
      "Kurtosis:                      22.808   Cond. No.                     2.91e+04\n",
      "==============================================================================\n",
      "\n",
      "Warnings:\n",
      "[1] Standard Errors assume that the covariance matrix of the errors is correctly specified.\n",
      "[2] The condition number is large, 2.91e+04. This might indicate that there are\n",
      "strong multicollinearity or other numerical problems.\n"
     ]
    }
   ],
   "source": [
    "model = ols(\"Q('Total Homeless') ~ Q('Total Beds')\", df).fit()\n",
    "print(model.summary())"
   ]
  },
  {
   "cell_type": "markdown",
   "metadata": {},
   "source": [
    " \n",
    " \n",
    "### We now do the same operations with the min df.\n",
    " \n",
    " "
   ]
  },
  {
   "cell_type": "code",
   "execution_count": 8,
   "metadata": {},
   "outputs": [
    {
     "name": "stdout",
     "output_type": "stream",
     "text": [
      "R^2: 0.6921948861246401\n",
      "Root Mean Squared Error: 5248.060219215974\n"
     ]
    }
   ],
   "source": [
    "# Create linear regression object\n",
    "model = linear_model.LinearRegression()\n",
    "\n",
    "# Train the model using the training sets and check score\n",
    "model.fit(X_train_min, y_train_min)\n",
    "\n",
    "#Predict Output\n",
    "y_pred_min = model.predict(X_test_min)\n",
    "\n",
    "# Compute and print R^2 and RMSE\n",
    "print(\"R^2: {}\".format(model.score(X_test_min, y_test_min)))\n",
    "rmse_min = np.sqrt(mean_squared_error(y_test_min, y_pred_min))\n",
    "print(\"Root Mean Squared Error: {}\".format(rmse_min))"
   ]
  },
  {
   "cell_type": "code",
   "execution_count": 9,
   "metadata": {},
   "outputs": [
    {
     "name": "stdout",
     "output_type": "stream",
     "text": [
      "                             OLS Regression Results                            \n",
      "===============================================================================\n",
      "Dep. Variable:     Q('Total Homeless')   R-squared:                       0.665\n",
      "Model:                             OLS   Adj. R-squared:                  0.665\n",
      "Method:                  Least Squares   F-statistic:                     1134.\n",
      "Date:                 Tue, 05 Mar 2019   Prob (F-statistic):          1.18e-137\n",
      "Time:                         14:27:55   Log-Likelihood:                -5678.6\n",
      "No. Observations:                  572   AIC:                         1.136e+04\n",
      "Df Residuals:                      570   BIC:                         1.137e+04\n",
      "Df Model:                            1                                         \n",
      "Covariance Type:             nonrobust                                         \n",
      "===================================================================================\n",
      "                      coef    std err          t      P>|t|      [0.025      0.975]\n",
      "-----------------------------------------------------------------------------------\n",
      "Intercept         341.0452    303.447      1.124      0.262    -254.965     937.055\n",
      "Q('Total Beds')     0.7360      0.022     33.674      0.000       0.693       0.779\n",
      "==============================================================================\n",
      "Omnibus:                      347.143   Durbin-Watson:                   1.605\n",
      "Prob(Omnibus):                  0.000   Jarque-Bera (JB):             5444.021\n",
      "Skew:                           2.368   Prob(JB):                         0.00\n",
      "Kurtosis:                      17.353   Cond. No.                     2.03e+04\n",
      "==============================================================================\n",
      "\n",
      "Warnings:\n",
      "[1] Standard Errors assume that the covariance matrix of the errors is correctly specified.\n",
      "[2] The condition number is large, 2.03e+04. This might indicate that there are\n",
      "strong multicollinearity or other numerical problems.\n"
     ]
    }
   ],
   "source": [
    "model = ols(\"Q('Total Homeless') ~ Q('Total Beds')\", df_min).fit()\n",
    "print(model.summary())"
   ]
  },
  {
   "cell_type": "markdown",
   "metadata": {},
   "source": [
    "## Decission Tree"
   ]
  },
  {
   "cell_type": "code",
   "execution_count": 10,
   "metadata": {},
   "outputs": [],
   "source": [
    "#Import Library\n",
    "from sklearn import tree\n",
    "from sklearn.metrics import accuracy_score"
   ]
  },
  {
   "cell_type": "code",
   "execution_count": 11,
   "metadata": {},
   "outputs": [
    {
     "name": "stdout",
     "output_type": "stream",
     "text": [
      "R^2: 0.7557748670573805\n",
      "Root Mean Squared Error: 7908.784208559684\n"
     ]
    }
   ],
   "source": [
    "# Create tree object \n",
    "model = tree.DecisionTreeRegressor() #for regression\n",
    "\n",
    "#Train the model using the training sets and check score\n",
    "model.fit(X_train, y_train)\n",
    "\n",
    "#Predict Output\n",
    "y_pred= model.predict(X_test)\n",
    "\n",
    "# Compute and print R^2 and RMSE\n",
    "print(\"R^2: {}\".format(model.score(X_test, y_test)))\n",
    "rmse = np.sqrt(mean_squared_error(y_test, y_pred))\n",
    "print(\"Root Mean Squared Error: {}\".format(rmse))"
   ]
  },
  {
   "cell_type": "code",
   "execution_count": 12,
   "metadata": {},
   "outputs": [
    {
     "name": "stdout",
     "output_type": "stream",
     "text": [
      "R^2: 0.5423021831180048\n",
      "Root Mean Squared Error: 6399.562940239509\n"
     ]
    }
   ],
   "source": [
    "# Create tree object \n",
    "model = tree.DecisionTreeRegressor()\n",
    "\n",
    "#Train the model using the training sets and check score\n",
    "model.fit(X_train_min, y_train_min)\n",
    "\n",
    "#Predict Output\n",
    "y_pred_min = model.predict(X_test_min)\n",
    "\n",
    "# Compute and print R^2 and RMSE\n",
    "print(\"R^2: {}\".format(model.score(X_test_min, y_test_min)))\n",
    "rmse = np.sqrt(mean_squared_error(y_test_min, y_pred_min))\n",
    "print(\"Root Mean Squared Error: {}\".format(rmse))"
   ]
  },
  {
   "cell_type": "markdown",
   "metadata": {},
   "source": [
    "## KNN"
   ]
  },
  {
   "cell_type": "code",
   "execution_count": 13,
   "metadata": {},
   "outputs": [],
   "source": [
    "#Import Library\n",
    "from sklearn.neighbors import KNeighborsClassifier"
   ]
  },
  {
   "cell_type": "code",
   "execution_count": 14,
   "metadata": {},
   "outputs": [
    {
     "name": "stdout",
     "output_type": "stream",
     "text": [
      "R^2: 0.0\n",
      "Root Mean Squared Error: 7908.784208559684\n"
     ]
    }
   ],
   "source": [
    "# Create KNeighbors classifier object model \n",
    "model = KNeighborsClassifier(n_neighbors=6) # default value for n_neighbors is 5\n",
    "\n",
    "# Train the model using the training sets and check score\n",
    "model.fit(X_train, y_train.ravel())\n",
    "\n",
    "#Predict Output\n",
    "predicted= model.predict(X_test)\n",
    "\n",
    "# Compute and print R^2 and RMSE\n",
    "print(\"R^2: {}\".format(model.score(X_test, y_test)))\n",
    "rmse = np.sqrt(mean_squared_error(y_test, y_pred))\n",
    "print(\"Root Mean Squared Error: {}\".format(rmse))"
   ]
  },
  {
   "cell_type": "markdown",
   "metadata": {},
   "source": [
    "WHat threshold or category should I create?"
   ]
  },
  {
   "cell_type": "code",
   "execution_count": 40,
   "metadata": {},
   "outputs": [
    {
     "name": "stdout",
     "output_type": "stream",
     "text": [
      "R^2: 0.0\n",
      "Root Mean Squared Error: 6399.562940239509\n"
     ]
    }
   ],
   "source": [
    "# Create KNeighbors classifier object model \n",
    "model = KNeighborsClassifier(n_neighbors=6) # default value for n_neighbors is 5\n",
    "\n",
    "# Train the model using the training sets and check score\n",
    "model.fit(X_train_min, y_train_min.ravel())\n",
    "\n",
    "#Predict Output\n",
    "y_pred = model.predict(X_test_min)\n",
    "\n",
    "# Compute and print R^2 and RMSE\n",
    "print(\"R^2: {}\".format(model.score(X_test_min, y_test_min)))\n",
    "rmse = np.sqrt(mean_squared_error(y_test_min, y_pred_min))\n",
    "print(\"Root Mean Squared Error: {}\".format(rmse))"
   ]
  },
  {
   "cell_type": "markdown",
   "metadata": {},
   "source": [
    "## Random Forest"
   ]
  },
  {
   "cell_type": "code",
   "execution_count": 39,
   "metadata": {},
   "outputs": [],
   "source": [
    "#Import Library\n",
    "from sklearn.ensemble import RandomForestClassifier\n",
    "import warnings\n",
    "warnings.filterwarnings(\"ignore\", category=DeprecationWarning) "
   ]
  },
  {
   "cell_type": "code",
   "execution_count": 17,
   "metadata": {},
   "outputs": [
    {
     "name": "stdout",
     "output_type": "stream",
     "text": [
      "R^2: 0.0\n",
      "Root Mean Squared Error: 7939.82140169137\n"
     ]
    }
   ],
   "source": [
    "# Create Random Forest object\n",
    "model = RandomForestClassifier()\n",
    "\n",
    "# Train the model using the training sets and check score\n",
    "model.fit(X_train, y_train.ravel())\n",
    "\n",
    "#Predict Output\n",
    "y_pred = model.predict(X_test)\n",
    "\n",
    "# Compute and print R^2 and RMSE\n",
    "print(\"R^2: {}\".format(model.score(X_test, y_test)))\n",
    "rmse = np.sqrt(mean_squared_error(y_test, y_pred))\n",
    "print(\"Root Mean Squared Error: {}\".format(rmse))"
   ]
  },
  {
   "cell_type": "code",
   "execution_count": 38,
   "metadata": {},
   "outputs": [
    {
     "name": "stdout",
     "output_type": "stream",
     "text": [
      "R^2: 0.008695652173913044\n",
      "Root Mean Squared Error: 6399.562940239509\n"
     ]
    }
   ],
   "source": [
    "# Create Random Forest object\n",
    "model = RandomForestClassifier()\n",
    "\n",
    "# Train the model using the training sets and check score\n",
    "model.fit(X_train_min, y_train_min.ravel())\n",
    "\n",
    "#Predict Output\n",
    "y_pred = model.predict(X_test_min)\n",
    "\n",
    "# Compute and print R^2 and RMSE\n",
    "print(\"R^2: {}\".format(model.score(X_test_min, y_test_min)))\n",
    "rmse = np.sqrt(mean_squared_error(y_test_min, y_pred_min))\n",
    "print(\"Root Mean Squared Error: {}\".format(rmse))"
   ]
  },
  {
   "cell_type": "markdown",
   "metadata": {},
   "source": [
    "# Section: Logistic Regression"
   ]
  },
  {
   "cell_type": "markdown",
   "metadata": {},
   "source": [
    "To be able to do some logistic regression we need to create or determine a threshold for our data to be able to determine if the threshold is met. The threshold we are going to use is 'Able', we want to classify if the state is able to handle the Homeless popualtion based on the beds they have. "
   ]
  },
  {
   "cell_type": "code",
   "execution_count": 20,
   "metadata": {},
   "outputs": [
    {
     "data": {
      "text/html": [
       "<div>\n",
       "<style scoped>\n",
       "    .dataframe tbody tr th:only-of-type {\n",
       "        vertical-align: middle;\n",
       "    }\n",
       "\n",
       "    .dataframe tbody tr th {\n",
       "        vertical-align: top;\n",
       "    }\n",
       "\n",
       "    .dataframe thead th {\n",
       "        text-align: right;\n",
       "    }\n",
       "</style>\n",
       "<table border=\"1\" class=\"dataframe\">\n",
       "  <thead>\n",
       "    <tr style=\"text-align: right;\">\n",
       "      <th></th>\n",
       "      <th></th>\n",
       "      <th>Total Year-Round Beds (ES)</th>\n",
       "      <th>Total Year-Round Beds (TH)</th>\n",
       "      <th>Total Year-Round Beds (SH)</th>\n",
       "      <th>Total Year-Round Beds (PSH)</th>\n",
       "      <th>Total Year-Round Beds (RRH)</th>\n",
       "      <th>Total Year-Round Beds (DEM)</th>\n",
       "      <th>Total Year-Round Beds (OPH)</th>\n",
       "      <th>Total Beds</th>\n",
       "    </tr>\n",
       "    <tr>\n",
       "      <th>year</th>\n",
       "      <th>State</th>\n",
       "      <th></th>\n",
       "      <th></th>\n",
       "      <th></th>\n",
       "      <th></th>\n",
       "      <th></th>\n",
       "      <th></th>\n",
       "      <th></th>\n",
       "      <th></th>\n",
       "    </tr>\n",
       "  </thead>\n",
       "  <tbody>\n",
       "    <tr>\n",
       "      <th rowspan=\"5\" valign=\"top\">2007</th>\n",
       "      <th>AK</th>\n",
       "      <td>1095.0</td>\n",
       "      <td>663.0</td>\n",
       "      <td>0.0</td>\n",
       "      <td>489.0</td>\n",
       "      <td>0.0</td>\n",
       "      <td>0.0</td>\n",
       "      <td>0.0</td>\n",
       "      <td>2247.0</td>\n",
       "    </tr>\n",
       "    <tr>\n",
       "      <th>AL</th>\n",
       "      <td>1766.0</td>\n",
       "      <td>2607.0</td>\n",
       "      <td>0.0</td>\n",
       "      <td>2420.0</td>\n",
       "      <td>0.0</td>\n",
       "      <td>0.0</td>\n",
       "      <td>0.0</td>\n",
       "      <td>6793.0</td>\n",
       "    </tr>\n",
       "    <tr>\n",
       "      <th>AR</th>\n",
       "      <td>1483.0</td>\n",
       "      <td>1109.0</td>\n",
       "      <td>0.0</td>\n",
       "      <td>1538.0</td>\n",
       "      <td>0.0</td>\n",
       "      <td>0.0</td>\n",
       "      <td>0.0</td>\n",
       "      <td>4130.0</td>\n",
       "    </tr>\n",
       "    <tr>\n",
       "      <th>AZ</th>\n",
       "      <td>3736.0</td>\n",
       "      <td>5597.0</td>\n",
       "      <td>0.0</td>\n",
       "      <td>3019.0</td>\n",
       "      <td>0.0</td>\n",
       "      <td>0.0</td>\n",
       "      <td>0.0</td>\n",
       "      <td>12352.0</td>\n",
       "    </tr>\n",
       "    <tr>\n",
       "      <th>CA</th>\n",
       "      <td>20181.0</td>\n",
       "      <td>30897.0</td>\n",
       "      <td>0.0</td>\n",
       "      <td>26787.0</td>\n",
       "      <td>0.0</td>\n",
       "      <td>0.0</td>\n",
       "      <td>0.0</td>\n",
       "      <td>77865.0</td>\n",
       "    </tr>\n",
       "  </tbody>\n",
       "</table>\n",
       "</div>"
      ],
      "text/plain": [
       "            Total Year-Round Beds (ES)  Total Year-Round Beds (TH)  \\\n",
       "year State                                                           \n",
       "2007 AK                         1095.0                       663.0   \n",
       "     AL                         1766.0                      2607.0   \n",
       "     AR                         1483.0                      1109.0   \n",
       "     AZ                         3736.0                      5597.0   \n",
       "     CA                        20181.0                     30897.0   \n",
       "\n",
       "            Total Year-Round Beds (SH)  Total Year-Round Beds (PSH)  \\\n",
       "year State                                                            \n",
       "2007 AK                            0.0                        489.0   \n",
       "     AL                            0.0                       2420.0   \n",
       "     AR                            0.0                       1538.0   \n",
       "     AZ                            0.0                       3019.0   \n",
       "     CA                            0.0                      26787.0   \n",
       "\n",
       "            Total Year-Round Beds (RRH)  Total Year-Round Beds (DEM)  \\\n",
       "year State                                                             \n",
       "2007 AK                             0.0                          0.0   \n",
       "     AL                             0.0                          0.0   \n",
       "     AR                             0.0                          0.0   \n",
       "     AZ                             0.0                          0.0   \n",
       "     CA                             0.0                          0.0   \n",
       "\n",
       "            Total Year-Round Beds (OPH)  Total Beds  \n",
       "year State                                           \n",
       "2007 AK                             0.0      2247.0  \n",
       "     AL                             0.0      6793.0  \n",
       "     AR                             0.0      4130.0  \n",
       "     AZ                             0.0     12352.0  \n",
       "     CA                             0.0     77865.0  "
      ]
     },
     "execution_count": 20,
     "metadata": {},
     "output_type": "execute_result"
    }
   ],
   "source": [
    "df.head()"
   ]
  },
  {
   "cell_type": "code",
   "execution_count": 74,
   "metadata": {},
   "outputs": [],
   "source": [
    "#We now need to create a train-test split in our data that we will use on all our models.\n",
    "#X=df[['Total Year-Round Beds (ES)','Total Year-Round Beds (TH)','Total Year-Round Beds (SH)','Total Year-Round Beds (PSH)','Total Year-Round Beds (RRH)','Total Year-Round Beds (DEM)','Total Year-Round Beds (OPH)']]#.values.reshape(-1,1)\n",
    "#y=df['Total Beds']#.values.reshape(-1,1)\n",
    "X=df_test\n",
    "y=df_test.Program\n",
    "\n",
    "X_train, X_test, y_train, y_test = train_test_split(X, y, test_size = 0.2, random_state=42, shuffle=False)"
   ]
  },
  {
   "cell_type": "code",
   "execution_count": 75,
   "metadata": {},
   "outputs": [
    {
     "name": "stdout",
     "output_type": "stream",
     "text": [
      "(4158, 2)\n",
      "(4158,)\n"
     ]
    }
   ],
   "source": [
    "print(X.shape)\n",
    "print(y.shape)"
   ]
  },
  {
   "cell_type": "code",
   "execution_count": 77,
   "metadata": {
    "scrolled": false
   },
   "outputs": [
    {
     "name": "stdout",
     "output_type": "stream",
     "text": [
      "X_train:                                  Program     Beds\n",
      "year State                                      \n",
      "2007 AK      Total Year-Round Beds (ES)   1095.0\n",
      "     AL      Total Year-Round Beds (ES)   1766.0\n",
      "     AR      Total Year-Round Beds (ES)   1483.0\n",
      "     AZ      Total Year-Round Beds (ES)   3736.0\n",
      "     CA      Total Year-Round Beds (ES)  20181.0\n",
      "     CO      Total Year-Round Beds (ES)   2780.0\n",
      "     CT      Total Year-Round Beds (ES)   2331.0\n",
      "     DC      Total Year-Round Beds (ES)   3001.0\n",
      "     DE      Total Year-Round Beds (ES)    515.0\n",
      "     FL      Total Year-Round Beds (ES)   8913.0\n",
      "     GA      Total Year-Round Beds (ES)   4176.0\n",
      "     GU      Total Year-Round Beds (ES)     79.0\n",
      "     HI      Total Year-Round Beds (ES)   1081.0\n",
      "     IA      Total Year-Round Beds (ES)   1338.0\n",
      "     ID      Total Year-Round Beds (ES)    746.0\n",
      "     IL      Total Year-Round Beds (ES)   5204.0\n",
      "     IN      Total Year-Round Beds (ES)   3966.0\n",
      "     KS      Total Year-Round Beds (ES)   1727.0\n",
      "     KY      Total Year-Round Beds (ES)   2807.0\n",
      "     LA      Total Year-Round Beds (ES)   1605.0\n",
      "     MA      Total Year-Round Beds (ES)   8446.0\n",
      "     MD      Total Year-Round Beds (ES)   2564.0\n",
      "     ME      Total Year-Round Beds (ES)    968.0\n",
      "     MI      Total Year-Round Beds (ES)   6316.0\n",
      "     MN      Total Year-Round Beds (ES)   3375.0\n",
      "     MO      Total Year-Round Beds (ES)   3534.0\n",
      "     MS      Total Year-Round Beds (ES)    723.0\n",
      "     MT      Total Year-Round Beds (ES)    655.0\n",
      "     NC      Total Year-Round Beds (ES)   4525.0\n",
      "     ND      Total Year-Round Beds (ES)    615.0\n",
      "...                                 ...      ...\n",
      "2013 AR     Total Year-Round Beds (DEM)      0.0\n",
      "     AZ     Total Year-Round Beds (DEM)      0.0\n",
      "     CA     Total Year-Round Beds (DEM)      0.0\n",
      "     CO     Total Year-Round Beds (DEM)      0.0\n",
      "     CT     Total Year-Round Beds (DEM)      0.0\n",
      "     DC     Total Year-Round Beds (DEM)      0.0\n",
      "     DE     Total Year-Round Beds (DEM)      0.0\n",
      "     FL     Total Year-Round Beds (DEM)      0.0\n",
      "     GA     Total Year-Round Beds (DEM)      0.0\n",
      "     GU     Total Year-Round Beds (DEM)      0.0\n",
      "     HI     Total Year-Round Beds (DEM)      0.0\n",
      "     IA     Total Year-Round Beds (DEM)      0.0\n",
      "     ID     Total Year-Round Beds (DEM)      0.0\n",
      "     IL     Total Year-Round Beds (DEM)      0.0\n",
      "     IN     Total Year-Round Beds (DEM)      0.0\n",
      "     KS     Total Year-Round Beds (DEM)      0.0\n",
      "     KY     Total Year-Round Beds (DEM)      0.0\n",
      "     LA     Total Year-Round Beds (DEM)      0.0\n",
      "     MA     Total Year-Round Beds (DEM)      0.0\n",
      "     MD     Total Year-Round Beds (DEM)      0.0\n",
      "     ME     Total Year-Round Beds (DEM)      0.0\n",
      "     MI     Total Year-Round Beds (DEM)      0.0\n",
      "     MN     Total Year-Round Beds (DEM)      0.0\n",
      "     MO     Total Year-Round Beds (DEM)      0.0\n",
      "     MS     Total Year-Round Beds (DEM)      0.0\n",
      "     MT     Total Year-Round Beds (DEM)      0.0\n",
      "     NC     Total Year-Round Beds (DEM)      0.0\n",
      "     ND     Total Year-Round Beds (DEM)      0.0\n",
      "     NE     Total Year-Round Beds (DEM)      0.0\n",
      "     NH     Total Year-Round Beds (DEM)      0.0\n",
      "\n",
      "[3326 rows x 2 columns]\n",
      "y_train:  year  State\n",
      "2007  AK        Total Year-Round Beds (ES)\n",
      "      AL        Total Year-Round Beds (ES)\n",
      "      AR        Total Year-Round Beds (ES)\n",
      "      AZ        Total Year-Round Beds (ES)\n",
      "      CA        Total Year-Round Beds (ES)\n",
      "      CO        Total Year-Round Beds (ES)\n",
      "      CT        Total Year-Round Beds (ES)\n",
      "      DC        Total Year-Round Beds (ES)\n",
      "      DE        Total Year-Round Beds (ES)\n",
      "      FL        Total Year-Round Beds (ES)\n",
      "      GA        Total Year-Round Beds (ES)\n",
      "      GU        Total Year-Round Beds (ES)\n",
      "      HI        Total Year-Round Beds (ES)\n",
      "      IA        Total Year-Round Beds (ES)\n",
      "      ID        Total Year-Round Beds (ES)\n",
      "      IL        Total Year-Round Beds (ES)\n",
      "      IN        Total Year-Round Beds (ES)\n",
      "      KS        Total Year-Round Beds (ES)\n",
      "      KY        Total Year-Round Beds (ES)\n",
      "      LA        Total Year-Round Beds (ES)\n",
      "      MA        Total Year-Round Beds (ES)\n",
      "      MD        Total Year-Round Beds (ES)\n",
      "      ME        Total Year-Round Beds (ES)\n",
      "      MI        Total Year-Round Beds (ES)\n",
      "      MN        Total Year-Round Beds (ES)\n",
      "      MO        Total Year-Round Beds (ES)\n",
      "      MS        Total Year-Round Beds (ES)\n",
      "      MT        Total Year-Round Beds (ES)\n",
      "      NC        Total Year-Round Beds (ES)\n",
      "      ND        Total Year-Round Beds (ES)\n",
      "                          ...             \n",
      "2013  AR       Total Year-Round Beds (DEM)\n",
      "      AZ       Total Year-Round Beds (DEM)\n",
      "      CA       Total Year-Round Beds (DEM)\n",
      "      CO       Total Year-Round Beds (DEM)\n",
      "      CT       Total Year-Round Beds (DEM)\n",
      "      DC       Total Year-Round Beds (DEM)\n",
      "      DE       Total Year-Round Beds (DEM)\n",
      "      FL       Total Year-Round Beds (DEM)\n",
      "      GA       Total Year-Round Beds (DEM)\n",
      "      GU       Total Year-Round Beds (DEM)\n",
      "      HI       Total Year-Round Beds (DEM)\n",
      "      IA       Total Year-Round Beds (DEM)\n",
      "      ID       Total Year-Round Beds (DEM)\n",
      "      IL       Total Year-Round Beds (DEM)\n",
      "      IN       Total Year-Round Beds (DEM)\n",
      "      KS       Total Year-Round Beds (DEM)\n",
      "      KY       Total Year-Round Beds (DEM)\n",
      "      LA       Total Year-Round Beds (DEM)\n",
      "      MA       Total Year-Round Beds (DEM)\n",
      "      MD       Total Year-Round Beds (DEM)\n",
      "      ME       Total Year-Round Beds (DEM)\n",
      "      MI       Total Year-Round Beds (DEM)\n",
      "      MN       Total Year-Round Beds (DEM)\n",
      "      MO       Total Year-Round Beds (DEM)\n",
      "      MS       Total Year-Round Beds (DEM)\n",
      "      MT       Total Year-Round Beds (DEM)\n",
      "      NC       Total Year-Round Beds (DEM)\n",
      "      ND       Total Year-Round Beds (DEM)\n",
      "      NE       Total Year-Round Beds (DEM)\n",
      "      NH       Total Year-Round Beds (DEM)\n",
      "Name: Program, Length: 3326, dtype: object\n",
      "X_test:                                  Program    Beds\n",
      "year State                                     \n",
      "2013 NJ     Total Year-Round Beds (DEM)     0.0\n",
      "     NM     Total Year-Round Beds (DEM)     0.0\n",
      "     NV     Total Year-Round Beds (DEM)     0.0\n",
      "     NY     Total Year-Round Beds (DEM)     0.0\n",
      "     OH     Total Year-Round Beds (DEM)     0.0\n",
      "     OK     Total Year-Round Beds (DEM)     0.0\n",
      "     OR     Total Year-Round Beds (DEM)     0.0\n",
      "     PA     Total Year-Round Beds (DEM)     0.0\n",
      "     PR     Total Year-Round Beds (DEM)     0.0\n",
      "     RI     Total Year-Round Beds (DEM)     0.0\n",
      "     SC     Total Year-Round Beds (DEM)     0.0\n",
      "     SD     Total Year-Round Beds (DEM)     0.0\n",
      "     TN     Total Year-Round Beds (DEM)     0.0\n",
      "     TX     Total Year-Round Beds (DEM)     0.0\n",
      "     UT     Total Year-Round Beds (DEM)     0.0\n",
      "     VA     Total Year-Round Beds (DEM)     0.0\n",
      "     VI     Total Year-Round Beds (DEM)     0.0\n",
      "     VT     Total Year-Round Beds (DEM)     0.0\n",
      "     WA     Total Year-Round Beds (DEM)     0.0\n",
      "     WI     Total Year-Round Beds (DEM)     0.0\n",
      "     WV     Total Year-Round Beds (DEM)     0.0\n",
      "     WY     Total Year-Round Beds (DEM)     0.0\n",
      "2014 AK     Total Year-Round Beds (DEM)     0.0\n",
      "     AL     Total Year-Round Beds (DEM)     0.0\n",
      "     AR     Total Year-Round Beds (DEM)     0.0\n",
      "     AZ     Total Year-Round Beds (DEM)   116.0\n",
      "     CA     Total Year-Round Beds (DEM)   117.0\n",
      "     CO     Total Year-Round Beds (DEM)     0.0\n",
      "     CT     Total Year-Round Beds (DEM)     0.0\n",
      "     DC     Total Year-Round Beds (DEM)     0.0\n",
      "...                                 ...     ...\n",
      "2017 MN     Total Year-Round Beds (OPH)  2180.0\n",
      "     MO     Total Year-Round Beds (OPH)    80.0\n",
      "     MS     Total Year-Round Beds (OPH)     0.0\n",
      "     MT     Total Year-Round Beds (OPH)    14.0\n",
      "     NC     Total Year-Round Beds (OPH)   252.0\n",
      "     ND     Total Year-Round Beds (OPH)     0.0\n",
      "     NE     Total Year-Round Beds (OPH)   280.0\n",
      "     NH     Total Year-Round Beds (OPH)    78.0\n",
      "     NJ     Total Year-Round Beds (OPH)   296.0\n",
      "     NM     Total Year-Round Beds (OPH)     0.0\n",
      "     NV     Total Year-Round Beds (OPH)     0.0\n",
      "     NY     Total Year-Round Beds (OPH)   517.0\n",
      "     OH     Total Year-Round Beds (OPH)    30.0\n",
      "     OK     Total Year-Round Beds (OPH)    10.0\n",
      "     OR     Total Year-Round Beds (OPH)   145.0\n",
      "     PA     Total Year-Round Beds (OPH)  1170.0\n",
      "     PR     Total Year-Round Beds (OPH)   280.0\n",
      "     RI     Total Year-Round Beds (OPH)   712.0\n",
      "     SC     Total Year-Round Beds (OPH)   162.0\n",
      "     SD     Total Year-Round Beds (OPH)     0.0\n",
      "     TN     Total Year-Round Beds (OPH)   176.0\n",
      "     TX     Total Year-Round Beds (OPH)  2814.0\n",
      "     UT     Total Year-Round Beds (OPH)   125.0\n",
      "     VA     Total Year-Round Beds (OPH)   912.0\n",
      "     VI     Total Year-Round Beds (OPH)     0.0\n",
      "     VT     Total Year-Round Beds (OPH)     0.0\n",
      "     WA     Total Year-Round Beds (OPH)  3026.0\n",
      "     WI     Total Year-Round Beds (OPH)   460.0\n",
      "     WV     Total Year-Round Beds (OPH)   330.0\n",
      "     WY     Total Year-Round Beds (OPH)     0.0\n",
      "\n",
      "[832 rows x 2 columns]\n",
      "y_test:  year  State\n",
      "2013  NJ       Total Year-Round Beds (DEM)\n",
      "      NM       Total Year-Round Beds (DEM)\n",
      "      NV       Total Year-Round Beds (DEM)\n",
      "      NY       Total Year-Round Beds (DEM)\n",
      "      OH       Total Year-Round Beds (DEM)\n",
      "      OK       Total Year-Round Beds (DEM)\n",
      "      OR       Total Year-Round Beds (DEM)\n",
      "      PA       Total Year-Round Beds (DEM)\n",
      "      PR       Total Year-Round Beds (DEM)\n",
      "      RI       Total Year-Round Beds (DEM)\n",
      "      SC       Total Year-Round Beds (DEM)\n",
      "      SD       Total Year-Round Beds (DEM)\n",
      "      TN       Total Year-Round Beds (DEM)\n",
      "      TX       Total Year-Round Beds (DEM)\n",
      "      UT       Total Year-Round Beds (DEM)\n",
      "      VA       Total Year-Round Beds (DEM)\n",
      "      VI       Total Year-Round Beds (DEM)\n",
      "      VT       Total Year-Round Beds (DEM)\n",
      "      WA       Total Year-Round Beds (DEM)\n",
      "      WI       Total Year-Round Beds (DEM)\n",
      "      WV       Total Year-Round Beds (DEM)\n",
      "      WY       Total Year-Round Beds (DEM)\n",
      "2014  AK       Total Year-Round Beds (DEM)\n",
      "      AL       Total Year-Round Beds (DEM)\n",
      "      AR       Total Year-Round Beds (DEM)\n",
      "      AZ       Total Year-Round Beds (DEM)\n",
      "      CA       Total Year-Round Beds (DEM)\n",
      "      CO       Total Year-Round Beds (DEM)\n",
      "      CT       Total Year-Round Beds (DEM)\n",
      "      DC       Total Year-Round Beds (DEM)\n",
      "                          ...             \n",
      "2017  MN       Total Year-Round Beds (OPH)\n",
      "      MO       Total Year-Round Beds (OPH)\n",
      "      MS       Total Year-Round Beds (OPH)\n",
      "      MT       Total Year-Round Beds (OPH)\n",
      "      NC       Total Year-Round Beds (OPH)\n",
      "      ND       Total Year-Round Beds (OPH)\n",
      "      NE       Total Year-Round Beds (OPH)\n",
      "      NH       Total Year-Round Beds (OPH)\n",
      "      NJ       Total Year-Round Beds (OPH)\n",
      "      NM       Total Year-Round Beds (OPH)\n",
      "      NV       Total Year-Round Beds (OPH)\n",
      "      NY       Total Year-Round Beds (OPH)\n",
      "      OH       Total Year-Round Beds (OPH)\n",
      "      OK       Total Year-Round Beds (OPH)\n",
      "      OR       Total Year-Round Beds (OPH)\n",
      "      PA       Total Year-Round Beds (OPH)\n",
      "      PR       Total Year-Round Beds (OPH)\n",
      "      RI       Total Year-Round Beds (OPH)\n",
      "      SC       Total Year-Round Beds (OPH)\n",
      "      SD       Total Year-Round Beds (OPH)\n",
      "      TN       Total Year-Round Beds (OPH)\n",
      "      TX       Total Year-Round Beds (OPH)\n",
      "      UT       Total Year-Round Beds (OPH)\n",
      "      VA       Total Year-Round Beds (OPH)\n",
      "      VI       Total Year-Round Beds (OPH)\n",
      "      VT       Total Year-Round Beds (OPH)\n",
      "      WA       Total Year-Round Beds (OPH)\n",
      "      WI       Total Year-Round Beds (OPH)\n",
      "      WV       Total Year-Round Beds (OPH)\n",
      "      WY       Total Year-Round Beds (OPH)\n",
      "Name: Program, Length: 832, dtype: object\n"
     ]
    }
   ],
   "source": [
    "#print(y_pred)\n",
    "print('X_train: ',X_train)\n",
    "print('y_train: ',y_train)\n",
    "print('X_test: ',X_test)\n",
    "print('y_test: ',y_test)"
   ]
  },
  {
   "cell_type": "markdown",
   "metadata": {},
   "source": [
    "## Logistic Regression"
   ]
  },
  {
   "cell_type": "code",
   "execution_count": 25,
   "metadata": {},
   "outputs": [],
   "source": [
    "#Import Library\n",
    "from sklearn.linear_model import LogisticRegression\n",
    "from sklearn.metrics import roc_curve"
   ]
  },
  {
   "cell_type": "code",
   "execution_count": 76,
   "metadata": {},
   "outputs": [
    {
     "ename": "ValueError",
     "evalue": "could not convert string to float: 'Total Year-Round Beds (DEM)'",
     "output_type": "error",
     "traceback": [
      "\u001b[1;31m---------------------------------------------------------------------------\u001b[0m",
      "\u001b[1;31mValueError\u001b[0m                                Traceback (most recent call last)",
      "\u001b[1;32m<ipython-input-76-edd9edbfca77>\u001b[0m in \u001b[0;36m<module>\u001b[1;34m()\u001b[0m\n\u001b[0;32m      3\u001b[0m \u001b[1;33m\u001b[0m\u001b[0m\n\u001b[0;32m      4\u001b[0m \u001b[1;31m# Train the model using the training sets and check score\u001b[0m\u001b[1;33m\u001b[0m\u001b[1;33m\u001b[0m\u001b[0m\n\u001b[1;32m----> 5\u001b[1;33m \u001b[0mmodel\u001b[0m\u001b[1;33m.\u001b[0m\u001b[0mfit\u001b[0m\u001b[1;33m(\u001b[0m\u001b[0mX_train\u001b[0m\u001b[1;33m,\u001b[0m \u001b[0my_train\u001b[0m\u001b[1;33m)\u001b[0m\u001b[1;33m\u001b[0m\u001b[0m\n\u001b[0m\u001b[0;32m      6\u001b[0m \u001b[1;33m\u001b[0m\u001b[0m\n\u001b[0;32m      7\u001b[0m \u001b[1;31m#Predict Output\u001b[0m\u001b[1;33m\u001b[0m\u001b[1;33m\u001b[0m\u001b[0m\n",
      "\u001b[1;32m~\\Anaconda3\\lib\\site-packages\\sklearn\\linear_model\\logistic.py\u001b[0m in \u001b[0;36mfit\u001b[1;34m(self, X, y, sample_weight)\u001b[0m\n\u001b[0;32m   1218\u001b[0m \u001b[1;33m\u001b[0m\u001b[0m\n\u001b[0;32m   1219\u001b[0m         X, y = check_X_y(X, y, accept_sparse='csr', dtype=_dtype,\n\u001b[1;32m-> 1220\u001b[1;33m                          order=\"C\")\n\u001b[0m\u001b[0;32m   1221\u001b[0m         \u001b[0mcheck_classification_targets\u001b[0m\u001b[1;33m(\u001b[0m\u001b[0my\u001b[0m\u001b[1;33m)\u001b[0m\u001b[1;33m\u001b[0m\u001b[0m\n\u001b[0;32m   1222\u001b[0m         \u001b[0mself\u001b[0m\u001b[1;33m.\u001b[0m\u001b[0mclasses_\u001b[0m \u001b[1;33m=\u001b[0m \u001b[0mnp\u001b[0m\u001b[1;33m.\u001b[0m\u001b[0munique\u001b[0m\u001b[1;33m(\u001b[0m\u001b[0my\u001b[0m\u001b[1;33m)\u001b[0m\u001b[1;33m\u001b[0m\u001b[0m\n",
      "\u001b[1;32m~\\Anaconda3\\lib\\site-packages\\sklearn\\utils\\validation.py\u001b[0m in \u001b[0;36mcheck_X_y\u001b[1;34m(X, y, accept_sparse, dtype, order, copy, force_all_finite, ensure_2d, allow_nd, multi_output, ensure_min_samples, ensure_min_features, y_numeric, warn_on_dtype, estimator)\u001b[0m\n\u001b[0;32m    571\u001b[0m     X = check_array(X, accept_sparse, dtype, order, copy, force_all_finite,\n\u001b[0;32m    572\u001b[0m                     \u001b[0mensure_2d\u001b[0m\u001b[1;33m,\u001b[0m \u001b[0mallow_nd\u001b[0m\u001b[1;33m,\u001b[0m \u001b[0mensure_min_samples\u001b[0m\u001b[1;33m,\u001b[0m\u001b[1;33m\u001b[0m\u001b[0m\n\u001b[1;32m--> 573\u001b[1;33m                     ensure_min_features, warn_on_dtype, estimator)\n\u001b[0m\u001b[0;32m    574\u001b[0m     \u001b[1;32mif\u001b[0m \u001b[0mmulti_output\u001b[0m\u001b[1;33m:\u001b[0m\u001b[1;33m\u001b[0m\u001b[0m\n\u001b[0;32m    575\u001b[0m         y = check_array(y, 'csr', force_all_finite=True, ensure_2d=False,\n",
      "\u001b[1;32m~\\Anaconda3\\lib\\site-packages\\sklearn\\utils\\validation.py\u001b[0m in \u001b[0;36mcheck_array\u001b[1;34m(array, accept_sparse, dtype, order, copy, force_all_finite, ensure_2d, allow_nd, ensure_min_samples, ensure_min_features, warn_on_dtype, estimator)\u001b[0m\n\u001b[0;32m    431\u001b[0m                                       force_all_finite)\n\u001b[0;32m    432\u001b[0m     \u001b[1;32melse\u001b[0m\u001b[1;33m:\u001b[0m\u001b[1;33m\u001b[0m\u001b[0m\n\u001b[1;32m--> 433\u001b[1;33m         \u001b[0marray\u001b[0m \u001b[1;33m=\u001b[0m \u001b[0mnp\u001b[0m\u001b[1;33m.\u001b[0m\u001b[0marray\u001b[0m\u001b[1;33m(\u001b[0m\u001b[0marray\u001b[0m\u001b[1;33m,\u001b[0m \u001b[0mdtype\u001b[0m\u001b[1;33m=\u001b[0m\u001b[0mdtype\u001b[0m\u001b[1;33m,\u001b[0m \u001b[0morder\u001b[0m\u001b[1;33m=\u001b[0m\u001b[0morder\u001b[0m\u001b[1;33m,\u001b[0m \u001b[0mcopy\u001b[0m\u001b[1;33m=\u001b[0m\u001b[0mcopy\u001b[0m\u001b[1;33m)\u001b[0m\u001b[1;33m\u001b[0m\u001b[0m\n\u001b[0m\u001b[0;32m    434\u001b[0m \u001b[1;33m\u001b[0m\u001b[0m\n\u001b[0;32m    435\u001b[0m         \u001b[1;32mif\u001b[0m \u001b[0mensure_2d\u001b[0m\u001b[1;33m:\u001b[0m\u001b[1;33m\u001b[0m\u001b[0m\n",
      "\u001b[1;31mValueError\u001b[0m: could not convert string to float: 'Total Year-Round Beds (DEM)'"
     ]
    }
   ],
   "source": [
    "# Create logistic regression object\n",
    "model = LogisticRegression()\n",
    "\n",
    "# Train the model using the training sets and check score\n",
    "model.fit(X_train, y_train)\n",
    "\n",
    "#Predict Output\n",
    "y_pred = model.predict(X_test)\n",
    "\n",
    "#Print Accuracy\n",
    "print('Accuracy: ', accuracy_score(y_pred, y_test))"
   ]
  },
  {
   "cell_type": "code",
   "execution_count": 27,
   "metadata": {},
   "outputs": [
    {
     "name": "stdout",
     "output_type": "stream",
     "text": [
      "[  2687.  42906.  42906.  37496.   7556.   7556.   3646.  12056.  42906.\n",
      "  37496.  37496.  37496.  33441.  33214. 104568. 104568.  42906.   9363.\n",
      "   3646.  37496.  42906.  18557.    258.  38884.   5140.  17018.  95752.\n",
      "  42906.  37496.  15029.  17127.   3646.  14366.  19995.   2894.   7744.\n",
      "  12771.   2074.   4595.  17018.  37496.   4595.  37496.  15029.   4662.\n",
      "  11207.    258.  29804.  37496.  27597.  33441.  13557.   3139.  42906.\n",
      "  37496.  42906.  42906.  16021.   3646.   7556.  27597.  12056.  42906.\n",
      "   7556.  37496.  37496.  37496.   3253.  12771. 104568.  42906.   9363.\n",
      "   3646.   4595.  42906. 104568.   3646.  27597.   4595.  37496. 104568.\n",
      "  37496.   5323.  37496.   5667.   3646.  14366.  37496.   3646.   7744.\n",
      "  12771.   3646.   3646.   3139.   1728.   3646.  37496.  29935.  16021.\n",
      "  26164.   3646.  16021.   7556.  27597.  33441.  14366.   3139.  37496.\n",
      "   3646.  15029.  12771.   3646.   3646.   7556.   3646.  12056.   7556.\n",
      "   3139.  37496.]\n"
     ]
    }
   ],
   "source": [
    "print(y_pred)"
   ]
  },
  {
   "cell_type": "markdown",
   "metadata": {},
   "source": [
    "## KNN"
   ]
  },
  {
   "cell_type": "code",
   "execution_count": 28,
   "metadata": {},
   "outputs": [],
   "source": [
    "#Import Library\n",
    "from sklearn.neighbors import KNeighborsClassifier"
   ]
  },
  {
   "cell_type": "code",
   "execution_count": 29,
   "metadata": {},
   "outputs": [
    {
     "name": "stdout",
     "output_type": "stream",
     "text": [
      "Accuracy:  0.0\n"
     ]
    }
   ],
   "source": [
    "# Create KNeighbors classifier object model \n",
    "model = KNeighborsClassifier(n_neighbors=6) # default value for n_neighbors is 5\n",
    "\n",
    "# Train the model using the training sets and check score\n",
    "model.fit(X_train, y_train)\n",
    "\n",
    "#Predict Output\n",
    "y_pred = model.predict(X_test)\n",
    "\n",
    "#Print Accuracy\n",
    "print('Accuracy: ', accuracy_score(y_pred, y_test))"
   ]
  },
  {
   "cell_type": "markdown",
   "metadata": {},
   "source": [
    "## K-Means"
   ]
  },
  {
   "cell_type": "code",
   "execution_count": 30,
   "metadata": {},
   "outputs": [],
   "source": [
    "#Import Library\n",
    "from sklearn.cluster import KMeans"
   ]
  },
  {
   "cell_type": "code",
   "execution_count": 31,
   "metadata": {},
   "outputs": [
    {
     "name": "stdout",
     "output_type": "stream",
     "text": [
      "Accuracy:  0.0\n"
     ]
    }
   ],
   "source": [
    "# Create KNeighbors classifier object model \n",
    "model = KMeans(n_clusters=100, random_state=0)\n",
    "\n",
    "# Train the model using the training sets and check score\n",
    "model.fit(X_train)\n",
    "\n",
    "#Predict Output\n",
    "y_pred = model.predict(X_test)\n",
    "\n",
    "#Print Accuracy\n",
    "print('Accuracy: ', accuracy_score(y_pred, y_test))"
   ]
  },
  {
   "cell_type": "markdown",
   "metadata": {},
   "source": [
    "## Descision Tree"
   ]
  },
  {
   "cell_type": "code",
   "execution_count": null,
   "metadata": {},
   "outputs": [],
   "source": []
  },
  {
   "cell_type": "code",
   "execution_count": 32,
   "metadata": {},
   "outputs": [
    {
     "name": "stdout",
     "output_type": "stream",
     "text": [
      "Accuracy:  0.0\n"
     ]
    }
   ],
   "source": [
    "# Create tree object \n",
    "model = tree.DecisionTreeRegressor() #for regression\n",
    "\n",
    "#Train the model using the training sets and check score\n",
    "model.fit(X_train, y_train)\n",
    "\n",
    "#Predict Output\n",
    "y_pred= model.predict(X_test)\n",
    "\n",
    "#Print Accuracy\n",
    "print('Accuracy: ', accuracy_score(y_pred, y_test))"
   ]
  },
  {
   "cell_type": "markdown",
   "metadata": {},
   "source": [
    "## SVM"
   ]
  },
  {
   "cell_type": "code",
   "execution_count": 33,
   "metadata": {},
   "outputs": [],
   "source": [
    "#Import Library\n",
    "from sklearn import svm"
   ]
  },
  {
   "cell_type": "code",
   "execution_count": 34,
   "metadata": {},
   "outputs": [
    {
     "name": "stdout",
     "output_type": "stream",
     "text": [
      "Accuracy:  0.0\n"
     ]
    }
   ],
   "source": [
    "# Create SVM classification object \n",
    "model = svm.SVC()\n",
    "\n",
    "# Train the model using the training sets and check score\n",
    "model.fit(X_train, y_train)\n",
    "\n",
    "#Predict Output\n",
    "predicted= model.predict(X_test)\n",
    "\n",
    "#Print Accuracy\n",
    "print('Accuracy: ', accuracy_score(y_pred, y_test))"
   ]
  },
  {
   "cell_type": "markdown",
   "metadata": {},
   "source": [
    "## Naive Bayes"
   ]
  },
  {
   "cell_type": "code",
   "execution_count": 35,
   "metadata": {},
   "outputs": [],
   "source": [
    "#Import Library\n",
    "from sklearn.naive_bayes import GaussianNB"
   ]
  },
  {
   "cell_type": "code",
   "execution_count": 36,
   "metadata": {},
   "outputs": [
    {
     "name": "stdout",
     "output_type": "stream",
     "text": [
      "Accuracy:  0.0\n"
     ]
    }
   ],
   "source": [
    "# Create SVM classification object \n",
    "model = GaussianNB()\n",
    "\n",
    "# Train the model using the training sets and check score\n",
    "model.fit(X_train, y_train)\n",
    "\n",
    "#Predict Output\n",
    "y_pred= model.predict(X_test)\n",
    "\n",
    "#Print Accuracy\n",
    "print('Accuracy: ', accuracy_score(y_pred, y_test))"
   ]
  },
  {
   "cell_type": "markdown",
   "metadata": {},
   "source": [
    "## Random Forest"
   ]
  },
  {
   "cell_type": "code",
   "execution_count": 37,
   "metadata": {},
   "outputs": [
    {
     "name": "stdout",
     "output_type": "stream",
     "text": [
      "Accuracy:  0.0\n"
     ]
    }
   ],
   "source": [
    "# Create Random Forest object\n",
    "model = RandomForestClassifier()\n",
    "\n",
    "# Train the model using the training sets and check score\n",
    "model.fit(X_train, y_train)\n",
    "\n",
    "#Predict Output\n",
    "y_pred = model.predict(X_test)\n",
    "\n",
    "#Print Accuracy\n",
    "print('Accuracy: ', accuracy_score(y_pred, y_test))"
   ]
  },
  {
   "cell_type": "code",
   "execution_count": null,
   "metadata": {},
   "outputs": [],
   "source": []
  }
 ],
 "metadata": {
  "kernelspec": {
   "display_name": "Python 3",
   "language": "python",
   "name": "python3"
  },
  "language_info": {
   "codemirror_mode": {
    "name": "ipython",
    "version": 3
   },
   "file_extension": ".py",
   "mimetype": "text/x-python",
   "name": "python",
   "nbconvert_exporter": "python",
   "pygments_lexer": "ipython3",
   "version": "3.7.0"
  }
 },
 "nbformat": 4,
 "nbformat_minor": 2
}
