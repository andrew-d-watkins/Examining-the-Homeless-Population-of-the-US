{
 "cells": [
  {
   "cell_type": "markdown",
   "metadata": {},
   "source": [
    "# Examining the Homeless Population of the United States\n",
    "By Andrew Watkins"
   ]
  },
  {
   "cell_type": "markdown",
   "metadata": {},
   "source": [
    "## Machine Learning"
   ]
  },
  {
   "cell_type": "code",
   "execution_count": 1,
   "metadata": {},
   "outputs": [],
   "source": [
    "#Data Wrangling from previous section\n",
    "import pandas as pd\n",
    "import numpy as np\n",
    "import matplotlib.pyplot as plt\n",
    "import seaborn as sns\n",
    "\n",
    "#Name the files to use\n",
    "file_hic_state = 'data/2007-2017-HIC-Counts-by-State.xlsx'\n",
    "file_pit_state = 'data/2007-2017-PIT-Counts-by-State.xlsx'\n",
    "\n",
    "# Load spreadsheet\n",
    "hic_state = pd.ExcelFile(file_hic_state)\n",
    "pit_state = pd.ExcelFile(file_pit_state)\n",
    "\n",
    "#HIC\n",
    "df_hic = pd.DataFrame()\n",
    "\n",
    "#concat the rest of the sheets to the original df\n",
    "for sheet in range(2007, 2018): \n",
    "    excel_sheet = hic_state.parse(str(sheet), header=1)\n",
    "    excel_sheet['year'] = str(sheet)\n",
    "    excel_sheet.set_index(['year','State'], inplace=True)\n",
    "    df_hic = pd.concat([df_hic, excel_sheet], axis=0, ignore_index=False, sort=True)\n",
    "    \n",
    "#Columns were named differenlty before 2014 so we will use all the named variations and then combine them.\n",
    "columns_to_use = [ \"Total Year-Round Beds (ES)\",\n",
    "                   \"Total Year-Round ES Beds\",\n",
    "                   \"Total Year-Round Beds (TH)\",\n",
    "                   \"Total Year-Round TH Beds\",\n",
    "                   \"Total Year-Round Beds (SH)\",\n",
    "                   \"Total Year-Round SH Beds\",\n",
    "                   \"Total Year-Round Beds (PSH)\",\n",
    "                   \"Total Year-Round PSH Beds\",\n",
    "                   \"Total Year-Round Beds (RRH)\",\n",
    "                   \"Total Year-Round RRH Beds\",\n",
    "                   \"Total Year-Round Beds (DEM)\",\n",
    "                   \"Total Year-Round Beds (OPH)\",\n",
    "]\n",
    "df_hic = df_hic[columns_to_use]\n",
    "df_hic.fillna(0.0, inplace=True)\n",
    "\n",
    "\n",
    "#Here we combine the coumns that contain the same informaiton but were named differently. \n",
    "df_hic['Total Year-Round Beds (ES)'] = df_hic['Total Year-Round Beds (ES)'] + df_hic['Total Year-Round ES Beds']\n",
    "df_hic['Total Year-Round Beds (TH)'] = df_hic['Total Year-Round Beds (TH)'] + df_hic['Total Year-Round TH Beds']\n",
    "df_hic['Total Year-Round Beds (SH)'] = df_hic['Total Year-Round Beds (SH)'] + df_hic['Total Year-Round SH Beds']\n",
    "df_hic['Total Year-Round Beds (PSH)'] = df_hic['Total Year-Round Beds (PSH)'] + df_hic['Total Year-Round PSH Beds']\n",
    "df_hic['Total Year-Round Beds (RRH)'] = df_hic['Total Year-Round Beds (RRH)'] + df_hic['Total Year-Round RRH Beds']\n",
    "\n",
    "#We drop the extra columns we no longer need.\n",
    "cols_to_drop = ['Total Year-Round ES Beds',\n",
    "                'Total Year-Round TH Beds',\n",
    "                'Total Year-Round SH Beds',\n",
    "                'Total Year-Round PSH Beds',\n",
    "                'Total Year-Round RRH Beds']\n",
    "df_hic.drop(cols_to_drop, axis=1, inplace=True)\n",
    "\n",
    "#PIT\n",
    "#Create a new DF with the rest of the sheets. Which are the homeless population in each state from 2007-2017\n",
    "df_pit = pd.DataFrame()\n",
    "\n",
    "#concat the rest of the sheets to the original df\n",
    "for sheet in range(2007, 2018):\n",
    "    excel_sheet = pit_state.parse(str(sheet))\n",
    "    excel_sheet['year'] = str(sheet)\n",
    "    excel_sheet.set_index(['year','State'], inplace=True)\n",
    "    #rename the columns\n",
    "    cols_to_use = []\n",
    "    for column in excel_sheet.columns:\n",
    "        if column.__contains__(','):\n",
    "            cols_to_use.append(column.split(',')[0])\n",
    "        else:\n",
    "            cols_to_use.append(column)\n",
    "    excel_sheet.columns = cols_to_use\n",
    "    df_pit = pd.concat([df_pit, excel_sheet], axis=0, ignore_index=False, sort=True)\n",
    "    \n",
    "#There are only two with the note. So we just drop them directly. \n",
    "df_pit.drop(level=1, inplace=True, index='Note: The number of CoCs in 2016 was 402. However, MO-604 merged in 2016 and covers territory in both MO and KS, contributing to the PIT count in both states. ')\n",
    "df_pit.drop(level=1, inplace=True, index='Note: The number of CoCs in 2017 was 399. However, MO-604 merged in 2016 and covers territory in both MO and KS, contributing to the PIT count in both states. ')\n",
    "\n",
    "#Grab the 2 columns that we need for now\n",
    "df_pit = df_pit[['Total Homeless', 'Number of CoCs']]\n",
    "df_pit.fillna(0, inplace=True)\n",
    "df_pit.replace(to_replace='.', value='0', inplace=True)\n",
    "df_pit = df_pit.astype(float, copy=False)\n",
    "\n",
    "#Merge both DF (PIT and HIC) and drop some unecessary columns\n",
    "df = pd.concat([df_hic, df_pit], axis=1)\n",
    "df.drop(index=['Total', 'KS*', ' ', 'MP'], level=1, inplace=True)\n",
    "\n",
    "#Create an aggregate column of the total of all the beds.\n",
    "df['Total Beds'] = df_hic['Total Year-Round Beds (ES)'] + df_hic['Total Year-Round Beds (TH)'] + df_hic['Total Year-Round Beds (SH)'] + df_hic['Total Year-Round Beds (PSH)'] + df_hic['Total Year-Round Beds (RRH)'] + df_hic['Total Year-Round Beds (DEM)'] + df_hic['Total Year-Round Beds (OPH)']\n",
    "df.fillna(0, inplace=True)"
   ]
  },
  {
   "cell_type": "markdown",
   "metadata": {},
   "source": [
    "ML Models\n",
    "-Linear Regression\n",
    "-Logistic Regression (How to divide/classify the total amount of beds?)\n",
    "-Decision Tree\n",
    "-SVM\n",
    "-Naive Bayes\n",
    "-K-Means\n",
    "-Random Forests"
   ]
  },
  {
   "cell_type": "markdown",
   "metadata": {},
   "source": [
    "# Section:  Linear Regression"
   ]
  },
  {
   "cell_type": "code",
   "execution_count": 2,
   "metadata": {},
   "outputs": [],
   "source": [
    "#additional imports needed for ML\n",
    "from sklearn.model_selection import train_test_split"
   ]
  },
  {
   "cell_type": "code",
   "execution_count": 3,
   "metadata": {},
   "outputs": [],
   "source": [
    "#We now need to create a train-test split in our data that we will use on all our models.\n",
    "X=df['Total Homeless'].values.reshape(-1,1)\n",
    "y=df['Total Beds'].values.reshape(-1,1)\n",
    "\n",
    "X_train, X_test, y_train, y_test = train_test_split(X, y, test_size = 0.2, random_state=42)"
   ]
  },
  {
   "cell_type": "code",
   "execution_count": 4,
   "metadata": {},
   "outputs": [],
   "source": [
    "#drop CA and NY\n",
    "df_min = df.drop(index=['CA', 'NY'], level=1)\n",
    "\n",
    "#We now need to create a train-test split in our data that we will use on all our models.\n",
    "X_min=df_min['Total Homeless'].values.reshape(-1,1)\n",
    "y_min=df_min['Total Beds'].values.reshape(-1,1)\n",
    "\n",
    "X_train_min, X_test_min, y_train_min, y_test_min = train_test_split(X_min, y_min, test_size = 0.2, random_state=42)"
   ]
  },
  {
   "cell_type": "markdown",
   "metadata": {},
   "source": [
    "## Linear Regression"
   ]
  },
  {
   "cell_type": "code",
   "execution_count": 5,
   "metadata": {},
   "outputs": [],
   "source": [
    "from sklearn import linear_model\n",
    "import statsmodels.api as sm\n",
    "from statsmodels.formula.api import ols\n",
    "from sklearn.metrics import mean_squared_error\n",
    "from sklearn.metrics import roc_curve\n",
    "from patsy.builtins import *"
   ]
  },
  {
   "cell_type": "code",
   "execution_count": 6,
   "metadata": {},
   "outputs": [
    {
     "name": "stdout",
     "output_type": "stream",
     "text": [
      "R^2: 0.8942869051025861\n",
      "Root Mean Squared Error: 5203.300913404745\n"
     ]
    }
   ],
   "source": [
    "# Create linear regression object\n",
    "model = linear_model.LinearRegression()\n",
    "\n",
    "# Train the model using the training sets and check score\n",
    "model.fit(X_train, y_train)\n",
    "\n",
    "#Predict Output\n",
    "y_pred = model.predict(X_test)\n",
    "\n",
    "# Compute and print R^2 and RMSE\n",
    "print(\"R^2: {}\".format(model.score(X_test, y_test)))\n",
    "rmse = np.sqrt(mean_squared_error(y_test, y_pred))\n",
    "print(\"Root Mean Squared Error: {}\".format(rmse))"
   ]
  },
  {
   "cell_type": "code",
   "execution_count": 7,
   "metadata": {},
   "outputs": [
    {
     "name": "stdout",
     "output_type": "stream",
     "text": [
      "                             OLS Regression Results                            \n",
      "===============================================================================\n",
      "Dep. Variable:     Q('Total Homeless')   R-squared:                       0.820\n",
      "Model:                             OLS   Adj. R-squared:                  0.820\n",
      "Method:                  Least Squares   F-statistic:                     2696.\n",
      "Date:                 Thu, 07 Mar 2019   Prob (F-statistic):          1.37e-222\n",
      "Time:                         17:40:53   Log-Likelihood:                -6211.8\n",
      "No. Observations:                  594   AIC:                         1.243e+04\n",
      "Df Residuals:                      592   BIC:                         1.244e+04\n",
      "Df Model:                            1                                         \n",
      "Covariance Type:             nonrobust                                         \n",
      "===================================================================================\n",
      "                      coef    std err          t      P>|t|      [0.025      0.975]\n",
      "-----------------------------------------------------------------------------------\n",
      "Intercept       -1054.4702    418.539     -2.519      0.012   -1876.472    -232.469\n",
      "Q('Total Beds')     0.9039      0.017     51.927      0.000       0.870       0.938\n",
      "==============================================================================\n",
      "Omnibus:                      396.484   Durbin-Watson:                   1.628\n",
      "Prob(Omnibus):                  0.000   Jarque-Bera (JB):            10340.925\n",
      "Skew:                           2.523   Prob(JB):                         0.00\n",
      "Kurtosis:                      22.808   Cond. No.                     2.91e+04\n",
      "==============================================================================\n",
      "\n",
      "Warnings:\n",
      "[1] Standard Errors assume that the covariance matrix of the errors is correctly specified.\n",
      "[2] The condition number is large, 2.91e+04. This might indicate that there are\n",
      "strong multicollinearity or other numerical problems.\n"
     ]
    }
   ],
   "source": [
    "model = ols(\"Q('Total Homeless') ~ Q('Total Beds')\", df).fit()\n",
    "print(model.summary())"
   ]
  },
  {
   "cell_type": "markdown",
   "metadata": {},
   "source": [
    " \n",
    " \n",
    "### We now do the same operations with the min df.\n",
    " \n",
    " "
   ]
  },
  {
   "cell_type": "code",
   "execution_count": 8,
   "metadata": {},
   "outputs": [
    {
     "name": "stdout",
     "output_type": "stream",
     "text": [
      "R^2: 0.6921948861246401\n",
      "Root Mean Squared Error: 5248.060219215974\n"
     ]
    }
   ],
   "source": [
    "# Create linear regression object\n",
    "model = linear_model.LinearRegression()\n",
    "\n",
    "# Train the model using the training sets and check score\n",
    "model.fit(X_train_min, y_train_min)\n",
    "\n",
    "#Predict Output\n",
    "y_pred_min = model.predict(X_test_min)\n",
    "\n",
    "# Compute and print R^2 and RMSE\n",
    "print(\"R^2: {}\".format(model.score(X_test_min, y_test_min)))\n",
    "rmse_min = np.sqrt(mean_squared_error(y_test_min, y_pred_min))\n",
    "print(\"Root Mean Squared Error: {}\".format(rmse_min))"
   ]
  },
  {
   "cell_type": "code",
   "execution_count": 9,
   "metadata": {},
   "outputs": [
    {
     "name": "stdout",
     "output_type": "stream",
     "text": [
      "                             OLS Regression Results                            \n",
      "===============================================================================\n",
      "Dep. Variable:     Q('Total Homeless')   R-squared:                       0.665\n",
      "Model:                             OLS   Adj. R-squared:                  0.665\n",
      "Method:                  Least Squares   F-statistic:                     1134.\n",
      "Date:                 Thu, 07 Mar 2019   Prob (F-statistic):          1.18e-137\n",
      "Time:                         17:40:53   Log-Likelihood:                -5678.6\n",
      "No. Observations:                  572   AIC:                         1.136e+04\n",
      "Df Residuals:                      570   BIC:                         1.137e+04\n",
      "Df Model:                            1                                         \n",
      "Covariance Type:             nonrobust                                         \n",
      "===================================================================================\n",
      "                      coef    std err          t      P>|t|      [0.025      0.975]\n",
      "-----------------------------------------------------------------------------------\n",
      "Intercept         341.0452    303.447      1.124      0.262    -254.965     937.055\n",
      "Q('Total Beds')     0.7360      0.022     33.674      0.000       0.693       0.779\n",
      "==============================================================================\n",
      "Omnibus:                      347.143   Durbin-Watson:                   1.605\n",
      "Prob(Omnibus):                  0.000   Jarque-Bera (JB):             5444.021\n",
      "Skew:                           2.368   Prob(JB):                         0.00\n",
      "Kurtosis:                      17.353   Cond. No.                     2.03e+04\n",
      "==============================================================================\n",
      "\n",
      "Warnings:\n",
      "[1] Standard Errors assume that the covariance matrix of the errors is correctly specified.\n",
      "[2] The condition number is large, 2.03e+04. This might indicate that there are\n",
      "strong multicollinearity or other numerical problems.\n"
     ]
    }
   ],
   "source": [
    "model = ols(\"Q('Total Homeless') ~ Q('Total Beds')\", df_min).fit()\n",
    "print(model.summary())"
   ]
  },
  {
   "cell_type": "markdown",
   "metadata": {},
   "source": [
    "## Decission Tree"
   ]
  },
  {
   "cell_type": "code",
   "execution_count": 10,
   "metadata": {},
   "outputs": [],
   "source": [
    "#Import Library\n",
    "from sklearn import tree\n",
    "from sklearn.metrics import accuracy_score"
   ]
  },
  {
   "cell_type": "code",
   "execution_count": 11,
   "metadata": {},
   "outputs": [
    {
     "name": "stdout",
     "output_type": "stream",
     "text": [
      "R^2: 0.7557748670573805\n",
      "Root Mean Squared Error: 7908.784208559684\n"
     ]
    }
   ],
   "source": [
    "# Create tree object \n",
    "model = tree.DecisionTreeRegressor() #for regression\n",
    "\n",
    "#Train the model using the training sets and check score\n",
    "model.fit(X_train, y_train)\n",
    "\n",
    "#Predict Output\n",
    "y_pred= model.predict(X_test)\n",
    "\n",
    "# Compute and print R^2 and RMSE\n",
    "print(\"R^2: {}\".format(model.score(X_test, y_test)))\n",
    "rmse = np.sqrt(mean_squared_error(y_test, y_pred))\n",
    "print(\"Root Mean Squared Error: {}\".format(rmse))"
   ]
  },
  {
   "cell_type": "code",
   "execution_count": 12,
   "metadata": {},
   "outputs": [
    {
     "name": "stdout",
     "output_type": "stream",
     "text": [
      "R^2: 0.5423021831180048\n",
      "Root Mean Squared Error: 6399.562940239509\n"
     ]
    }
   ],
   "source": [
    "# Create tree object \n",
    "model = tree.DecisionTreeRegressor()\n",
    "\n",
    "#Train the model using the training sets and check score\n",
    "model.fit(X_train_min, y_train_min)\n",
    "\n",
    "#Predict Output\n",
    "y_pred_min = model.predict(X_test_min)\n",
    "\n",
    "# Compute and print R^2 and RMSE\n",
    "print(\"R^2: {}\".format(model.score(X_test_min, y_test_min)))\n",
    "rmse = np.sqrt(mean_squared_error(y_test_min, y_pred_min))\n",
    "print(\"Root Mean Squared Error: {}\".format(rmse))"
   ]
  },
  {
   "cell_type": "markdown",
   "metadata": {},
   "source": [
    "## KNN"
   ]
  },
  {
   "cell_type": "code",
   "execution_count": 13,
   "metadata": {},
   "outputs": [],
   "source": [
    "#Import Library\n",
    "from sklearn.neighbors import KNeighborsClassifier"
   ]
  },
  {
   "cell_type": "code",
   "execution_count": 14,
   "metadata": {},
   "outputs": [
    {
     "name": "stdout",
     "output_type": "stream",
     "text": [
      "R^2: 0.0\n",
      "Root Mean Squared Error: 7908.784208559684\n"
     ]
    }
   ],
   "source": [
    "# Create KNeighbors classifier object model \n",
    "model = KNeighborsClassifier(n_neighbors=6) # default value for n_neighbors is 5\n",
    "\n",
    "# Train the model using the training sets and check score\n",
    "model.fit(X_train, y_train.ravel())\n",
    "\n",
    "#Predict Output\n",
    "predicted= model.predict(X_test)\n",
    "\n",
    "# Compute and print R^2 and RMSE\n",
    "print(\"R^2: {}\".format(model.score(X_test, y_test)))\n",
    "rmse = np.sqrt(mean_squared_error(y_test, y_pred))\n",
    "print(\"Root Mean Squared Error: {}\".format(rmse))"
   ]
  },
  {
   "cell_type": "markdown",
   "metadata": {},
   "source": [
    "WHat threshold or category should I create?"
   ]
  },
  {
   "cell_type": "code",
   "execution_count": 15,
   "metadata": {},
   "outputs": [
    {
     "name": "stdout",
     "output_type": "stream",
     "text": [
      "R^2: 0.0\n",
      "Root Mean Squared Error: 6399.562940239509\n"
     ]
    }
   ],
   "source": [
    "# Create KNeighbors classifier object model \n",
    "model = KNeighborsClassifier(n_neighbors=6) # default value for n_neighbors is 5\n",
    "\n",
    "# Train the model using the training sets and check score\n",
    "model.fit(X_train_min, y_train_min.ravel())\n",
    "\n",
    "#Predict Output\n",
    "y_pred = model.predict(X_test_min)\n",
    "\n",
    "# Compute and print R^2 and RMSE\n",
    "print(\"R^2: {}\".format(model.score(X_test_min, y_test_min)))\n",
    "rmse = np.sqrt(mean_squared_error(y_test_min, y_pred_min))\n",
    "print(\"Root Mean Squared Error: {}\".format(rmse))"
   ]
  },
  {
   "cell_type": "markdown",
   "metadata": {},
   "source": [
    "## Random Forest"
   ]
  },
  {
   "cell_type": "code",
   "execution_count": 16,
   "metadata": {},
   "outputs": [
    {
     "name": "stderr",
     "output_type": "stream",
     "text": [
      "C:\\Users\\andre\\Anaconda3\\lib\\site-packages\\sklearn\\ensemble\\weight_boosting.py:29: DeprecationWarning: numpy.core.umath_tests is an internal NumPy module and should not be imported. It will be removed in a future NumPy release.\n",
      "  from numpy.core.umath_tests import inner1d\n"
     ]
    }
   ],
   "source": [
    "#Import Library\n",
    "from sklearn.ensemble import RandomForestClassifier\n",
    "import warnings\n",
    "warnings.filterwarnings(\"ignore\", category=DeprecationWarning) "
   ]
  },
  {
   "cell_type": "code",
   "execution_count": 17,
   "metadata": {},
   "outputs": [
    {
     "name": "stdout",
     "output_type": "stream",
     "text": [
      "R^2: 0.0\n",
      "Root Mean Squared Error: 7215.717829150192\n"
     ]
    }
   ],
   "source": [
    "# Create Random Forest object\n",
    "model = RandomForestClassifier()\n",
    "\n",
    "# Train the model using the training sets and check score\n",
    "model.fit(X_train, y_train.ravel())\n",
    "\n",
    "#Predict Output\n",
    "y_pred = model.predict(X_test)\n",
    "\n",
    "# Compute and print R^2 and RMSE\n",
    "print(\"R^2: {}\".format(model.score(X_test, y_test)))\n",
    "rmse = np.sqrt(mean_squared_error(y_test, y_pred))\n",
    "print(\"Root Mean Squared Error: {}\".format(rmse))"
   ]
  },
  {
   "cell_type": "code",
   "execution_count": 18,
   "metadata": {},
   "outputs": [
    {
     "name": "stdout",
     "output_type": "stream",
     "text": [
      "R^2: 0.0\n",
      "Root Mean Squared Error: 6399.562940239509\n"
     ]
    }
   ],
   "source": [
    "# Create Random Forest object\n",
    "model = RandomForestClassifier()\n",
    "\n",
    "# Train the model using the training sets and check score\n",
    "model.fit(X_train_min, y_train_min.ravel())\n",
    "\n",
    "#Predict Output\n",
    "y_pred = model.predict(X_test_min)\n",
    "\n",
    "# Compute and print R^2 and RMSE\n",
    "print(\"R^2: {}\".format(model.score(X_test_min, y_test_min)))\n",
    "rmse = np.sqrt(mean_squared_error(y_test_min, y_pred_min))\n",
    "print(\"Root Mean Squared Error: {}\".format(rmse))"
   ]
  },
  {
   "cell_type": "markdown",
   "metadata": {},
   "source": [
    "# Section: Logistic Regression"
   ]
  },
  {
   "cell_type": "markdown",
   "metadata": {},
   "source": [
    "In this section we will use logistic regression to classify the states. However we don't have any columns we can use to classify them. So in order to be able to do some logistic regression we need to create or determine a threshold for our data to be able to determine if the threshold is met and add it as a column. The threshold we are going to add is called 'Able', we are going to classify if the state is able to handle their homeless popualtion based on the bed to homeless ratio. We will plot the distribution of the home to bed ratio and determine what threshold we will use to determine if a state is 'able'."
   ]
  },
  {
   "cell_type": "code",
   "execution_count": 19,
   "metadata": {
    "scrolled": false
   },
   "outputs": [
    {
     "data": {
      "image/png": "[encoded data removed]",
      "text/plain": [
       "<Figure size 1440x720 with 1 Axes>"
      ]
     },
     "metadata": {
      "needs_background": "light"
     },
     "output_type": "display_data"
    }
   ],
   "source": [
    "#We plot the of the homeless vs the beds in a scatter plot\n",
    "import matplotlib.ticker\n",
    "fig, ax = plt.subplots(figsize=(20,10))\n",
    "plt.hist(x=(df['Total Homeless']/df['Total Beds']), bins=30)\n",
    "plt.title('Total Homeless to Beds Ratio')\n",
    "plt.xticks(range(5))\n",
    "ax.xaxis.set_major_locator(matplotlib.ticker.MultipleLocator(0.25))\n",
    "plt.show()"
   ]
  },
  {
   "cell_type": "markdown",
   "metadata": {},
   "source": [
    "Based on the distribution we will use anything above .25 as 'able'."
   ]
  },
  {
   "cell_type": "code",
   "execution_count": 20,
   "metadata": {},
   "outputs": [
    {
     "data": {
      "text/html": [
       "<div>\n",
       "<style scoped>\n",
       "    .dataframe tbody tr th:only-of-type {\n",
       "        vertical-align: middle;\n",
       "    }\n",
       "\n",
       "    .dataframe tbody tr th {\n",
       "        vertical-align: top;\n",
       "    }\n",
       "\n",
       "    .dataframe thead th {\n",
       "        text-align: right;\n",
       "    }\n",
       "</style>\n",
       "<table border=\"1\" class=\"dataframe\">\n",
       "  <thead>\n",
       "    <tr style=\"text-align: right;\">\n",
       "      <th></th>\n",
       "      <th></th>\n",
       "      <th>Total Year-Round Beds (ES)</th>\n",
       "      <th>Total Year-Round Beds (TH)</th>\n",
       "      <th>Total Year-Round Beds (SH)</th>\n",
       "      <th>Total Year-Round Beds (PSH)</th>\n",
       "      <th>Total Year-Round Beds (RRH)</th>\n",
       "      <th>Total Year-Round Beds (DEM)</th>\n",
       "      <th>Total Year-Round Beds (OPH)</th>\n",
       "      <th>Total Homeless</th>\n",
       "      <th>Number of CoCs</th>\n",
       "      <th>Total Beds</th>\n",
       "      <th>Able</th>\n",
       "    </tr>\n",
       "    <tr>\n",
       "      <th>year</th>\n",
       "      <th>State</th>\n",
       "      <th></th>\n",
       "      <th></th>\n",
       "      <th></th>\n",
       "      <th></th>\n",
       "      <th></th>\n",
       "      <th></th>\n",
       "      <th></th>\n",
       "      <th></th>\n",
       "      <th></th>\n",
       "      <th></th>\n",
       "      <th></th>\n",
       "    </tr>\n",
       "  </thead>\n",
       "  <tbody>\n",
       "    <tr>\n",
       "      <th rowspan=\"5\" valign=\"top\">2007</th>\n",
       "      <th>AK</th>\n",
       "      <td>1095.0</td>\n",
       "      <td>663.0</td>\n",
       "      <td>0.0</td>\n",
       "      <td>489.0</td>\n",
       "      <td>0.0</td>\n",
       "      <td>0.0</td>\n",
       "      <td>0.0</td>\n",
       "      <td>1642.0</td>\n",
       "      <td>2.0</td>\n",
       "      <td>2247.0</td>\n",
       "      <td>True</td>\n",
       "    </tr>\n",
       "    <tr>\n",
       "      <th>AL</th>\n",
       "      <td>1766.0</td>\n",
       "      <td>2607.0</td>\n",
       "      <td>0.0</td>\n",
       "      <td>2420.0</td>\n",
       "      <td>0.0</td>\n",
       "      <td>0.0</td>\n",
       "      <td>0.0</td>\n",
       "      <td>5452.0</td>\n",
       "      <td>8.0</td>\n",
       "      <td>6793.0</td>\n",
       "      <td>True</td>\n",
       "    </tr>\n",
       "    <tr>\n",
       "      <th>AR</th>\n",
       "      <td>1483.0</td>\n",
       "      <td>1109.0</td>\n",
       "      <td>0.0</td>\n",
       "      <td>1538.0</td>\n",
       "      <td>0.0</td>\n",
       "      <td>0.0</td>\n",
       "      <td>0.0</td>\n",
       "      <td>3836.0</td>\n",
       "      <td>9.0</td>\n",
       "      <td>4130.0</td>\n",
       "      <td>True</td>\n",
       "    </tr>\n",
       "    <tr>\n",
       "      <th>AZ</th>\n",
       "      <td>3736.0</td>\n",
       "      <td>5597.0</td>\n",
       "      <td>0.0</td>\n",
       "      <td>3019.0</td>\n",
       "      <td>0.0</td>\n",
       "      <td>0.0</td>\n",
       "      <td>0.0</td>\n",
       "      <td>14646.0</td>\n",
       "      <td>3.0</td>\n",
       "      <td>12352.0</td>\n",
       "      <td>True</td>\n",
       "    </tr>\n",
       "    <tr>\n",
       "      <th>CA</th>\n",
       "      <td>20181.0</td>\n",
       "      <td>30897.0</td>\n",
       "      <td>0.0</td>\n",
       "      <td>26787.0</td>\n",
       "      <td>0.0</td>\n",
       "      <td>0.0</td>\n",
       "      <td>0.0</td>\n",
       "      <td>138986.0</td>\n",
       "      <td>42.0</td>\n",
       "      <td>77865.0</td>\n",
       "      <td>True</td>\n",
       "    </tr>\n",
       "  </tbody>\n",
       "</table>\n",
       "</div>"
      ],
      "text/plain": [
       "            Total Year-Round Beds (ES)  Total Year-Round Beds (TH)  \\\n",
       "year State                                                           \n",
       "2007 AK                         1095.0                       663.0   \n",
       "     AL                         1766.0                      2607.0   \n",
       "     AR                         1483.0                      1109.0   \n",
       "     AZ                         3736.0                      5597.0   \n",
       "     CA                        20181.0                     30897.0   \n",
       "\n",
       "            Total Year-Round Beds (SH)  Total Year-Round Beds (PSH)  \\\n",
       "year State                                                            \n",
       "2007 AK                            0.0                        489.0   \n",
       "     AL                            0.0                       2420.0   \n",
       "     AR                            0.0                       1538.0   \n",
       "     AZ                            0.0                       3019.0   \n",
       "     CA                            0.0                      26787.0   \n",
       "\n",
       "            Total Year-Round Beds (RRH)  Total Year-Round Beds (DEM)  \\\n",
       "year State                                                             \n",
       "2007 AK                             0.0                          0.0   \n",
       "     AL                             0.0                          0.0   \n",
       "     AR                             0.0                          0.0   \n",
       "     AZ                             0.0                          0.0   \n",
       "     CA                             0.0                          0.0   \n",
       "\n",
       "            Total Year-Round Beds (OPH)  Total Homeless  Number of CoCs  \\\n",
       "year State                                                                \n",
       "2007 AK                             0.0          1642.0             2.0   \n",
       "     AL                             0.0          5452.0             8.0   \n",
       "     AR                             0.0          3836.0             9.0   \n",
       "     AZ                             0.0         14646.0             3.0   \n",
       "     CA                             0.0        138986.0            42.0   \n",
       "\n",
       "            Total Beds  Able  \n",
       "year State                    \n",
       "2007 AK         2247.0  True  \n",
       "     AL         6793.0  True  \n",
       "     AR         4130.0  True  \n",
       "     AZ        12352.0  True  \n",
       "     CA        77865.0  True  "
      ]
     },
     "execution_count": 20,
     "metadata": {},
     "output_type": "execute_result"
    }
   ],
   "source": [
    "#create a new column called 'Able', a boolean value which determines if the ratio of homeless to beds is above .25\n",
    "df['Able'] = df['Total Homeless']/df['Total Beds'] > 0.50\n",
    "df.head()"
   ]
  },
  {
   "cell_type": "code",
   "execution_count": 21,
   "metadata": {},
   "outputs": [],
   "source": [
    "#We now need to create a train-test split in our data that we will use on all our models.\n",
    "X=df\n",
    "y=df['Able']\n",
    "\n",
    "X_train, X_test, y_train, y_test = train_test_split(X, y, test_size = 0.2, random_state=42, shuffle=False)"
   ]
  },
  {
   "cell_type": "markdown",
   "metadata": {},
   "source": [
    "## Logistic Regression"
   ]
  },
  {
   "cell_type": "code",
   "execution_count": 22,
   "metadata": {},
   "outputs": [],
   "source": [
    "#Import Library\n",
    "from sklearn.linear_model import LogisticRegression\n",
    "from sklearn.metrics import roc_curve"
   ]
  },
  {
   "cell_type": "code",
   "execution_count": 70,
   "metadata": {},
   "outputs": [
    {
     "name": "stdout",
     "output_type": "stream",
     "text": [
      "Accuracy:  1.0\n"
     ]
    }
   ],
   "source": [
    "# Create logistic regression object\n",
    "model = LogisticRegression()\n",
    "\n",
    "# Train the model using the training sets and check score\n",
    "model.fit(X_train, y_train)\n",
    "\n",
    "#Predict Output\n",
    "y_pred = model.predict(X_test)\n",
    "\n",
    "#Print Accuracy\n",
    "print('Accuracy: ', accuracy_score(y_pred, y_test))"
   ]
  },
  {
   "cell_type": "code",
   "execution_count": 71,
   "metadata": {},
   "outputs": [
    {
     "data": {
      "image/png": "[encoded data removed]",
      "text/plain": [
       "<Figure size 432x288 with 1 Axes>"
      ]
     },
     "metadata": {
      "needs_background": "light"
     },
     "output_type": "display_data"
    }
   ],
   "source": [
    "# Compute predicted probabilities\n",
    "y_pred_prob = model.predict_proba(X_test)[:,1]\n",
    "\n",
    "# Generate ROC curve values\n",
    "fpr, tpr, thresholds = roc_curve(y_test, y_pred_prob)\n",
    "\n",
    "# Plot ROC curve\n",
    "plt.plot([0, 1], [0, 1], 'k--')\n",
    "plt.plot(fpr, tpr)\n",
    "plt.xlabel('False Positive Rate')\n",
    "plt.ylabel('True Positive Rate')\n",
    "plt.title('ROC Curve')\n",
    "plt.show()"
   ]
  },
  {
   "cell_type": "markdown",
   "metadata": {},
   "source": [
    "## KNN"
   ]
  },
  {
   "cell_type": "code",
   "execution_count": 72,
   "metadata": {},
   "outputs": [],
   "source": [
    "#Import Library\n",
    "from sklearn.neighbors import KNeighborsClassifier"
   ]
  },
  {
   "cell_type": "code",
   "execution_count": 73,
   "metadata": {},
   "outputs": [
    {
     "name": "stdout",
     "output_type": "stream",
     "text": [
      "Accuracy:  0.8151260504201681\n"
     ]
    }
   ],
   "source": [
    "# Create KNeighbors classifier object model \n",
    "model = KNeighborsClassifier(n_neighbors=6) # default value for n_neighbors is 5\n",
    "\n",
    "# Train the model using the training sets and check score\n",
    "model.fit(X_train, y_train)\n",
    "\n",
    "#Predict Output\n",
    "y_pred = model.predict(X_test)\n",
    "\n",
    "#Print Accuracy\n",
    "print('Accuracy: ', accuracy_score(y_pred, y_test))"
   ]
  },
  {
   "cell_type": "code",
   "execution_count": 74,
   "metadata": {},
   "outputs": [
    {
     "data": {
      "image/png": "[encoded data removed]",
      "text/plain": [
       "<Figure size 432x288 with 1 Axes>"
      ]
     },
     "metadata": {
      "needs_background": "light"
     },
     "output_type": "display_data"
    }
   ],
   "source": [
    "# Compute predicted probabilities\n",
    "y_pred_prob = model.predict_proba(X_test)[:,1]\n",
    "\n",
    "# Generate ROC curve values\n",
    "fpr, tpr, thresholds = roc_curve(y_test, y_pred_prob)\n",
    "\n",
    "# Plot ROC curve\n",
    "plt.plot([0, 1], [0, 1], 'k--')\n",
    "plt.plot(fpr, tpr)\n",
    "plt.xlabel('False Positive Rate')\n",
    "plt.ylabel('True Positive Rate')\n",
    "plt.title('ROC Curve')\n",
    "plt.show()"
   ]
  },
  {
   "cell_type": "markdown",
   "metadata": {},
   "source": [
    "## K-Means"
   ]
  },
  {
   "cell_type": "code",
   "execution_count": 75,
   "metadata": {},
   "outputs": [],
   "source": [
    "#Import Library\n",
    "from sklearn.cluster import KMeans"
   ]
  },
  {
   "cell_type": "code",
   "execution_count": 76,
   "metadata": {},
   "outputs": [
    {
     "name": "stdout",
     "output_type": "stream",
     "text": [
      "Accuracy:  0.31932773109243695\n"
     ]
    }
   ],
   "source": [
    "# Create KNeighbors classifier object model \n",
    "model = KMeans(n_clusters=1)\n",
    "\n",
    "# Train the model using the training sets and check score\n",
    "model.fit(X_train)\n",
    "\n",
    "#Predict Output\n",
    "y_pred = model.predict(X_test)\n",
    "\n",
    "#Print Accuracy\n",
    "print('Accuracy: ', accuracy_score(y_pred, y_test))\n",
    "print('Cross Validation Score: ', model.cro)"
   ]
  },
  {
   "cell_type": "code",
   "execution_count": 77,
   "metadata": {},
   "outputs": [
    {
     "ename": "AttributeError",
     "evalue": "'KMeans' object has no attribute 'predict_proba'",
     "output_type": "error",
     "traceback": [
      "\u001b[1;31m---------------------------------------------------------------------------\u001b[0m",
      "\u001b[1;31mAttributeError\u001b[0m                            Traceback (most recent call last)",
      "\u001b[1;32m<ipython-input-77-6cdffa2db41f>\u001b[0m in \u001b[0;36m<module>\u001b[1;34m()\u001b[0m\n\u001b[0;32m      1\u001b[0m \u001b[1;31m# Compute predicted probabilities\u001b[0m\u001b[1;33m\u001b[0m\u001b[1;33m\u001b[0m\u001b[0m\n\u001b[1;32m----> 2\u001b[1;33m \u001b[0my_pred_prob\u001b[0m \u001b[1;33m=\u001b[0m \u001b[0mmodel\u001b[0m\u001b[1;33m.\u001b[0m\u001b[0mpredict_proba\u001b[0m\u001b[1;33m(\u001b[0m\u001b[0mX_test\u001b[0m\u001b[1;33m)\u001b[0m\u001b[1;33m[\u001b[0m\u001b[1;33m:\u001b[0m\u001b[1;33m,\u001b[0m\u001b[1;36m1\u001b[0m\u001b[1;33m]\u001b[0m\u001b[1;33m\u001b[0m\u001b[0m\n\u001b[0m\u001b[0;32m      3\u001b[0m \u001b[1;33m\u001b[0m\u001b[0m\n\u001b[0;32m      4\u001b[0m \u001b[1;31m# Generate ROC curve values\u001b[0m\u001b[1;33m\u001b[0m\u001b[1;33m\u001b[0m\u001b[0m\n\u001b[0;32m      5\u001b[0m \u001b[0mfpr\u001b[0m\u001b[1;33m,\u001b[0m \u001b[0mtpr\u001b[0m\u001b[1;33m,\u001b[0m \u001b[0mthresholds\u001b[0m \u001b[1;33m=\u001b[0m \u001b[0mroc_curve\u001b[0m\u001b[1;33m(\u001b[0m\u001b[0my_test\u001b[0m\u001b[1;33m,\u001b[0m \u001b[0my_pred_prob\u001b[0m\u001b[1;33m)\u001b[0m\u001b[1;33m\u001b[0m\u001b[0m\n",
      "\u001b[1;31mAttributeError\u001b[0m: 'KMeans' object has no attribute 'predict_proba'"
     ]
    }
   ],
   "source": [
    "# Compute predicted probabilities\n",
    "y_pred_prob = model.predict_proba(X_test)[:,1]\n",
    "\n",
    "# Generate ROC curve values\n",
    "fpr, tpr, thresholds = roc_curve(y_test, y_pred_prob)\n",
    "\n",
    "# Plot ROC curve\n",
    "plt.plot([0, 1], [0, 1], 'k--')\n",
    "plt.plot(fpr, tpr)\n",
    "plt.xlabel('False Positive Rate')\n",
    "plt.ylabel('True Positive Rate')\n",
    "plt.title('ROC Curve')\n",
    "plt.show()"
   ]
  },
  {
   "cell_type": "markdown",
   "metadata": {},
   "source": [
    "## Descision Tree"
   ]
  },
  {
   "cell_type": "code",
   "execution_count": 48,
   "metadata": {},
   "outputs": [
    {
     "name": "stdout",
     "output_type": "stream",
     "text": [
      "Accuracy:  1.0\n"
     ]
    }
   ],
   "source": [
    "# Create tree object \n",
    "model = tree.DecisionTreeClassifier()\n",
    "\n",
    "#Train the model using the training sets and check score\n",
    "model.fit(X_train, y_train)\n",
    "\n",
    "#Predict Output\n",
    "y_pred= model.predict(X_test)\n",
    "\n",
    "#Print Accuracy\n",
    "print('Accuracy: ', accuracy_score(y_pred, y_test))"
   ]
  },
  {
   "cell_type": "code",
   "execution_count": 49,
   "metadata": {},
   "outputs": [
    {
     "data": {
      "image/png": "[encoded data removed]",
      "text/plain": [
       "<Figure size 432x288 with 1 Axes>"
      ]
     },
     "metadata": {
      "needs_background": "light"
     },
     "output_type": "display_data"
    }
   ],
   "source": [
    "# Compute predicted probabilities\n",
    "y_pred_prob = model.predict_proba(X_test)[:,1]\n",
    "\n",
    "# Generate ROC curve values\n",
    "fpr, tpr, thresholds = roc_curve(y_test, y_pred_prob)\n",
    "\n",
    "# Plot ROC curve\n",
    "plt.plot([0, 1], [0, 1], 'k--')\n",
    "plt.plot(fpr, tpr)\n",
    "plt.xlabel('False Positive Rate')\n",
    "plt.ylabel('True Positive Rate')\n",
    "plt.title('ROC Curve')\n",
    "plt.show()"
   ]
  },
  {
   "cell_type": "markdown",
   "metadata": {},
   "source": [
    "## SVM"
   ]
  },
  {
   "cell_type": "code",
   "execution_count": 61,
   "metadata": {},
   "outputs": [],
   "source": [
    "#Import Library\n",
    "from sklearn import svm"
   ]
  },
  {
   "cell_type": "code",
   "execution_count": 68,
   "metadata": {},
   "outputs": [
    {
     "name": "stdout",
     "output_type": "stream",
     "text": [
      "Accuracy:  1.0\n"
     ]
    }
   ],
   "source": [
    "# Create SVM classification object \n",
    "model = svm.SVC()\n",
    "\n",
    "#model.probability=True\n",
    "\n",
    "# Train the model using the training sets and check score\n",
    "model.fit(X_train, y_train)\n",
    "\n",
    "#Predict Output\n",
    "predicted= model.predict(X_test)\n",
    "\n",
    "#Print Accuracy\n",
    "print('Accuracy: ', accuracy_score(y_pred, y_test))"
   ]
  },
  {
   "cell_type": "code",
   "execution_count": 69,
   "metadata": {},
   "outputs": [
    {
     "ename": "AttributeError",
     "evalue": "predict_proba is not available when  probability=False",
     "output_type": "error",
     "traceback": [
      "\u001b[1;31m---------------------------------------------------------------------------\u001b[0m",
      "\u001b[1;31mAttributeError\u001b[0m                            Traceback (most recent call last)",
      "\u001b[1;32m<ipython-input-69-1f103b378553>\u001b[0m in \u001b[0;36m<module>\u001b[1;34m()\u001b[0m\n\u001b[0;32m      1\u001b[0m \u001b[1;33m\u001b[0m\u001b[0m\n\u001b[0;32m      2\u001b[0m \u001b[1;31m# Compute predicted probabilities\u001b[0m\u001b[1;33m\u001b[0m\u001b[1;33m\u001b[0m\u001b[0m\n\u001b[1;32m----> 3\u001b[1;33m \u001b[0my_pred_prob\u001b[0m \u001b[1;33m=\u001b[0m \u001b[0mmodel\u001b[0m\u001b[1;33m.\u001b[0m\u001b[0mpredict_proba\u001b[0m\u001b[1;33m(\u001b[0m\u001b[0mX_test\u001b[0m\u001b[1;33m)\u001b[0m\u001b[1;33m[\u001b[0m\u001b[1;33m:\u001b[0m\u001b[1;33m,\u001b[0m\u001b[1;36m1\u001b[0m\u001b[1;33m]\u001b[0m\u001b[1;33m\u001b[0m\u001b[0m\n\u001b[0m\u001b[0;32m      4\u001b[0m \u001b[1;33m\u001b[0m\u001b[0m\n\u001b[0;32m      5\u001b[0m \u001b[1;31m# Generate ROC curve values\u001b[0m\u001b[1;33m\u001b[0m\u001b[1;33m\u001b[0m\u001b[0m\n",
      "\u001b[1;32m~\\Anaconda3\\lib\\site-packages\\sklearn\\svm\\base.py\u001b[0m in \u001b[0;36mpredict_proba\u001b[1;34m(self)\u001b[0m\n\u001b[0;32m    588\u001b[0m         \u001b[0mdatasets\u001b[0m\u001b[1;33m.\u001b[0m\u001b[1;33m\u001b[0m\u001b[0m\n\u001b[0;32m    589\u001b[0m         \"\"\"\n\u001b[1;32m--> 590\u001b[1;33m         \u001b[0mself\u001b[0m\u001b[1;33m.\u001b[0m\u001b[0m_check_proba\u001b[0m\u001b[1;33m(\u001b[0m\u001b[1;33m)\u001b[0m\u001b[1;33m\u001b[0m\u001b[0m\n\u001b[0m\u001b[0;32m    591\u001b[0m         \u001b[1;32mreturn\u001b[0m \u001b[0mself\u001b[0m\u001b[1;33m.\u001b[0m\u001b[0m_predict_proba\u001b[0m\u001b[1;33m\u001b[0m\u001b[0m\n\u001b[0;32m    592\u001b[0m \u001b[1;33m\u001b[0m\u001b[0m\n",
      "\u001b[1;32m~\\Anaconda3\\lib\\site-packages\\sklearn\\svm\\base.py\u001b[0m in \u001b[0;36m_check_proba\u001b[1;34m(self)\u001b[0m\n\u001b[0;32m    555\u001b[0m     \u001b[1;32mdef\u001b[0m \u001b[0m_check_proba\u001b[0m\u001b[1;33m(\u001b[0m\u001b[0mself\u001b[0m\u001b[1;33m)\u001b[0m\u001b[1;33m:\u001b[0m\u001b[1;33m\u001b[0m\u001b[0m\n\u001b[0;32m    556\u001b[0m         \u001b[1;32mif\u001b[0m \u001b[1;32mnot\u001b[0m \u001b[0mself\u001b[0m\u001b[1;33m.\u001b[0m\u001b[0mprobability\u001b[0m\u001b[1;33m:\u001b[0m\u001b[1;33m\u001b[0m\u001b[0m\n\u001b[1;32m--> 557\u001b[1;33m             raise AttributeError(\"predict_proba is not available when \"\n\u001b[0m\u001b[0;32m    558\u001b[0m                                  \" probability=False\")\n\u001b[0;32m    559\u001b[0m         \u001b[1;32mif\u001b[0m \u001b[0mself\u001b[0m\u001b[1;33m.\u001b[0m\u001b[0m_impl\u001b[0m \u001b[1;32mnot\u001b[0m \u001b[1;32min\u001b[0m \u001b[1;33m(\u001b[0m\u001b[1;34m'c_svc'\u001b[0m\u001b[1;33m,\u001b[0m \u001b[1;34m'nu_svc'\u001b[0m\u001b[1;33m)\u001b[0m\u001b[1;33m:\u001b[0m\u001b[1;33m\u001b[0m\u001b[0m\n",
      "\u001b[1;31mAttributeError\u001b[0m: predict_proba is not available when  probability=False"
     ]
    }
   ],
   "source": [
    "\n",
    "# Compute predicted probabilities\n",
    "y_pred_prob = model.predict_proba(X_test)[:,1]\n",
    "\n",
    "# Generate ROC curve values\n",
    "fpr, tpr, thresholds = roc_curve(y_test, y_pred_prob)\n",
    "\n",
    "# Plot ROC curve\n",
    "plt.plot([0, 1], [0, 1], 'k--')\n",
    "plt.plot(fpr, tpr)\n",
    "plt.xlabel('False Positive Rate')\n",
    "plt.ylabel('True Positive Rate')\n",
    "plt.title('ROC Curve')\n",
    "plt.show()"
   ]
  },
  {
   "cell_type": "markdown",
   "metadata": {},
   "source": [
    "## Naive Bayes"
   ]
  },
  {
   "cell_type": "code",
   "execution_count": 53,
   "metadata": {},
   "outputs": [],
   "source": [
    "#Import Library\n",
    "from sklearn.naive_bayes import GaussianNB"
   ]
  },
  {
   "cell_type": "code",
   "execution_count": 54,
   "metadata": {},
   "outputs": [
    {
     "name": "stdout",
     "output_type": "stream",
     "text": [
      "Accuracy:  0.7983193277310925\n"
     ]
    }
   ],
   "source": [
    "# Create SVM classification object \n",
    "model = GaussianNB()\n",
    "\n",
    "# Train the model using the training sets and check score\n",
    "model.fit(X_train, y_train)\n",
    "\n",
    "#Predict Output\n",
    "y_pred= model.predict(X_test)\n",
    "\n",
    "#Print Accuracy\n",
    "print('Accuracy: ', accuracy_score(y_pred, y_test))"
   ]
  },
  {
   "cell_type": "code",
   "execution_count": 55,
   "metadata": {},
   "outputs": [
    {
     "data": {
      "image/png": "[encoded data removed]",
      "text/plain": [
       "<Figure size 432x288 with 1 Axes>"
      ]
     },
     "metadata": {
      "needs_background": "light"
     },
     "output_type": "display_data"
    }
   ],
   "source": [
    "# Compute predicted probabilities\n",
    "y_pred_prob = model.predict_proba(X_test)[:,1]\n",
    "\n",
    "# Generate ROC curve values\n",
    "fpr, tpr, thresholds = roc_curve(y_test, y_pred_prob)\n",
    "\n",
    "# Plot ROC curve\n",
    "plt.plot([0, 1], [0, 1], 'k--')\n",
    "plt.plot(fpr, tpr)\n",
    "plt.xlabel('False Positive Rate')\n",
    "plt.ylabel('True Positive Rate')\n",
    "plt.title('ROC Curve')\n",
    "plt.show()"
   ]
  },
  {
   "cell_type": "markdown",
   "metadata": {},
   "source": [
    "## Random Forest"
   ]
  },
  {
   "cell_type": "code",
   "execution_count": 56,
   "metadata": {},
   "outputs": [
    {
     "name": "stdout",
     "output_type": "stream",
     "text": [
      "Accuracy:  1.0\n"
     ]
    }
   ],
   "source": [
    "# Create Random Forest object\n",
    "model = RandomForestClassifier()\n",
    "\n",
    "# Train the model using the training sets and check score\n",
    "model.fit(X_train, y_train)\n",
    "\n",
    "#Predict Output\n",
    "y_pred = model.predict(X_test)\n",
    "\n",
    "#Print Accuracy\n",
    "print('Accuracy: ', accuracy_score(y_pred, y_test))"
   ]
  },
  {
   "cell_type": "code",
   "execution_count": 57,
   "metadata": {},
   "outputs": [
    {
     "data": {
      "image/png": "[encoded data removed]",
      "text/plain": [
       "<Figure size 432x288 with 1 Axes>"
      ]
     },
     "metadata": {
      "needs_background": "light"
     },
     "output_type": "display_data"
    }
   ],
   "source": [
    "# Compute predicted probabilities\n",
    "y_pred_prob = model.predict_proba(X_test)[:,1]\n",
    "\n",
    "# Generate ROC curve values\n",
    "fpr, tpr, thresholds = roc_curve(y_test, y_pred_prob)\n",
    "\n",
    "# Plot ROC curve\n",
    "plt.plot([0, 1], [0, 1], 'k--')\n",
    "plt.plot(fpr, tpr)\n",
    "plt.xlabel('False Positive Rate')\n",
    "plt.ylabel('True Positive Rate')\n",
    "plt.title('ROC Curve')\n",
    "plt.show()"
   ]
  },
  {
   "cell_type": "code",
   "execution_count": null,
   "metadata": {},
   "outputs": [],
   "source": []
  },
  {
   "cell_type": "code",
   "execution_count": null,
   "metadata": {},
   "outputs": [],
   "source": []
  }
 ],
 "metadata": {
  "kernelspec": {
   "display_name": "Python 3",
   "language": "python",
   "name": "python3"
  },
  "language_info": {
   "codemirror_mode": {
    "name": "ipython",
    "version": 3
   },
   "file_extension": ".py",
   "mimetype": "text/x-python",
   "name": "python",
   "nbconvert_exporter": "python",
   "pygments_lexer": "ipython3",
   "version": "3.7.0"
  }
 },
 "nbformat": 4,
 "nbformat_minor": 2
}
