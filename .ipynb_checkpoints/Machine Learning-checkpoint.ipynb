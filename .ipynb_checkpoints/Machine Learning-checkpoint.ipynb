{
 "cells": [
  {
   "cell_type": "markdown",
   "metadata": {},
   "source": [
    "# Examining the Homeless Population of the United States\n",
    "By Andrew Watkins"
   ]
  },
  {
   "cell_type": "markdown",
   "metadata": {},
   "source": [
    "## Machine Learning"
   ]
  },
  {
   "cell_type": "code",
   "execution_count": 1,
   "metadata": {},
   "outputs": [],
   "source": [
    "#Data Wrangling from previous section\n",
    "import pandas as pd\n",
    "import numpy as np\n",
    "import matplotlib.pyplot as plt\n",
    "import seaborn as sns\n",
    "\n",
    "#Name the files to use\n",
    "file_hic_state = 'data/2007-2017-HIC-Counts-by-State.xlsx'\n",
    "file_pit_state = 'data/2007-2017-PIT-Counts-by-State.xlsx'\n",
    "\n",
    "# Load spreadsheet\n",
    "hic_state = pd.ExcelFile(file_hic_state)\n",
    "pit_state = pd.ExcelFile(file_pit_state)\n",
    "\n",
    "#HIC\n",
    "df_hic = pd.DataFrame()\n",
    "\n",
    "#concat the rest of the sheets to the original df\n",
    "for sheet in range(2007, 2018): \n",
    "    excel_sheet = hic_state.parse(str(sheet), header=1)\n",
    "    excel_sheet['year'] = str(sheet)\n",
    "    excel_sheet.set_index(['year','State'], inplace=True)\n",
    "    df_hic = pd.concat([df_hic, excel_sheet], axis=0, ignore_index=False, sort=True)\n",
    "    \n",
    "#Columns were named differenlty before 2014 so we will use all the named variations and then combine them.\n",
    "columns_to_use = [ \"Total Year-Round Beds (ES)\",\n",
    "                   \"Total Year-Round ES Beds\",\n",
    "                   \"Total Year-Round Beds (TH)\",\n",
    "                   \"Total Year-Round TH Beds\",\n",
    "                   \"Total Year-Round Beds (SH)\",\n",
    "                   \"Total Year-Round SH Beds\",\n",
    "                   \"Total Year-Round Beds (PSH)\",\n",
    "                   \"Total Year-Round PSH Beds\",\n",
    "                   \"Total Year-Round Beds (RRH)\",\n",
    "                   \"Total Year-Round RRH Beds\",\n",
    "                   \"Total Year-Round Beds (DEM)\",\n",
    "                   \"Total Year-Round Beds (OPH)\",\n",
    "]\n",
    "df_hic = df_hic[columns_to_use]\n",
    "df_hic.fillna(0.0, inplace=True)\n",
    "\n",
    "\n",
    "#Here we combine the coumns that contain the same informaiton but were named differently. \n",
    "df_hic['Total Year-Round Beds (ES)'] = df_hic['Total Year-Round Beds (ES)'] + df_hic['Total Year-Round ES Beds']\n",
    "df_hic['Total Year-Round Beds (TH)'] = df_hic['Total Year-Round Beds (TH)'] + df_hic['Total Year-Round TH Beds']\n",
    "df_hic['Total Year-Round Beds (SH)'] = df_hic['Total Year-Round Beds (SH)'] + df_hic['Total Year-Round SH Beds']\n",
    "df_hic['Total Year-Round Beds (PSH)'] = df_hic['Total Year-Round Beds (PSH)'] + df_hic['Total Year-Round PSH Beds']\n",
    "df_hic['Total Year-Round Beds (RRH)'] = df_hic['Total Year-Round Beds (RRH)'] + df_hic['Total Year-Round RRH Beds']\n",
    "\n",
    "#We drop the extra columns we no longer need.\n",
    "cols_to_drop = ['Total Year-Round ES Beds',\n",
    "                'Total Year-Round TH Beds',\n",
    "                'Total Year-Round SH Beds',\n",
    "                'Total Year-Round PSH Beds',\n",
    "                'Total Year-Round RRH Beds']\n",
    "df_hic.drop(cols_to_drop, axis=1, inplace=True)\n",
    "\n",
    "#PIT\n",
    "#Create a new DF with the rest of the sheets. Which are the homeless population in each state from 2007-2017\n",
    "df_pit = pd.DataFrame()\n",
    "\n",
    "#concat the rest of the sheets to the original df\n",
    "for sheet in range(2007, 2018):\n",
    "    excel_sheet = pit_state.parse(str(sheet))\n",
    "    excel_sheet['year'] = str(sheet)\n",
    "    excel_sheet.set_index(['year','State'], inplace=True)\n",
    "    #rename the columns\n",
    "    cols_to_use = []\n",
    "    for column in excel_sheet.columns:\n",
    "        if column.__contains__(','):\n",
    "            cols_to_use.append(column.split(',')[0])\n",
    "        else:\n",
    "            cols_to_use.append(column)\n",
    "    excel_sheet.columns = cols_to_use\n",
    "    df_pit = pd.concat([df_pit, excel_sheet], axis=0, ignore_index=False, sort=True)\n",
    "    \n",
    "#There are only two with the note. So we just drop them directly. \n",
    "df_pit.drop(level=1, inplace=True, index='Note: The number of CoCs in 2016 was 402. However, MO-604 merged in 2016 and covers territory in both MO and KS, contributing to the PIT count in both states. ')\n",
    "df_pit.drop(level=1, inplace=True, index='Note: The number of CoCs in 2017 was 399. However, MO-604 merged in 2016 and covers territory in both MO and KS, contributing to the PIT count in both states. ')\n",
    "\n",
    "#Grab the 2 columns that we need for now\n",
    "df_pit = df_pit[['Total Homeless', 'Number of CoCs']]\n",
    "df_pit.fillna(0, inplace=True)\n",
    "df_pit.replace(to_replace='.', value='0', inplace=True)\n",
    "df_pit = df_pit.astype(float, copy=False)\n",
    "\n",
    "#Merge both DF (PIT and HIC) and drop some unecessary columns\n",
    "df = pd.concat([df_hic, df_pit], axis=1)\n",
    "df.drop(index=['Total', 'KS*', ' ', 'MP'], level=1, inplace=True)\n",
    "\n",
    "#Create an aggregate column of the total of all the beds.\n",
    "df['Total Beds'] = df_hic['Total Year-Round Beds (ES)'] + df_hic['Total Year-Round Beds (TH)'] + df_hic['Total Year-Round Beds (SH)'] + df_hic['Total Year-Round Beds (PSH)'] + df_hic['Total Year-Round Beds (RRH)'] + df_hic['Total Year-Round Beds (DEM)'] + df_hic['Total Year-Round Beds (OPH)']\n",
    "df.fillna(0, inplace=True)"
   ]
  },
  {
   "cell_type": "markdown",
   "metadata": {},
   "source": [
    "ML Models\n",
    "-Linear Regression\n",
    "-Logistic Regression (How to divide/classify the total amount of beds?)\n",
    "-Decision Tree\n",
    "-SVM\n",
    "-Naive Bayes\n",
    "-K-Means\n",
    "-Random Forests"
   ]
  },
  {
   "cell_type": "markdown",
   "metadata": {},
   "source": [
    "# Section:  Linear Regression"
   ]
  },
  {
   "cell_type": "code",
   "execution_count": 2,
   "metadata": {},
   "outputs": [],
   "source": [
    "#additional imports needed for ML\n",
    "from sklearn.model_selection import train_test_split"
   ]
  },
  {
   "cell_type": "code",
   "execution_count": 3,
   "metadata": {},
   "outputs": [],
   "source": [
    "#We now need to create a train-test split in our data that we will use on all our models.\n",
    "X=df['Total Homeless'].values.reshape(-1,1)\n",
    "y=df['Total Beds'].values.reshape(-1,1)\n",
    "\n",
    "X_train, X_test, y_train, y_test = train_test_split(X, y, test_size = 0.2, random_state=42)"
   ]
  },
  {
   "cell_type": "code",
   "execution_count": 4,
   "metadata": {},
   "outputs": [],
   "source": [
    "#drop CA and NY\n",
    "df_min = df.drop(index=['CA', 'NY'], level=1)\n",
    "\n",
    "#We now need to create a train-test split in our data that we will use on all our models.\n",
    "X_min=df_min['Total Homeless'].values.reshape(-1,1)\n",
    "y_min=df_min['Total Beds'].values.reshape(-1,1)\n",
    "\n",
    "X_train_min, X_test_min, y_train_min, y_test_min = train_test_split(X_min, y_min, test_size = 0.2, random_state=42)"
   ]
  },
  {
   "cell_type": "code",
   "execution_count": 5,
   "metadata": {},
   "outputs": [],
   "source": [
    "df_linear_scoring = pd.DataFrame()"
   ]
  },
  {
   "cell_type": "markdown",
   "metadata": {},
   "source": [
    "## Linear Regression"
   ]
  },
  {
   "cell_type": "code",
   "execution_count": 6,
   "metadata": {},
   "outputs": [],
   "source": [
    "from sklearn import linear_model\n",
    "import statsmodels.api as sm\n",
    "from sklearn.metrics import mean_squared_error"
   ]
  },
  {
   "cell_type": "code",
   "execution_count": 7,
   "metadata": {},
   "outputs": [
    {
     "name": "stdout",
     "output_type": "stream",
     "text": [
      "R^2:  0.8942869051025861\n",
      "Root Mean Squared Error:  5203.300913404746\n"
     ]
    }
   ],
   "source": [
    "#Create linear regression object\n",
    "model = linear_model.LinearRegression()\n",
    "    \n",
    "# Train the model using the training sets and check score\n",
    "model.fit(X_train, y_train)\n",
    "    \n",
    "#Predict Output\n",
    "y_pred = model.predict(X_test)\n",
    "\n",
    "# Compute R^2 and RMSE\n",
    "r_square = model.score(X_test, y_test)\n",
    "rmse = np.sqrt(mean_squared_error(y_test, y_pred))\n",
    "\n",
    "#Add them to the scoring DF\n",
    "scores = [r_square, rmse]\n",
    "df_linear_scoring['Linear Regression'] = scores\n",
    "df_linear_scoring.index = ['R square', 'RMSE'] #add  the indexes now\n",
    "\n",
    "#Print R^2 and RMSE\n",
    "print(\"R^2: \", r_square)\n",
    "print(\"Root Mean Squared Error: \", rmse)"
   ]
  },
  {
   "cell_type": "markdown",
   "metadata": {},
   "source": [
    "Now we will proceed to do the same models and check how they perform with when we remove the ouliers. \n",
    " "
   ]
  },
  {
   "cell_type": "code",
   "execution_count": 8,
   "metadata": {},
   "outputs": [
    {
     "name": "stdout",
     "output_type": "stream",
     "text": [
      "R^2:  0.6921948861246401\n",
      "Root Mean Squared Error:  5248.060219215974\n"
     ]
    }
   ],
   "source": [
    "# Create linear regression object\n",
    "model = linear_model.LinearRegression()\n",
    "\n",
    "# Train the model using the training sets and check score\n",
    "model.fit(X_train_min, y_train_min)\n",
    "\n",
    "#Predict Output\n",
    "y_pred_min = model.predict(X_test_min)\n",
    "\n",
    "# Compute R^2 and RMSE\n",
    "r_square = model.score(X_test_min, y_test_min)\n",
    "rmse = np.sqrt(mean_squared_error(y_test_min, y_pred_min))\n",
    "\n",
    "#Add them to the scoring DF\n",
    "scores = [r_square, rmse]\n",
    "df_linear_scoring['Linear Regression Min'] = scores\n",
    "\n",
    "#print R^2 and RMSE\n",
    "print(\"R^2: \", r_square)\n",
    "print(\"Root Mean Squared Error: \", rmse)"
   ]
  },
  {
   "cell_type": "markdown",
   "metadata": {},
   "source": [
    "## Ordinary least squares (OLS)"
   ]
  },
  {
   "cell_type": "code",
   "execution_count": 9,
   "metadata": {},
   "outputs": [],
   "source": [
    "from statsmodels.formula.api import ols\n",
    "from patsy.builtins import *"
   ]
  },
  {
   "cell_type": "code",
   "execution_count": 10,
   "metadata": {},
   "outputs": [
    {
     "name": "stdout",
     "output_type": "stream",
     "text": [
      "                             OLS Regression Results                            \n",
      "===============================================================================\n",
      "Dep. Variable:     Q('Total Homeless')   R-squared:                       0.820\n",
      "Model:                             OLS   Adj. R-squared:                  0.820\n",
      "Method:                  Least Squares   F-statistic:                     2696.\n",
      "Date:                 Sat, 09 Mar 2019   Prob (F-statistic):          1.37e-222\n",
      "Time:                         17:39:18   Log-Likelihood:                -6211.8\n",
      "No. Observations:                  594   AIC:                         1.243e+04\n",
      "Df Residuals:                      592   BIC:                         1.244e+04\n",
      "Df Model:                            1                                         \n",
      "Covariance Type:             nonrobust                                         \n",
      "===================================================================================\n",
      "                      coef    std err          t      P>|t|      [0.025      0.975]\n",
      "-----------------------------------------------------------------------------------\n",
      "Intercept       -1054.4702    418.539     -2.519      0.012   -1876.472    -232.469\n",
      "Q('Total Beds')     0.9039      0.017     51.927      0.000       0.870       0.938\n",
      "==============================================================================\n",
      "Omnibus:                      396.484   Durbin-Watson:                   1.628\n",
      "Prob(Omnibus):                  0.000   Jarque-Bera (JB):            10340.925\n",
      "Skew:                           2.523   Prob(JB):                         0.00\n",
      "Kurtosis:                      22.808   Cond. No.                     2.91e+04\n",
      "==============================================================================\n",
      "\n",
      "Warnings:\n",
      "[1] Standard Errors assume that the covariance matrix of the errors is correctly specified.\n",
      "[2] The condition number is large, 2.91e+04. This might indicate that there are\n",
      "strong multicollinearity or other numerical problems.\n"
     ]
    }
   ],
   "source": [
    "model = ols(\"Q('Total Homeless') ~ Q('Total Beds')\", df).fit()\n",
    "\n",
    "r_square = model.rsquared\n",
    "rmse = 0 #cannot compute as the shapes are different\n",
    "\n",
    "#Add them to the scoring DF\n",
    "scores = [r_square, rmse]\n",
    "df_linear_scoring['OLS'] = scores\n",
    "\n",
    "print(model.summary())"
   ]
  },
  {
   "cell_type": "code",
   "execution_count": 11,
   "metadata": {},
   "outputs": [],
   "source": [
    "#add predict and add the score to the df\n",
    "#model."
   ]
  },
  {
   "cell_type": "code",
   "execution_count": 12,
   "metadata": {},
   "outputs": [
    {
     "name": "stdout",
     "output_type": "stream",
     "text": [
      "                             OLS Regression Results                            \n",
      "===============================================================================\n",
      "Dep. Variable:     Q('Total Homeless')   R-squared:                       0.665\n",
      "Model:                             OLS   Adj. R-squared:                  0.665\n",
      "Method:                  Least Squares   F-statistic:                     1134.\n",
      "Date:                 Sat, 09 Mar 2019   Prob (F-statistic):          1.18e-137\n",
      "Time:                         17:39:18   Log-Likelihood:                -5678.6\n",
      "No. Observations:                  572   AIC:                         1.136e+04\n",
      "Df Residuals:                      570   BIC:                         1.137e+04\n",
      "Df Model:                            1                                         \n",
      "Covariance Type:             nonrobust                                         \n",
      "===================================================================================\n",
      "                      coef    std err          t      P>|t|      [0.025      0.975]\n",
      "-----------------------------------------------------------------------------------\n",
      "Intercept         341.0452    303.447      1.124      0.262    -254.965     937.055\n",
      "Q('Total Beds')     0.7360      0.022     33.674      0.000       0.693       0.779\n",
      "==============================================================================\n",
      "Omnibus:                      347.143   Durbin-Watson:                   1.605\n",
      "Prob(Omnibus):                  0.000   Jarque-Bera (JB):             5444.021\n",
      "Skew:                           2.368   Prob(JB):                         0.00\n",
      "Kurtosis:                      17.353   Cond. No.                     2.03e+04\n",
      "==============================================================================\n",
      "\n",
      "Warnings:\n",
      "[1] Standard Errors assume that the covariance matrix of the errors is correctly specified.\n",
      "[2] The condition number is large, 2.03e+04. This might indicate that there are\n",
      "strong multicollinearity or other numerical problems.\n"
     ]
    }
   ],
   "source": [
    "model = ols(\"Q('Total Homeless') ~ Q('Total Beds')\", df_min).fit()\n",
    "\n",
    "r_square = model.rsquared\n",
    "rmse = 0 #cannot compute as the shapes are different\n",
    "\n",
    "#Add them to the scoring DF\n",
    "scores = [r_square, rmse]\n",
    "df_linear_scoring['OLS Min'] = scores\n",
    "\n",
    "print(model.summary())"
   ]
  },
  {
   "cell_type": "markdown",
   "metadata": {},
   "source": [
    "## Decission Tree"
   ]
  },
  {
   "cell_type": "code",
   "execution_count": 13,
   "metadata": {},
   "outputs": [],
   "source": [
    "#Import Library\n",
    "from sklearn import tree\n",
    "from sklearn.metrics import accuracy_score"
   ]
  },
  {
   "cell_type": "code",
   "execution_count": 14,
   "metadata": {},
   "outputs": [
    {
     "name": "stdout",
     "output_type": "stream",
     "text": [
      "R^2:  0.7557748670573805\n",
      "Root Mean Squared Error:  7908.784208559684\n"
     ]
    }
   ],
   "source": [
    "# Create tree object \n",
    "model = tree.DecisionTreeRegressor() #for regression\n",
    "\n",
    "#Train the model using the training sets and check score\n",
    "model.fit(X_train, y_train)\n",
    "\n",
    "#Predict Output\n",
    "y_pred= model.predict(X_test)\n",
    "\n",
    "# Compute R^2 and RMSE\n",
    "r_square = model.score(X_test, y_test)\n",
    "rmse = np.sqrt(mean_squared_error(y_test, y_pred))\n",
    "\n",
    "#Add them to the scoring DF\n",
    "scores = [r_square, rmse]\n",
    "df_linear_scoring['Decission Tree'] = scores\n",
    "\n",
    "#Print R^2 and RMSE\n",
    "print(\"R^2: \", r_square)\n",
    "print(\"Root Mean Squared Error: \", rmse)"
   ]
  },
  {
   "cell_type": "code",
   "execution_count": 15,
   "metadata": {},
   "outputs": [
    {
     "name": "stdout",
     "output_type": "stream",
     "text": [
      "R^2:  0.5423021831180048\n",
      "Root Mean Squared Error:  6399.562940239509\n"
     ]
    }
   ],
   "source": [
    "# Create tree object \n",
    "model = tree.DecisionTreeRegressor()\n",
    "\n",
    "#Train the model using the training sets and check score\n",
    "model.fit(X_train_min, y_train_min)\n",
    "\n",
    "#Predict Output\n",
    "y_pred_min = model.predict(X_test_min)\n",
    "\n",
    "# Compute R^2 and RMSE\n",
    "r_square = model.score(X_test_min, y_test_min)\n",
    "rmse = np.sqrt(mean_squared_error(y_test_min, y_pred_min))\n",
    "\n",
    "#Add them to the scoring DF\n",
    "scores = [r_square, rmse]\n",
    "df_linear_scoring['Decission Tree Min'] = scores\n",
    "\n",
    "#print R^2 and RMSE\n",
    "print(\"R^2: \", r_square)\n",
    "print(\"Root Mean Squared Error: \", rmse)"
   ]
  },
  {
   "cell_type": "markdown",
   "metadata": {},
   "source": [
    "## KNN"
   ]
  },
  {
   "cell_type": "code",
   "execution_count": 16,
   "metadata": {},
   "outputs": [],
   "source": [
    "#Import Library\n",
    "from sklearn.neighbors import KNeighborsClassifier"
   ]
  },
  {
   "cell_type": "code",
   "execution_count": 17,
   "metadata": {},
   "outputs": [
    {
     "name": "stdout",
     "output_type": "stream",
     "text": [
      "R^2:  0.0\n",
      "Root Mean Squared Error:  7862.874150561169\n"
     ]
    }
   ],
   "source": [
    "# Create KNeighbors classifier object model \n",
    "model = KNeighborsClassifier(n_neighbors=6) # default value for n_neighbors is 5\n",
    "\n",
    "# Train the model using the training sets and check score\n",
    "model.fit(X_train, y_train.ravel())\n",
    "\n",
    "#Predict Output\n",
    "y_pred = model.predict(X_test)\n",
    "\n",
    "# Compute R^2 and RMSE\n",
    "r_square = model.score(X_test, y_test)\n",
    "rmse = np.sqrt(mean_squared_error(y_test, y_pred))\n",
    "\n",
    "#Add them to the scoring DF\n",
    "scores = [r_square, rmse]\n",
    "df_linear_scoring['KNN'] = scores\n",
    "\n",
    "#Print R^2 and RMSE\n",
    "print(\"R^2: \", r_square)\n",
    "print(\"Root Mean Squared Error: \", rmse)"
   ]
  },
  {
   "cell_type": "code",
   "execution_count": 18,
   "metadata": {},
   "outputs": [
    {
     "name": "stdout",
     "output_type": "stream",
     "text": [
      "R^2:  0.0\n",
      "Root Mean Squared Error:  6399.562940239509\n"
     ]
    }
   ],
   "source": [
    "# Create KNeighbors classifier object model \n",
    "model = KNeighborsClassifier(n_neighbors=6) # default value for n_neighbors is 5\n",
    "\n",
    "# Train the model using the training sets and check score\n",
    "model.fit(X_train_min, y_train_min.ravel())\n",
    "\n",
    "#Predict Output\n",
    "y_pred = model.predict(X_test_min)\n",
    "\n",
    "# Compute R^2 and RMSE\n",
    "r_square = model.score(X_test_min, y_test_min)\n",
    "rmse = np.sqrt(mean_squared_error(y_test_min, y_pred_min))\n",
    "\n",
    "#Add them to the scoring DF\n",
    "scores = [r_square, rmse]\n",
    "df_linear_scoring['KNN Min'] = scores\n",
    "\n",
    "#print R^2 and RMSE\n",
    "print(\"R^2: \", r_square)\n",
    "print(\"Root Mean Squared Error: \", rmse)"
   ]
  },
  {
   "cell_type": "markdown",
   "metadata": {},
   "source": [
    "## Random Forest"
   ]
  },
  {
   "cell_type": "code",
   "execution_count": 19,
   "metadata": {},
   "outputs": [],
   "source": [
    "#Import Library\n",
    "import warnings\n",
    "warnings.filterwarnings(\"ignore\", category=DeprecationWarning) \n",
    "from sklearn.ensemble import RandomForestClassifier"
   ]
  },
  {
   "cell_type": "code",
   "execution_count": 20,
   "metadata": {},
   "outputs": [
    {
     "name": "stdout",
     "output_type": "stream",
     "text": [
      "R^2:  0.0\n",
      "Root Mean Squared Error:  7892.477727068282\n"
     ]
    }
   ],
   "source": [
    "# Create Random Forest object\n",
    "model = RandomForestClassifier()\n",
    "\n",
    "# Train the model using the training sets and check score\n",
    "model.fit(X_train, y_train.ravel())\n",
    "\n",
    "#Predict Output\n",
    "y_pred = model.predict(X_test)\n",
    "\n",
    "# Compute R^2 and RMSE\n",
    "r_square = model.score(X_test, y_test)\n",
    "rmse = np.sqrt(mean_squared_error(y_test, y_pred))\n",
    "\n",
    "#Add them to the scoring DF\n",
    "scores = [r_square, rmse]\n",
    "df_linear_scoring['Random Forest'] = scores\n",
    "\n",
    "#Print R^2 and RMSE\n",
    "print(\"R^2: \", r_square)\n",
    "print(\"Root Mean Squared Error: \", rmse)"
   ]
  },
  {
   "cell_type": "code",
   "execution_count": 21,
   "metadata": {},
   "outputs": [
    {
     "name": "stdout",
     "output_type": "stream",
     "text": [
      "R^2:  0.008695652173913044\n",
      "Root Mean Squared Error:  6399.562940239509\n"
     ]
    }
   ],
   "source": [
    "# Create Random Forest object\n",
    "model = RandomForestClassifier()\n",
    "\n",
    "# Train the model using the training sets and check score\n",
    "model.fit(X_train_min, y_train_min.ravel())\n",
    "\n",
    "#Predict Output\n",
    "y_pred = model.predict(X_test_min)\n",
    "\n",
    "# Compute R^2 and RMSE\n",
    "r_square = model.score(X_test_min, y_test_min)\n",
    "rmse = np.sqrt(mean_squared_error(y_test_min, y_pred_min))\n",
    "\n",
    "#Add them to the scoring DF\n",
    "scores = [r_square, rmse]\n",
    "df_linear_scoring['Random Forest Min'] = scores\n",
    "\n",
    "#print R^2 and RMSE\n",
    "print(\"R^2: \", r_square)\n",
    "print(\"Root Mean Squared Error: \", rmse)"
   ]
  },
  {
   "cell_type": "code",
   "execution_count": 22,
   "metadata": {},
   "outputs": [
    {
     "data": {
      "text/html": [
       "<div>\n",
       "<style scoped>\n",
       "    .dataframe tbody tr th:only-of-type {\n",
       "        vertical-align: middle;\n",
       "    }\n",
       "\n",
       "    .dataframe tbody tr th {\n",
       "        vertical-align: top;\n",
       "    }\n",
       "\n",
       "    .dataframe thead th {\n",
       "        text-align: right;\n",
       "    }\n",
       "</style>\n",
       "<table border=\"1\" class=\"dataframe\">\n",
       "  <thead>\n",
       "    <tr style=\"text-align: right;\">\n",
       "      <th></th>\n",
       "      <th>Linear Regression</th>\n",
       "      <th>Linear Regression Min</th>\n",
       "      <th>OLS</th>\n",
       "      <th>OLS Min</th>\n",
       "      <th>Decission Tree</th>\n",
       "      <th>Decission Tree Min</th>\n",
       "      <th>KNN</th>\n",
       "      <th>KNN Min</th>\n",
       "      <th>Random Forest</th>\n",
       "      <th>Random Forest Min</th>\n",
       "    </tr>\n",
       "  </thead>\n",
       "  <tbody>\n",
       "    <tr>\n",
       "      <th>R square</th>\n",
       "      <td>0.894287</td>\n",
       "      <td>0.692195</td>\n",
       "      <td>0.819976</td>\n",
       "      <td>0.665484</td>\n",
       "      <td>0.755775</td>\n",
       "      <td>0.542302</td>\n",
       "      <td>0.000000</td>\n",
       "      <td>0.00000</td>\n",
       "      <td>0.000000</td>\n",
       "      <td>0.008696</td>\n",
       "    </tr>\n",
       "    <tr>\n",
       "      <th>RMSE</th>\n",
       "      <td>5203.300913</td>\n",
       "      <td>5248.060219</td>\n",
       "      <td>0.000000</td>\n",
       "      <td>0.000000</td>\n",
       "      <td>7908.784209</td>\n",
       "      <td>6399.562940</td>\n",
       "      <td>7862.874151</td>\n",
       "      <td>6399.56294</td>\n",
       "      <td>7892.477727</td>\n",
       "      <td>6399.562940</td>\n",
       "    </tr>\n",
       "  </tbody>\n",
       "</table>\n",
       "</div>"
      ],
      "text/plain": [
       "          Linear Regression  Linear Regression Min       OLS   OLS Min  \\\n",
       "R square           0.894287               0.692195  0.819976  0.665484   \n",
       "RMSE            5203.300913            5248.060219  0.000000  0.000000   \n",
       "\n",
       "          Decission Tree  Decission Tree Min          KNN     KNN Min  \\\n",
       "R square        0.755775            0.542302     0.000000     0.00000   \n",
       "RMSE         7908.784209         6399.562940  7862.874151  6399.56294   \n",
       "\n",
       "          Random Forest  Random Forest Min  \n",
       "R square       0.000000           0.008696  \n",
       "RMSE        7892.477727        6399.562940  "
      ]
     },
     "execution_count": 22,
     "metadata": {},
     "output_type": "execute_result"
    }
   ],
   "source": [
    "df_linear_scoring.head()"
   ]
  },
  {
   "cell_type": "markdown",
   "metadata": {},
   "source": [
    "# Section: Logistic Regression"
   ]
  },
  {
   "cell_type": "markdown",
   "metadata": {},
   "source": [
    "In this section we will use logistic regression to classify the states. However we don't have any columns we can use to classify them. So in order to be able to do some logistic regression we need to create or determine a threshold for our data to be able to determine if the threshold is met and add it as a column. The threshold we are going to add is called 'Able', we are going to classify if the state is able to handle their homeless popualtion based on the bed to homeless ratio. We will plot the distribution of the home to bed ratio and determine what threshold we will use to determine if a state is 'able'."
   ]
  },
  {
   "cell_type": "markdown",
   "metadata": {},
   "source": [
    "Based on the distribution we will use anything above .50 as 'able'."
   ]
  },
  {
   "cell_type": "code",
   "execution_count": 23,
   "metadata": {
    "scrolled": false
   },
   "outputs": [
    {
     "data": {
      "image/png": "[encoded data removed]",
      "text/plain": [
       "<Figure size 1440x720 with 1 Axes>"
      ]
     },
     "metadata": {
      "needs_background": "light"
     },
     "output_type": "display_data"
    }
   ],
   "source": [
    "#We plot the of the homeless vs the beds in a scatter plot\n",
    "import matplotlib.ticker\n",
    "fig, ax = plt.subplots(figsize=(20,10))\n",
    "plt.hist(x=(df['Total Homeless']/df['Total Beds']), bins=30)\n",
    "plt.title('Total Homeless to Beds Ratio')\n",
    "plt.xticks(range(5))\n",
    "ax.xaxis.set_major_locator(matplotlib.ticker.MultipleLocator(0.25))\n",
    "plt.show()"
   ]
  },
  {
   "cell_type": "code",
   "execution_count": 24,
   "metadata": {},
   "outputs": [
    {
     "data": {
      "text/html": [
       "<div>\n",
       "<style scoped>\n",
       "    .dataframe tbody tr th:only-of-type {\n",
       "        vertical-align: middle;\n",
       "    }\n",
       "\n",
       "    .dataframe tbody tr th {\n",
       "        vertical-align: top;\n",
       "    }\n",
       "\n",
       "    .dataframe thead th {\n",
       "        text-align: right;\n",
       "    }\n",
       "</style>\n",
       "<table border=\"1\" class=\"dataframe\">\n",
       "  <thead>\n",
       "    <tr style=\"text-align: right;\">\n",
       "      <th></th>\n",
       "      <th></th>\n",
       "      <th>Total Year-Round Beds (ES)</th>\n",
       "      <th>Total Year-Round Beds (TH)</th>\n",
       "      <th>Total Year-Round Beds (SH)</th>\n",
       "      <th>Total Year-Round Beds (PSH)</th>\n",
       "      <th>Total Year-Round Beds (RRH)</th>\n",
       "      <th>Total Year-Round Beds (DEM)</th>\n",
       "      <th>Total Year-Round Beds (OPH)</th>\n",
       "      <th>Total Homeless</th>\n",
       "      <th>Number of CoCs</th>\n",
       "      <th>Total Beds</th>\n",
       "      <th>Able</th>\n",
       "    </tr>\n",
       "    <tr>\n",
       "      <th>year</th>\n",
       "      <th>State</th>\n",
       "      <th></th>\n",
       "      <th></th>\n",
       "      <th></th>\n",
       "      <th></th>\n",
       "      <th></th>\n",
       "      <th></th>\n",
       "      <th></th>\n",
       "      <th></th>\n",
       "      <th></th>\n",
       "      <th></th>\n",
       "      <th></th>\n",
       "    </tr>\n",
       "  </thead>\n",
       "  <tbody>\n",
       "    <tr>\n",
       "      <th rowspan=\"5\" valign=\"top\">2007</th>\n",
       "      <th>AK</th>\n",
       "      <td>1095.0</td>\n",
       "      <td>663.0</td>\n",
       "      <td>0.0</td>\n",
       "      <td>489.0</td>\n",
       "      <td>0.0</td>\n",
       "      <td>0.0</td>\n",
       "      <td>0.0</td>\n",
       "      <td>1642.0</td>\n",
       "      <td>2.0</td>\n",
       "      <td>2247.0</td>\n",
       "      <td>True</td>\n",
       "    </tr>\n",
       "    <tr>\n",
       "      <th>AL</th>\n",
       "      <td>1766.0</td>\n",
       "      <td>2607.0</td>\n",
       "      <td>0.0</td>\n",
       "      <td>2420.0</td>\n",
       "      <td>0.0</td>\n",
       "      <td>0.0</td>\n",
       "      <td>0.0</td>\n",
       "      <td>5452.0</td>\n",
       "      <td>8.0</td>\n",
       "      <td>6793.0</td>\n",
       "      <td>True</td>\n",
       "    </tr>\n",
       "    <tr>\n",
       "      <th>AR</th>\n",
       "      <td>1483.0</td>\n",
       "      <td>1109.0</td>\n",
       "      <td>0.0</td>\n",
       "      <td>1538.0</td>\n",
       "      <td>0.0</td>\n",
       "      <td>0.0</td>\n",
       "      <td>0.0</td>\n",
       "      <td>3836.0</td>\n",
       "      <td>9.0</td>\n",
       "      <td>4130.0</td>\n",
       "      <td>True</td>\n",
       "    </tr>\n",
       "    <tr>\n",
       "      <th>AZ</th>\n",
       "      <td>3736.0</td>\n",
       "      <td>5597.0</td>\n",
       "      <td>0.0</td>\n",
       "      <td>3019.0</td>\n",
       "      <td>0.0</td>\n",
       "      <td>0.0</td>\n",
       "      <td>0.0</td>\n",
       "      <td>14646.0</td>\n",
       "      <td>3.0</td>\n",
       "      <td>12352.0</td>\n",
       "      <td>True</td>\n",
       "    </tr>\n",
       "    <tr>\n",
       "      <th>CA</th>\n",
       "      <td>20181.0</td>\n",
       "      <td>30897.0</td>\n",
       "      <td>0.0</td>\n",
       "      <td>26787.0</td>\n",
       "      <td>0.0</td>\n",
       "      <td>0.0</td>\n",
       "      <td>0.0</td>\n",
       "      <td>138986.0</td>\n",
       "      <td>42.0</td>\n",
       "      <td>77865.0</td>\n",
       "      <td>True</td>\n",
       "    </tr>\n",
       "  </tbody>\n",
       "</table>\n",
       "</div>"
      ],
      "text/plain": [
       "            Total Year-Round Beds (ES)  Total Year-Round Beds (TH)  \\\n",
       "year State                                                           \n",
       "2007 AK                         1095.0                       663.0   \n",
       "     AL                         1766.0                      2607.0   \n",
       "     AR                         1483.0                      1109.0   \n",
       "     AZ                         3736.0                      5597.0   \n",
       "     CA                        20181.0                     30897.0   \n",
       "\n",
       "            Total Year-Round Beds (SH)  Total Year-Round Beds (PSH)  \\\n",
       "year State                                                            \n",
       "2007 AK                            0.0                        489.0   \n",
       "     AL                            0.0                       2420.0   \n",
       "     AR                            0.0                       1538.0   \n",
       "     AZ                            0.0                       3019.0   \n",
       "     CA                            0.0                      26787.0   \n",
       "\n",
       "            Total Year-Round Beds (RRH)  Total Year-Round Beds (DEM)  \\\n",
       "year State                                                             \n",
       "2007 AK                             0.0                          0.0   \n",
       "     AL                             0.0                          0.0   \n",
       "     AR                             0.0                          0.0   \n",
       "     AZ                             0.0                          0.0   \n",
       "     CA                             0.0                          0.0   \n",
       "\n",
       "            Total Year-Round Beds (OPH)  Total Homeless  Number of CoCs  \\\n",
       "year State                                                                \n",
       "2007 AK                             0.0          1642.0             2.0   \n",
       "     AL                             0.0          5452.0             8.0   \n",
       "     AR                             0.0          3836.0             9.0   \n",
       "     AZ                             0.0         14646.0             3.0   \n",
       "     CA                             0.0        138986.0            42.0   \n",
       "\n",
       "            Total Beds  Able  \n",
       "year State                    \n",
       "2007 AK         2247.0  True  \n",
       "     AL         6793.0  True  \n",
       "     AR         4130.0  True  \n",
       "     AZ        12352.0  True  \n",
       "     CA        77865.0  True  "
      ]
     },
     "execution_count": 24,
     "metadata": {},
     "output_type": "execute_result"
    }
   ],
   "source": [
    "#create a new column called 'Able', a boolean value which determines if the ratio of homeless to beds is above .25\n",
    "df['Able'] = df['Total Homeless']/df['Total Beds'] > 0.50\n",
    "df.head()"
   ]
  },
  {
   "cell_type": "code",
   "execution_count": 25,
   "metadata": {},
   "outputs": [],
   "source": [
    "#We now need to create a train-test split in our data that we will use on all our models.\n",
    "y=df['Able'].values\n",
    "X=df.drop('Able', axis=1).values\n",
    "\n",
    "X_train, X_test, y_train, y_test = train_test_split(X, y, test_size = 0.2, random_state=42)"
   ]
  },
  {
   "cell_type": "code",
   "execution_count": 26,
   "metadata": {},
   "outputs": [],
   "source": [
    "#Create a df to store the scoring.\n",
    "df_logistic_scoring = pd.DataFrame()"
   ]
  },
  {
   "cell_type": "markdown",
   "metadata": {},
   "source": [
    "## Logistic Regression"
   ]
  },
  {
   "cell_type": "code",
   "execution_count": 27,
   "metadata": {},
   "outputs": [],
   "source": [
    "#Import Library\n",
    "from sklearn.linear_model import LogisticRegression\n",
    "from sklearn.metrics import roc_curve\n",
    "from sklearn.model_selection import cross_val_score\n",
    "from sklearn.metrics import roc_auc_score\n",
    "from sklearn.metrics import confusion_matrix\n",
    "from sklearn.metrics import classification_report"
   ]
  },
  {
   "cell_type": "code",
   "execution_count": 28,
   "metadata": {},
   "outputs": [],
   "source": [
    "# Create logistic regression object\n",
    "model = LogisticRegression()\n",
    "\n",
    "# Train the model using the training sets and check score\n",
    "model.fit(X_train, y_train)\n",
    "\n",
    "#Predict Output\n",
    "y_pred = model.predict(X_test)"
   ]
  },
  {
   "cell_type": "code",
   "execution_count": 29,
   "metadata": {},
   "outputs": [
    {
     "name": "stdout",
     "output_type": "stream",
     "text": [
      "Accuracy:  1.0\n",
      "AUC:  1.0\n",
      "AUC scores computed using 5-fold cross-validation:  [1.         0.99635922 1.         1.         1.        ]\n",
      "Confusion Matrix: \n",
      " [[ 11   0]\n",
      " [  0 108]]\n",
      "Calssification Refort: \n",
      "              precision    recall  f1-score   support\n",
      "\n",
      "      False       1.00      1.00      1.00        11\n",
      "       True       1.00      1.00      1.00       108\n",
      "\n",
      "avg / total       1.00      1.00      1.00       119\n",
      "\n"
     ]
    }
   ],
   "source": [
    "#Print Accuracy\n",
    "accuracy = accuracy_score(y_pred, y_test)\n",
    "print('Accuracy: ', accuracy)\n",
    "\n",
    "#Compute predicted probabilities: y_pred_prob\n",
    "y_pred_prob = model.predict_proba(X_test)[:,1]\n",
    "\n",
    "#Compute and print AUC score\n",
    "auc = roc_auc_score(y_test, y_pred_prob)\n",
    "print('AUC: ', auc)\n",
    "\n",
    "#Print list of AUC scores\n",
    "cv_auc = cross_val_score(model, X, y, cv=5, scoring='roc_auc')\n",
    "print('AUC scores computed using 5-fold cross-validation: ', cv_auc)\n",
    "\n",
    "#Compute and print confusion report\n",
    "conf_matrix = confusion_matrix(y_test, y_pred)\n",
    "print('Confusion Matrix: \\n', conf_matrix)\n",
    "\n",
    "#Compute and print classification report\n",
    "class_report = classification_report(y_test, y_pred)\n",
    "print('Calssification Refort: \\n', class_report)\n",
    "\n",
    "scores = [accuracy, auc, cv_auc, conf_matrix]\n",
    "df_logistic_scoring['Logistic Regression'] = scores\n",
    "df_logistic_scoring.index = ['Accuracy', 'AUC', 'AUC cross val', 'Confusion Matrix']"
   ]
  },
  {
   "cell_type": "code",
   "execution_count": 30,
   "metadata": {},
   "outputs": [
    {
     "data": {
      "image/png": "[encoded data removed]",
      "text/plain": [
       "<Figure size 648x504 with 1 Axes>"
      ]
     },
     "metadata": {
      "needs_background": "light"
     },
     "output_type": "display_data"
    }
   ],
   "source": [
    "# Generate ROC curve values\n",
    "fpr, tpr, thresholds = roc_curve(y_test, y_pred_prob)\n",
    "\n",
    "# Plot ROC curve\n",
    "fig, ax = plt.subplots(figsize=(9,7))\n",
    "plt.plot([0, 1], [0, 1], 'k--')\n",
    "plt.plot(fpr, tpr)\n",
    "plt.xlabel('False Positive Rate')\n",
    "plt.ylabel('True Positive Rate')\n",
    "plt.title('ROC Curve')\n",
    "plt.show()"
   ]
  },
  {
   "cell_type": "markdown",
   "metadata": {},
   "source": [
    "## KNN"
   ]
  },
  {
   "cell_type": "code",
   "execution_count": 31,
   "metadata": {},
   "outputs": [],
   "source": [
    "#Import Library\n",
    "from sklearn.neighbors import KNeighborsClassifier\n",
    "from sklearn import model_selection"
   ]
  },
  {
   "cell_type": "code",
   "execution_count": 32,
   "metadata": {},
   "outputs": [],
   "source": [
    "# Create KNeighbors classifier object model \n",
    "model = KNeighborsClassifier(n_neighbors=6) # default value for n_neighbors is 5\n",
    "\n",
    "# Train the model using the training sets and check score\n",
    "model.fit(X_train, y_train)\n",
    "\n",
    "#Predict Output\n",
    "y_pred = model.predict(X_test)"
   ]
  },
  {
   "cell_type": "code",
   "execution_count": 33,
   "metadata": {},
   "outputs": [
    {
     "name": "stdout",
     "output_type": "stream",
     "text": [
      "Accuracy:  0.9495798319327731\n",
      "AUC:  0.9250841750841752\n",
      "AUC scores computed using 5-fold cross-validation:  [0.81007282 0.99544903 0.99120146 0.95722087 0.92750809]\n",
      "Confusion Matrix: \n",
      " [[  7   4]\n",
      " [  2 106]]\n",
      "Calssification Refort: \n",
      "              precision    recall  f1-score   support\n",
      "\n",
      "      False       0.78      0.64      0.70        11\n",
      "       True       0.96      0.98      0.97       108\n",
      "\n",
      "avg / total       0.95      0.95      0.95       119\n",
      "\n"
     ]
    }
   ],
   "source": [
    "#Print Accuracy\n",
    "accuracy = accuracy_score(y_pred, y_test)\n",
    "print('Accuracy: ', accuracy)\n",
    "\n",
    "#Compute predicted probabilities: y_pred_prob\n",
    "y_pred_prob = model.predict_proba(X_test)[:,1]\n",
    "\n",
    "#Compute and print AUC score\n",
    "auc = roc_auc_score(y_test, y_pred_prob)\n",
    "print('AUC: ', auc)\n",
    "\n",
    "#Print list of AUC scores\n",
    "cv_auc = cross_val_score(model, X, y, cv=5, scoring='roc_auc')\n",
    "print('AUC scores computed using 5-fold cross-validation: ', cv_auc)\n",
    "\n",
    "#Compute and print confusion report\n",
    "conf_matrix = confusion_matrix(y_test, y_pred)\n",
    "print('Confusion Matrix: \\n', conf_matrix)\n",
    "\n",
    "#Compute and print classification report\n",
    "class_report = classification_report(y_test, y_pred)\n",
    "print('Calssification Refort: \\n', class_report)\n",
    "\n",
    "scores = [accuracy, auc, cv_auc, conf_matrix]\n",
    "df_logistic_scoring['KNN'] = scores"
   ]
  },
  {
   "cell_type": "code",
   "execution_count": 34,
   "metadata": {},
   "outputs": [
    {
     "data": {
      "image/png": "[encoded data removed]",
      "text/plain": [
       "<Figure size 648x504 with 1 Axes>"
      ]
     },
     "metadata": {
      "needs_background": "light"
     },
     "output_type": "display_data"
    }
   ],
   "source": [
    "# Compute predicted probabilities\n",
    "y_pred_prob = model.predict_proba(X_test)[:,1]\n",
    "\n",
    "# Generate ROC curve values\n",
    "fpr, tpr, thresholds = roc_curve(y_test, y_pred_prob)\n",
    "\n",
    "# Plot ROC curve\n",
    "fig, ax = plt.subplots(figsize=(9,7))\n",
    "plt.plot([0, 1], [0, 1], 'k--')\n",
    "plt.plot(fpr, tpr)\n",
    "plt.xlabel('False Positive Rate')\n",
    "plt.ylabel('True Positive Rate')\n",
    "plt.title('ROC Curve')\n",
    "plt.show()"
   ]
  },
  {
   "cell_type": "markdown",
   "metadata": {},
   "source": [
    "## K-Means"
   ]
  },
  {
   "cell_type": "code",
   "execution_count": 35,
   "metadata": {},
   "outputs": [],
   "source": [
    "#Import Library\n",
    "from sklearn.cluster import KMeans"
   ]
  },
  {
   "cell_type": "code",
   "execution_count": 36,
   "metadata": {},
   "outputs": [],
   "source": [
    "# Create KNeighbors classifier object model \n",
    "model = KMeans(n_clusters=1)\n",
    "\n",
    "# Train the model using the training sets and check score\n",
    "model.fit(X_train)\n",
    "\n",
    "#Predict Output\n",
    "y_pred = model.predict(X_test)"
   ]
  },
  {
   "cell_type": "code",
   "execution_count": 37,
   "metadata": {},
   "outputs": [
    {
     "name": "stdout",
     "output_type": "stream",
     "text": [
      "Accuracy:  0.09243697478991597\n",
      "Confusion Matrix: \n",
      " [[ 11   0]\n",
      " [108   0]]\n",
      "Calssification Refort: \n",
      "              precision    recall  f1-score   support\n",
      "\n",
      "      False       0.09      1.00      0.17        11\n",
      "       True       0.00      0.00      0.00       108\n",
      "\n",
      "avg / total       0.01      0.09      0.02       119\n",
      "\n"
     ]
    },
    {
     "name": "stderr",
     "output_type": "stream",
     "text": [
      "C:\\Users\\Warvold\\Anaconda3\\lib\\site-packages\\sklearn\\metrics\\classification.py:1135: UndefinedMetricWarning: Precision and F-score are ill-defined and being set to 0.0 in labels with no predicted samples.\n",
      "  'precision', 'predicted', average, warn_for)\n"
     ]
    }
   ],
   "source": [
    "#Print Accuracy\n",
    "accuracy = accuracy_score(y_pred, y_test)\n",
    "print('Accuracy: ', accuracy)\n",
    "\n",
    "#Compute and print confusion report\n",
    "conf_matrix = confusion_matrix(y_test, y_pred)\n",
    "print('Confusion Matrix: \\n', conf_matrix)\n",
    "\n",
    "#Compute and print classification report\n",
    "class_report = classification_report(y_test, y_pred)\n",
    "print('Calssification Refort: \\n', class_report)\n",
    "\n",
    "scores = [accuracy, 0, 0, conf_matrix]\n",
    "df_logistic_scoring['K-Means'] = scores"
   ]
  },
  {
   "cell_type": "markdown",
   "metadata": {},
   "source": [
    "## Descision Tree"
   ]
  },
  {
   "cell_type": "code",
   "execution_count": 38,
   "metadata": {},
   "outputs": [],
   "source": [
    "# Create tree object \n",
    "model = tree.DecisionTreeClassifier()\n",
    "\n",
    "#Train the model using the training sets and check score\n",
    "model.fit(X_train, y_train)\n",
    "\n",
    "#Predict Output\n",
    "y_pred= model.predict(X_test)"
   ]
  },
  {
   "cell_type": "code",
   "execution_count": 39,
   "metadata": {},
   "outputs": [
    {
     "name": "stdout",
     "output_type": "stream",
     "text": [
      "Accuracy:  0.8739495798319328\n",
      "AUC:  0.7672558922558922\n",
      "AUC scores computed using 5-fold cross-validation:  [0.62014563 0.90139563 0.92779126 0.7348301  0.77378641]\n",
      "Confusion Matrix: \n",
      " [[ 7  4]\n",
      " [11 97]]\n",
      "Calssification Refort: \n",
      "              precision    recall  f1-score   support\n",
      "\n",
      "      False       0.39      0.64      0.48        11\n",
      "       True       0.96      0.90      0.93       108\n",
      "\n",
      "avg / total       0.91      0.87      0.89       119\n",
      "\n"
     ]
    }
   ],
   "source": [
    "#Print Accuracy\n",
    "accuracy = accuracy_score(y_pred, y_test)\n",
    "print('Accuracy: ', accuracy)\n",
    "\n",
    "#Compute predicted probabilities: y_pred_prob\n",
    "y_pred_prob = model.predict_proba(X_test)[:,1]\n",
    "\n",
    "#Compute and print AUC score\n",
    "auc = roc_auc_score(y_test, y_pred_prob)\n",
    "print('AUC: ', auc)\n",
    "\n",
    "#Print list of AUC scores\n",
    "cv_auc = cross_val_score(model, X, y, cv=5, scoring='roc_auc')\n",
    "print('AUC scores computed using 5-fold cross-validation: ', cv_auc)\n",
    "\n",
    "#Compute and print confusion report\n",
    "conf_matrix = confusion_matrix(y_test, y_pred)\n",
    "print('Confusion Matrix: \\n', conf_matrix)\n",
    "\n",
    "#Compute and print classification report\n",
    "class_report = classification_report(y_test, y_pred)\n",
    "print('Calssification Refort: \\n', class_report)\n",
    "\n",
    "scores = [accuracy, auc, cv_auc, conf_matrix]\n",
    "df_logistic_scoring['Descision Tree'] = scores"
   ]
  },
  {
   "cell_type": "code",
   "execution_count": 40,
   "metadata": {},
   "outputs": [
    {
     "data": {
      "image/png": "[encoded data removed]",
      "text/plain": [
       "<Figure size 648x504 with 1 Axes>"
      ]
     },
     "metadata": {
      "needs_background": "light"
     },
     "output_type": "display_data"
    }
   ],
   "source": [
    "# Compute predicted probabilities\n",
    "y_pred_prob = model.predict_proba(X_test)[:,1]\n",
    "\n",
    "# Generate ROC curve values\n",
    "fpr, tpr, thresholds = roc_curve(y_test, y_pred_prob)\n",
    "\n",
    "# Plot ROC curve\n",
    "fig, ax = plt.subplots(figsize=(9,7))\n",
    "plt.plot([0, 1], [0, 1], 'k--')\n",
    "plt.plot(fpr, tpr)\n",
    "plt.xlabel('False Positive Rate')\n",
    "plt.ylabel('True Positive Rate')\n",
    "plt.title('ROC Curve')\n",
    "plt.show()"
   ]
  },
  {
   "cell_type": "markdown",
   "metadata": {},
   "source": [
    "## SVM"
   ]
  },
  {
   "cell_type": "code",
   "execution_count": 41,
   "metadata": {},
   "outputs": [],
   "source": [
    "#Import Library\n",
    "from sklearn import svm"
   ]
  },
  {
   "cell_type": "code",
   "execution_count": 42,
   "metadata": {},
   "outputs": [],
   "source": [
    "# Create SVM classification object \n",
    "model = svm.SVC()\n",
    "\n",
    "model.probability=True\n",
    "\n",
    "# Train the model using the training sets and check score\n",
    "model.fit(X_train, y_train)\n",
    "\n",
    "#Predict Output\n",
    "predicted= model.predict(X_test)"
   ]
  },
  {
   "cell_type": "code",
   "execution_count": 43,
   "metadata": {},
   "outputs": [
    {
     "name": "stdout",
     "output_type": "stream",
     "text": [
      "Accuracy:  0.8739495798319328\n",
      "AUC:  0.49537037037037035\n",
      "AUC scores computed using 5-fold cross-validation:  [0.5        0.5        0.50485437 0.50485437 0.5       ]\n",
      "Confusion Matrix: \n",
      " [[ 7  4]\n",
      " [11 97]]\n",
      "Calssification Refort: \n",
      "              precision    recall  f1-score   support\n",
      "\n",
      "      False       0.39      0.64      0.48        11\n",
      "       True       0.96      0.90      0.93       108\n",
      "\n",
      "avg / total       0.91      0.87      0.89       119\n",
      "\n"
     ]
    }
   ],
   "source": [
    "#Print Accuracy\n",
    "accuracy = accuracy_score(y_pred, y_test)\n",
    "print('Accuracy: ', accuracy)\n",
    "\n",
    "#Compute predicted probabilities: y_pred_prob\n",
    "y_pred_prob = model.predict_proba(X_test)[:,1]\n",
    "\n",
    "#Compute and print AUC score\n",
    "auc = roc_auc_score(y_test, y_pred_prob)\n",
    "print('AUC: ', auc)\n",
    "\n",
    "#Print list of AUC scores\n",
    "cv_auc = cross_val_score(model, X, y, cv=5, scoring='roc_auc')\n",
    "print('AUC scores computed using 5-fold cross-validation: ', cv_auc)\n",
    "\n",
    "#Compute and print confusion report\n",
    "conf_matrix = confusion_matrix(y_test, y_pred)\n",
    "print('Confusion Matrix: \\n', conf_matrix)\n",
    "\n",
    "#Compute and print classification report\n",
    "class_report = classification_report(y_test, y_pred)\n",
    "print('Calssification Refort: \\n', class_report)\n",
    "\n",
    "scores = [accuracy, auc, cv_auc, conf_matrix]\n",
    "df_logistic_scoring['SVM'] = scores"
   ]
  },
  {
   "cell_type": "code",
   "execution_count": 44,
   "metadata": {},
   "outputs": [
    {
     "data": {
      "image/png": "[encoded data removed]",
      "text/plain": [
       "<Figure size 648x504 with 1 Axes>"
      ]
     },
     "metadata": {
      "needs_background": "light"
     },
     "output_type": "display_data"
    }
   ],
   "source": [
    "# Compute predicted probabilities\n",
    "y_pred_prob = model.predict_proba(X_test)[:,1]\n",
    "\n",
    "# Generate ROC curve values\n",
    "fpr, tpr, thresholds = roc_curve(y_test, y_pred_prob)\n",
    "\n",
    "# Plot ROC curve\n",
    "fig, ax = plt.subplots(figsize=(9,7))\n",
    "plt.plot([0, 1], [0, 1], 'k--')\n",
    "plt.plot(fpr, tpr)\n",
    "plt.xlabel('False Positive Rate')\n",
    "plt.ylabel('True Positive Rate')\n",
    "plt.title('ROC Curve')\n",
    "plt.show()"
   ]
  },
  {
   "cell_type": "markdown",
   "metadata": {},
   "source": [
    "## Naive Bayes"
   ]
  },
  {
   "cell_type": "code",
   "execution_count": 45,
   "metadata": {},
   "outputs": [],
   "source": [
    "#Import Library\n",
    "from sklearn.naive_bayes import GaussianNB"
   ]
  },
  {
   "cell_type": "code",
   "execution_count": 46,
   "metadata": {},
   "outputs": [],
   "source": [
    "# Create SVM classification object \n",
    "model = GaussianNB()\n",
    "\n",
    "# Train the model using the training sets and check score\n",
    "model.fit(X_train, y_train)\n",
    "\n",
    "#Predict Output\n",
    "y_pred= model.predict(X_test)"
   ]
  },
  {
   "cell_type": "code",
   "execution_count": 47,
   "metadata": {},
   "outputs": [
    {
     "name": "stdout",
     "output_type": "stream",
     "text": [
      "Accuracy:  0.8991596638655462\n",
      "AUC:  0.6473063973063973\n",
      "AUC scores computed using 5-fold cross-validation:  [0.52305825 0.75485437 0.77548544 0.7493932  0.75016181]\n",
      "Confusion Matrix: \n",
      " [[  2   9]\n",
      " [  3 105]]\n",
      "Calssification Refort: \n",
      "              precision    recall  f1-score   support\n",
      "\n",
      "      False       0.40      0.18      0.25        11\n",
      "       True       0.92      0.97      0.95       108\n",
      "\n",
      "avg / total       0.87      0.90      0.88       119\n",
      "\n"
     ]
    }
   ],
   "source": [
    "#Print Accuracy\n",
    "accuracy = accuracy_score(y_pred, y_test)\n",
    "print('Accuracy: ', accuracy)\n",
    "\n",
    "#Compute predicted probabilities: y_pred_prob\n",
    "y_pred_prob = model.predict_proba(X_test)[:,1]\n",
    "\n",
    "#Compute and print AUC score\n",
    "auc = roc_auc_score(y_test, y_pred_prob)\n",
    "print('AUC: ', auc)\n",
    "\n",
    "#Print list of AUC scores\n",
    "cv_auc = cross_val_score(model, X, y, cv=5, scoring='roc_auc')\n",
    "print('AUC scores computed using 5-fold cross-validation: ', cv_auc)\n",
    "\n",
    "#Compute and print confusion report\n",
    "conf_matrix = confusion_matrix(y_test, y_pred)\n",
    "print('Confusion Matrix: \\n', conf_matrix)\n",
    "\n",
    "#Compute and print classification report\n",
    "class_report = classification_report(y_test, y_pred)\n",
    "print('Calssification Refort: \\n', class_report)\n",
    "\n",
    "scores = [accuracy, auc, cv_auc, conf_matrix]\n",
    "df_logistic_scoring['Naive Bayes'] = scores"
   ]
  },
  {
   "cell_type": "code",
   "execution_count": 48,
   "metadata": {},
   "outputs": [
    {
     "data": {
      "image/png": "[encoded data removed]",
      "text/plain": [
       "<Figure size 648x504 with 1 Axes>"
      ]
     },
     "metadata": {
      "needs_background": "light"
     },
     "output_type": "display_data"
    }
   ],
   "source": [
    "# Compute predicted probabilities\n",
    "y_pred_prob = model.predict_proba(X_test)[:,1]\n",
    "\n",
    "# Generate ROC curve values\n",
    "fpr, tpr, thresholds = roc_curve(y_test, y_pred_prob)\n",
    "\n",
    "# Plot ROC curve\n",
    "fig, ax = plt.subplots(figsize=(9,7))\n",
    "plt.plot([0, 1], [0, 1], 'k--')\n",
    "plt.plot(fpr, tpr)\n",
    "plt.xlabel('False Positive Rate')\n",
    "plt.ylabel('True Positive Rate')\n",
    "plt.title('ROC Curve')\n",
    "plt.show()"
   ]
  },
  {
   "cell_type": "markdown",
   "metadata": {},
   "source": [
    "## Random Forest"
   ]
  },
  {
   "cell_type": "code",
   "execution_count": 49,
   "metadata": {},
   "outputs": [],
   "source": [
    "# Create Random Forest object\n",
    "model = RandomForestClassifier()\n",
    "\n",
    "# Train the model using the training sets and check score\n",
    "model.fit(X_train, y_train)\n",
    "\n",
    "#Predict Output\n",
    "y_pred = model.predict(X_test)"
   ]
  },
  {
   "cell_type": "code",
   "execution_count": 50,
   "metadata": {},
   "outputs": [
    {
     "name": "stdout",
     "output_type": "stream",
     "text": [
      "Accuracy:  0.9495798319327731\n",
      "AUC:  0.9537037037037037\n",
      "AUC scores computed using 5-fold cross-validation:  [0.71116505 0.97117718 0.98998786 0.87773058 0.81941748]\n",
      "Confusion Matrix: \n",
      " [[  6   5]\n",
      " [  1 107]]\n",
      "Calssification Refort: \n",
      "              precision    recall  f1-score   support\n",
      "\n",
      "      False       0.86      0.55      0.67        11\n",
      "       True       0.96      0.99      0.97       108\n",
      "\n",
      "avg / total       0.95      0.95      0.94       119\n",
      "\n"
     ]
    }
   ],
   "source": [
    "#Print Accuracy\n",
    "accuracy = accuracy_score(y_pred, y_test)\n",
    "print('Accuracy: ', accuracy)\n",
    "\n",
    "#Compute predicted probabilities: y_pred_prob\n",
    "y_pred_prob = model.predict_proba(X_test)[:,1]\n",
    "\n",
    "#Compute and print AUC score\n",
    "auc = roc_auc_score(y_test, y_pred_prob)\n",
    "print('AUC: ', auc)\n",
    "\n",
    "#Print list of AUC scores\n",
    "cv_auc = cross_val_score(model, X, y, cv=5, scoring='roc_auc')\n",
    "print('AUC scores computed using 5-fold cross-validation: ', cv_auc)\n",
    "\n",
    "#Compute and print confusion report\n",
    "conf_matrix = confusion_matrix(y_test, y_pred)\n",
    "print('Confusion Matrix: \\n', conf_matrix)\n",
    "\n",
    "#Compute and print classification report\n",
    "class_report = classification_report(y_test, y_pred)\n",
    "print('Calssification Refort: \\n', class_report)\n",
    "\n",
    "scores = [accuracy, auc, cv_auc, conf_matrix]\n",
    "df_logistic_scoring['Random Forest'] = scores"
   ]
  },
  {
   "cell_type": "code",
   "execution_count": 51,
   "metadata": {},
   "outputs": [
    {
     "data": {
      "image/png": "[encoded data removed]",
      "text/plain": [
       "<Figure size 648x504 with 1 Axes>"
      ]
     },
     "metadata": {
      "needs_background": "light"
     },
     "output_type": "display_data"
    }
   ],
   "source": [
    "# Compute predicted probabilities\n",
    "y_pred_prob = model.predict_proba(X_test)[:,1]\n",
    "\n",
    "# Generate ROC curve values\n",
    "fpr, tpr, thresholds = roc_curve(y_test, y_pred_prob)\n",
    "\n",
    "# Plot ROC curve\n",
    "fig, ax = plt.subplots(figsize=(9,7))\n",
    "plt.plot([0, 1], [0, 1], 'k--')\n",
    "plt.plot(fpr, tpr)\n",
    "plt.xlabel('False Positive Rate')\n",
    "plt.ylabel('True Positive Rate')\n",
    "plt.title('ROC Curve')\n",
    "plt.show()"
   ]
  },
  {
   "cell_type": "code",
   "execution_count": 52,
   "metadata": {},
   "outputs": [
    {
     "data": {
      "text/html": [
       "<div>\n",
       "<style scoped>\n",
       "    .dataframe tbody tr th:only-of-type {\n",
       "        vertical-align: middle;\n",
       "    }\n",
       "\n",
       "    .dataframe tbody tr th {\n",
       "        vertical-align: top;\n",
       "    }\n",
       "\n",
       "    .dataframe thead th {\n",
       "        text-align: right;\n",
       "    }\n",
       "</style>\n",
       "<table border=\"1\" class=\"dataframe\">\n",
       "  <thead>\n",
       "    <tr style=\"text-align: right;\">\n",
       "      <th></th>\n",
       "      <th>Logistic Regression</th>\n",
       "      <th>KNN</th>\n",
       "      <th>K-Means</th>\n",
       "      <th>Descision Tree</th>\n",
       "      <th>SVM</th>\n",
       "      <th>Naive Bayes</th>\n",
       "      <th>Random Forest</th>\n",
       "    </tr>\n",
       "  </thead>\n",
       "  <tbody>\n",
       "    <tr>\n",
       "      <th>Accuracy</th>\n",
       "      <td>1</td>\n",
       "      <td>0.94958</td>\n",
       "      <td>0.092437</td>\n",
       "      <td>0.87395</td>\n",
       "      <td>0.87395</td>\n",
       "      <td>0.89916</td>\n",
       "      <td>0.94958</td>\n",
       "    </tr>\n",
       "    <tr>\n",
       "      <th>AUC</th>\n",
       "      <td>1</td>\n",
       "      <td>0.925084</td>\n",
       "      <td>0</td>\n",
       "      <td>0.767256</td>\n",
       "      <td>0.49537</td>\n",
       "      <td>0.647306</td>\n",
       "      <td>0.953704</td>\n",
       "    </tr>\n",
       "    <tr>\n",
       "      <th>AUC cross val</th>\n",
       "      <td>[1.0, 0.9963592233009708, 1.0, 1.0, 1.0]</td>\n",
       "      <td>[0.8100728155339806, 0.9954490291262136, 0.991...</td>\n",
       "      <td>0</td>\n",
       "      <td>[0.6201456310679612, 0.9013956310679612, 0.927...</td>\n",
       "      <td>[0.5, 0.5, 0.5048543689320388, 0.5048543689320...</td>\n",
       "      <td>[0.5230582524271845, 0.7548543689320388, 0.775...</td>\n",
       "      <td>[0.7111650485436893, 0.9711771844660195, 0.989...</td>\n",
       "    </tr>\n",
       "    <tr>\n",
       "      <th>Confusion Matrix</th>\n",
       "      <td>[[11, 0], [0, 108]]</td>\n",
       "      <td>[[7, 4], [2, 106]]</td>\n",
       "      <td>[[11, 0], [108, 0]]</td>\n",
       "      <td>[[7, 4], [11, 97]]</td>\n",
       "      <td>[[7, 4], [11, 97]]</td>\n",
       "      <td>[[2, 9], [3, 105]]</td>\n",
       "      <td>[[6, 5], [1, 107]]</td>\n",
       "    </tr>\n",
       "  </tbody>\n",
       "</table>\n",
       "</div>"
      ],
      "text/plain": [
       "                                       Logistic Regression  \\\n",
       "Accuracy                                                 1   \n",
       "AUC                                                      1   \n",
       "AUC cross val     [1.0, 0.9963592233009708, 1.0, 1.0, 1.0]   \n",
       "Confusion Matrix                       [[11, 0], [0, 108]]   \n",
       "\n",
       "                                                                KNN  \\\n",
       "Accuracy                                                    0.94958   \n",
       "AUC                                                        0.925084   \n",
       "AUC cross val     [0.8100728155339806, 0.9954490291262136, 0.991...   \n",
       "Confusion Matrix                                 [[7, 4], [2, 106]]   \n",
       "\n",
       "                              K-Means  \\\n",
       "Accuracy                     0.092437   \n",
       "AUC                                 0   \n",
       "AUC cross val                       0   \n",
       "Confusion Matrix  [[11, 0], [108, 0]]   \n",
       "\n",
       "                                                     Descision Tree  \\\n",
       "Accuracy                                                    0.87395   \n",
       "AUC                                                        0.767256   \n",
       "AUC cross val     [0.6201456310679612, 0.9013956310679612, 0.927...   \n",
       "Confusion Matrix                                 [[7, 4], [11, 97]]   \n",
       "\n",
       "                                                                SVM  \\\n",
       "Accuracy                                                    0.87395   \n",
       "AUC                                                         0.49537   \n",
       "AUC cross val     [0.5, 0.5, 0.5048543689320388, 0.5048543689320...   \n",
       "Confusion Matrix                                 [[7, 4], [11, 97]]   \n",
       "\n",
       "                                                        Naive Bayes  \\\n",
       "Accuracy                                                    0.89916   \n",
       "AUC                                                        0.647306   \n",
       "AUC cross val     [0.5230582524271845, 0.7548543689320388, 0.775...   \n",
       "Confusion Matrix                                 [[2, 9], [3, 105]]   \n",
       "\n",
       "                                                      Random Forest  \n",
       "Accuracy                                                    0.94958  \n",
       "AUC                                                        0.953704  \n",
       "AUC cross val     [0.7111650485436893, 0.9711771844660195, 0.989...  \n",
       "Confusion Matrix                                 [[6, 5], [1, 107]]  "
      ]
     },
     "execution_count": 52,
     "metadata": {},
     "output_type": "execute_result"
    }
   ],
   "source": [
    "df_logistic_scoring.head()"
   ]
  },
  {
   "cell_type": "code",
   "execution_count": 53,
   "metadata": {},
   "outputs": [
    {
     "data": {
      "text/html": [
       "<div>\n",
       "<style scoped>\n",
       "    .dataframe tbody tr th:only-of-type {\n",
       "        vertical-align: middle;\n",
       "    }\n",
       "\n",
       "    .dataframe tbody tr th {\n",
       "        vertical-align: top;\n",
       "    }\n",
       "\n",
       "    .dataframe thead th {\n",
       "        text-align: right;\n",
       "    }\n",
       "</style>\n",
       "<table border=\"1\" class=\"dataframe\">\n",
       "  <thead>\n",
       "    <tr style=\"text-align: right;\">\n",
       "      <th></th>\n",
       "      <th>Linear Regression</th>\n",
       "      <th>Linear Regression Min</th>\n",
       "      <th>OLS</th>\n",
       "      <th>OLS Min</th>\n",
       "      <th>Decission Tree</th>\n",
       "      <th>Decission Tree Min</th>\n",
       "      <th>KNN</th>\n",
       "      <th>KNN Min</th>\n",
       "      <th>Random Forest</th>\n",
       "      <th>Random Forest Min</th>\n",
       "    </tr>\n",
       "  </thead>\n",
       "  <tbody>\n",
       "    <tr>\n",
       "      <th>R square</th>\n",
       "      <td>0.894287</td>\n",
       "      <td>0.692195</td>\n",
       "      <td>0.819976</td>\n",
       "      <td>0.665484</td>\n",
       "      <td>0.755775</td>\n",
       "      <td>0.542302</td>\n",
       "      <td>0.000000</td>\n",
       "      <td>0.00000</td>\n",
       "      <td>0.000000</td>\n",
       "      <td>0.008696</td>\n",
       "    </tr>\n",
       "    <tr>\n",
       "      <th>RMSE</th>\n",
       "      <td>5203.300913</td>\n",
       "      <td>5248.060219</td>\n",
       "      <td>0.000000</td>\n",
       "      <td>0.000000</td>\n",
       "      <td>7908.784209</td>\n",
       "      <td>6399.562940</td>\n",
       "      <td>7862.874151</td>\n",
       "      <td>6399.56294</td>\n",
       "      <td>7892.477727</td>\n",
       "      <td>6399.562940</td>\n",
       "    </tr>\n",
       "  </tbody>\n",
       "</table>\n",
       "</div>"
      ],
      "text/plain": [
       "          Linear Regression  Linear Regression Min       OLS   OLS Min  \\\n",
       "R square           0.894287               0.692195  0.819976  0.665484   \n",
       "RMSE            5203.300913            5248.060219  0.000000  0.000000   \n",
       "\n",
       "          Decission Tree  Decission Tree Min          KNN     KNN Min  \\\n",
       "R square        0.755775            0.542302     0.000000     0.00000   \n",
       "RMSE         7908.784209         6399.562940  7862.874151  6399.56294   \n",
       "\n",
       "          Random Forest  Random Forest Min  \n",
       "R square       0.000000           0.008696  \n",
       "RMSE        7892.477727        6399.562940  "
      ]
     },
     "execution_count": 53,
     "metadata": {},
     "output_type": "execute_result"
    }
   ],
   "source": [
    "#a reminder of how the linear regression scores look like\n",
    "df_linear_scoring.head()"
   ]
  },
  {
   "cell_type": "markdown",
   "metadata": {},
   "source": [
    "## Final Thoughts"
   ]
  },
  {
   "cell_type": "markdown",
   "metadata": {},
   "source": [
    "In this section we applied both linear and logistic regression to our data. Lets first discuss what we did with our linear regression models. We used 5 different linear regression models on our data to try and predict beds based on the total homeless population. We also used two different datasets one with all the data and another with the ouliers removed. All the models that used the datasets without the outliers performed worse across the board against their counter parts. In addition we had some models that were horrible because they had a R^2 score of 0. The best performing model we had was a simple Linear Regression model with a score of 0.89 and the Ordinary Least Square as a close second with 0.82. These a pretty good models in predicting the ammount of beds a state would get/use to help with their homeless population.\n",
    "\n",
    "In the logistic regression section we want to classify the states. However we did not have any columns we can use to classify them. So in order to be able to do some logistic regression we needed to create or determine a threshold for our data to be able to determine if the threshold is met and add it as a column. The threshold we used is called 'Able', we are going to classify if the state is able to handle their homeless popualtion based on the bed to homeless ratio. We will plot the distribution of the home to bed ratio and determine what threshold we will use to determine if a state is 'able'. Based on the distribution we got we decided to use a .50 ratio to determine if a state is 'Able'.\n",
    "\n",
    "In this section we did not use the DataFrame without the outliers because we saw that is performed poorly acroos the board and we need all states to be able to classify them. We used 7 different logistic regression models on our data. Almost all our models performed really well, with the exception of K-Means which gave an accuracy score of 0.09 which is very low. Our best performin model is a simple Logistic Regression which gave a perfect score or 1 or 100%. This score at first was very odd but after chaking that all the data was used properly it does not seem to be a mistake. "
   ]
  }
 ],
 "metadata": {
  "kernelspec": {
   "display_name": "Python 3",
   "language": "python",
   "name": "python3"
  },
  "language_info": {
   "codemirror_mode": {
    "name": "ipython",
    "version": 3
   },
   "file_extension": ".py",
   "mimetype": "text/x-python",
   "name": "python",
   "nbconvert_exporter": "python",
   "pygments_lexer": "ipython3",
   "version": "3.7.0"
  }
 },
 "nbformat": 4,
 "nbformat_minor": 2
}
